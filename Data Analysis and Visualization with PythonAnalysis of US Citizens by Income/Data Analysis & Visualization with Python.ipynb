{
 "cells": [
  {
   "cell_type": "markdown",
   "metadata": {
    "id": "RBgL2bqDjwN_"
   },
   "source": [
    "## Data Analysis & Visualization with Python:Analysis of US Citizens by Income Levels"
   ]
  },
  {
   "cell_type": "markdown",
   "metadata": {},
   "source": [
    "<a id=\"toc\"></a>\n",
    "\n",
    "## <p style=\"background-color:#9d4f8c; font-family:newtimeroman; color:#FFF9ED; font-size:175%; text-align:center; border-radius:10px 10px;\">Content</p>\n",
    "\n",
    "* [Introduction](#0)\n",
    "* [Dataset Info](#1)\n",
    "* [Importing Related Libraries](#2)\n",
    "* [Recognizing & Understanding Data](#3)\n",
    "* [Univariate & Multivariate Analysis](#4)    \n",
    "* [Other Specific Analysis Questions](#5)\n",
    "* [Dropping Similar & Unneccessary Features](#6)\n",
    "* [Handling with Missing Values](#7)\n",
    "* [Handling with Outliers](#8)    \n",
    "* [Final Step to make ready dataset for ML Models](#9)\n",
    "* [The End of the Project](#10)"
   ]
  },
  {
   "cell_type": "markdown",
   "metadata": {
    "id": "wN-5l4z7jwN_"
   },
   "source": [
    "## <p style=\"background-color:#9d4f8c; font-family:newtimeroman; color:#FFF9ED; font-size:175%; text-align:center; border-radius:10px 10px;\">Introduction</p>\n",
    "\n",
    "<a id=\"0\"></a>\n",
    "<a href=\"#toc\" class=\"btn btn-primary btn-sm\" role=\"button\" aria-pressed=\"true\" \n",
    "style=\"color:blue; background-color:#dfa8e4\" data-toggle=\"popover\">Content</a>\n",
    "\n",
    "One of the most important components to any data science experiment that doesn’t get as much importance as it should is **``Exploratory Data Analysis (EDA)``**. In short, EDA is **``\"A first look at the data\"``**. It is a critical step in analyzing the data from an experiment. It is used to understand and summarize the content of the dataset to ensure that the features which we feed to our machine learning algorithms are refined and we get valid, correctly interpreted results.\n",
    "In general, looking at a column of numbers or a whole spreadsheet and determining the important characteristics of the data can be very tedious and boring. Moreover, it is good practice to understand the problem statement and the data before you get your hands dirty, which in view, helps to gain a lot of insights. \n",
    "\n",
    "The adult dataset is from the 1996 Census database. It is also known as “Census Income” dataset. Details of this dataset can be found at the **[UCI Machine Learning Repository](https://archive.ics.uci.edu/ml/datasets/Adult)**. The problem statement here is how to explore and prepare the dataset for Machine Learning modelling where we may predict whether the income exceeds 50k a year or not based on the census data.\n",
    "\n",
    "# Aim of the Project\n",
    "\n",
    "Applying Exploratory Data Analysis (EDA) and preparing the data to implement the Machine Learning Algorithms;\n",
    "1. Analyzing the characteristics of individuals according to income groups\n",
    "2. Preparing data to create a model that will predict the income levels of people according to their characteristics (So the \"salary\" feature is the target feature)"
   ]
  },
  {
   "cell_type": "markdown",
   "metadata": {
    "id": "XzZP-nZ5jwOA"
   },
   "source": [
    "## <p style=\"background-color:#9d4f8c; font-family:newtimeroman; color:#FFF9ED; font-size:175%; text-align:center; border-radius:10px 10px;\">Dataset Info</p>\n",
    "\n",
    "<a id=\"1\"></a>\n",
    "<a href=\"#toc\" class=\"btn btn-primary btn-sm\" role=\"button\" aria-pressed=\"true\" \n",
    "style=\"color:blue; background-color:#dfa8e4\" data-toggle=\"popover\">Content</a>\n",
    "\n",
    "The Census Income dataset has 32561 entries. Each entry contains the following information about an individual:\n",
    "\n",
    "- **salary (target feature/label):** whether or not an individual makes more than $50,000 annually. (<= 50K, >50K)\n",
    "- **age:** the age of an individual. (Integer greater than 0)\n",
    "- **workclass:** a general term to represent the employment status of an individual. (Private, Self-emp-not-inc, Self-emp-inc, Federal-gov, Local-gov, State-gov, Without-pay, Never-worked)\n",
    "- **fnlwgt:** this is the number of people the census believes the entry represents. People with similar demographic characteristics should have similar weights.  There is one important caveat to remember about this statement. That is that since the CPS sample is actually a collection of 51 state samples, each with its own probability of selection, the statement only applies within state.(Integer greater than 0)\n",
    "- **education:** the highest level of education achieved by an individual. (Bachelors, Some-college, 11th, HS-grad, Prof-school, Assoc-acdm, Assoc-voc, 9th, 7th-8th, 12th, Masters, 1st-4th, 10th, Doctorate, 5th-6th, Preschool.)\n",
    "- **education-num:** the highest level of education achieved in numerical form. (Integer greater than 0)\n",
    "- **marital-status:** marital status of an individual. Married-civ-spouse corresponds to a civilian spouse while Married-AF-spouse is a spouse in the Armed Forces. Married-spouse-absent includes married people living apart because either the husband or wife was employed and living at a considerable distance from home (Married-civ-spouse, Divorced, Never-married, Separated, Widowed, Married-spouse-absent, Married-AF-spouse)\n",
    "- **occupation:** the general type of occupation of an individual. (Tech-support, Craft-repair, Other-service, Sales, Exec-managerial, Prof-specialty, Handlers-cleaners, Machine-op-inspct, Adm-clerical, Farming-fishing, Transport-moving, Priv-house-serv, Protective-serv, Armed-Forces)\n",
    "- **relationship:** represents what this individual is relative to others. For example an individual could be a Husband. Each entry only has one relationship attribute. (Wife, Own-child, Husband, Not-in-family, Other-relative, Unmarried)\n",
    "- **race:** Descriptions of an individual’s race. (White, Asian-Pac-Islander, Amer-Indian-Eskimo, Other, Black)\n",
    "- **sex:** the biological sex of the individual. (Male, female)\n",
    "- **capital-gain:** capital gains for an individual. (Integer greater than or equal to 0)\n",
    "- **capital-loss:** capital loss for an individual. (Integer greater than or equal to 0)\n",
    "- **hours-per-week:** the hours an individual has reported to work per week. (continuous)\n",
    "- **native-country:** country of origin for an individual (United-States, Cambodia, England, Puerto-Rico, Canada, Germany, Outlying-US(Guam-USVI-etc), India, Japan, Greece, South, China, Cuba, Iran, Honduras, Philippines, Italy, Poland, Jamaica, Vietnam, Mexico, Portugal, Ireland, France, Dominican-Republic, Laos, Ecuador, Taiwan, Haiti, Columbia, Hungary, Guatemala, Nicaragua, Scotland, Thailand, Yugoslavia, El-Salvador, Trinadad&Tobago, Peru, Hong, Holand-Netherlands)\n",
    "\n",
    "Having examined the features above, it can be concluded that some of the variables, such as **``fnlwgt``** are not related directly to the target variable **``income``** and are not self-explanatory. Therefore, they can be removed from the Dataset if Machine Learning model will be built. The continuous variable **``fnlwgt``** represents final weight, which is the number of units in the target population that the responding unit represents. The variable **``education_num``** stands for the number of years of education in total, which is a continuous representation of the discrete variable education. The variable **``relationship``** represents the responding unit’s role in the family. **``capital_gain``** and **``capital_loss``** are income from investment sources other than wage/salary."
   ]
  },
  {
   "cell_type": "markdown",
   "metadata": {},
   "source": [
    "## <p style=\"background-color:#9d4f8c; font-family:newtimeroman; color:#FFF9ED; font-size:175%; text-align:center; border-radius:10px 10px;\">How to Install/Enable Intellisense or Autocomplete in Jupyter Notebook</p>\n",
    "\n",
    "### Installing [jupyter_contrib_nbextensions](https://jupyter-contrib-nbextensions.readthedocs.io/en/latest/install.html)\n",
    "\n",
    "**To install the current version from The Python Package Index (PyPI), which is a repository of software for the Python programming language, simply type:**\n",
    "\n",
    "!pip install jupyter_contrib_nbextensions\n",
    "\n",
    "**Alternatively, you can install directly from the current master branch of the repository:**\n",
    "\n",
    "!pip install https://github.com/ipython-contrib/jupyter_contrib_nbextensions/tarball/master\n",
    "\n",
    "### Enabling [Intellisense or Autocomplete in Jupyter Notebook](https://botbark.com/2019/12/18/how-to-enable-intellisense-or-autocomplete-in-jupyter-notebook/)\n",
    "\n",
    "\n",
    "### Installing hinterland for jupyter without anaconda\n",
    "\n",
    "**``STEP 1:``** ``Open cmd prompt and run the following commands``\n",
    " 1) pip install jupyter_contrib_nbextensions<br>\n",
    " 2) pip install jupyter_nbextensions_configurator<br>\n",
    " 3) jupyter contrib nbextension install --user<br> \n",
    " 4) jupyter nbextensions_configurator enable --user<br>\n",
    "\n",
    "**``STEP 2:``** ``Open jupyter notebook``\n",
    " - click on nbextensions tab<br>\n",
    " - unckeck disable configuration for nbextensions without explicit compatibility<br>\n",
    " - put a check on Hinterland<br>\n",
    "\n",
    "**``Step 3:``** ``Open new python file and check autocomplete feature``\n",
    "\n",
    "[VIDEO SOURCE](https://www.youtube.com/watch?v=DKE8hED0fow)\n",
    "\n",
    "![Image_Assignment](https://i.ibb.co/RbmDmD6/E8-EED4-F3-B3-F4-4571-B6-A0-1-B3224-AAB060-4-5005-c.jpg)"
   ]
  },
  {
   "cell_type": "markdown",
   "metadata": {
    "id": "rvbIoNsjjwOD"
   },
   "source": [
    "## <p style=\"background-color:#9d4f8c; font-family:newtimeroman; color:#FFF9ED; font-size:175%; text-align:center; border-radius:10px 10px;\">Importing Related Libraries</p>\n",
    "\n",
    "<a id=\"2\"></a>\n",
    "<a href=\"#toc\" class=\"btn btn-primary btn-sm\" role=\"button\" aria-pressed=\"true\" \n",
    "style=\"color:blue; background-color:#dfa8e4\" data-toggle=\"popover\">Content</a>\n",
    "\n",
    "Once you've installed NumPy, Pandas, Matplotlib, Seaborn & other related libraries you need, you can import them as a library:"
   ]
  },
  {
   "cell_type": "code",
   "execution_count": 1,
   "metadata": {
    "id": "p7_KEHrAjwOE"
   },
   "outputs": [
    {
     "ename": "ModuleNotFoundError",
     "evalue": "No module named 'termcolor'",
     "output_type": "error",
     "traceback": [
      "\u001b[1;31m---------------------------------------------------------------------------\u001b[0m",
      "\u001b[1;31mModuleNotFoundError\u001b[0m                       Traceback (most recent call last)",
      "Cell \u001b[1;32mIn[1], line 7\u001b[0m\n\u001b[0;32m      5\u001b[0m \u001b[38;5;28;01mfrom\u001b[39;00m \u001b[38;5;21;01mmatplotlib\u001b[39;00m\u001b[38;5;21;01m.\u001b[39;00m\u001b[38;5;21;01mlines\u001b[39;00m \u001b[38;5;28;01mimport\u001b[39;00m Line2D\n\u001b[0;32m      6\u001b[0m \u001b[38;5;28;01mimport\u001b[39;00m \u001b[38;5;21;01mseaborn\u001b[39;00m \u001b[38;5;28;01mas\u001b[39;00m \u001b[38;5;21;01msns\u001b[39;00m\n\u001b[1;32m----> 7\u001b[0m \u001b[38;5;28;01mfrom\u001b[39;00m \u001b[38;5;21;01mtermcolor\u001b[39;00m \u001b[38;5;28;01mimport\u001b[39;00m colored\n\u001b[0;32m      9\u001b[0m \u001b[38;5;28;01mimport\u001b[39;00m \u001b[38;5;21;01mwarnings\u001b[39;00m\n\u001b[0;32m     10\u001b[0m warnings\u001b[38;5;241m.\u001b[39mfilterwarnings(\u001b[38;5;124m\"\u001b[39m\u001b[38;5;124mignore\u001b[39m\u001b[38;5;124m\"\u001b[39m)\n",
      "\u001b[1;31mModuleNotFoundError\u001b[0m: No module named 'termcolor'"
     ]
    }
   ],
   "source": [
    "import numpy as np\n",
    "import pandas as pd\n",
    "import matplotlib.pyplot as plt\n",
    "from matplotlib.patches import Patch\n",
    "from matplotlib.lines import Line2D\n",
    "import seaborn as sns\n",
    "from termcolor import colored\n",
    "\n",
    "import warnings\n",
    "warnings.filterwarnings(\"ignore\")\n",
    "warnings.warn(\"this will not show\")\n",
    "\n",
    "plt.rcParams[\"figure.figsize\"] = (10, 6)\n",
    "\n",
    "sns.set_style(\"whitegrid\")\n",
    "# to disable scientific notation \n",
    "pd.set_option('display.float_format', lambda x: '%.3f' % x)\n",
    "# to reset to the original settings we can use\n",
    "# pd.reset_option('display.float_format', silent=True)\n",
    "\n",
    "# Set it None to display all rows in the dataframe\n",
    "# pd.set_option('display.max_rows', None)\n",
    "\n",
    "# Set it to None to display all columns in the dataframe\n",
    "pd.set_option('display.max_columns', None)\n",
    "\n",
    "# Plotly Express can be used as a Pandas .plot() backend.\n",
    "# pd.options.plotting.backend = \"plotly\""
   ]
  },
  {
   "cell_type": "code",
   "execution_count": null,
   "metadata": {},
   "outputs": [],
   "source": [
    "def show_nulls(data):\n",
    "    \n",
    "    '''\n",
    "    \n",
    "    This function plots missing values for each column by observation in the dataset.\n",
    "    \n",
    "    ''' \n",
    "    plt.figure(figsize=(10, 5))\n",
    "\n",
    "    sns.displot(data=data.isnull().melt(value_name=\"missing\"),\n",
    "                y=\"variable\",\n",
    "                hue=\"missing\",\n",
    "                multiple=\"fill\",\n",
    "                height=9.25)\n",
    "\n",
    "    plt.axvline(0.2, color=\"r\")\n",
    "    plt.show()"
   ]
  },
  {
   "cell_type": "code",
   "execution_count": null,
   "metadata": {},
   "outputs": [],
   "source": [
    "def show_density(col):\n",
    "    \n",
    "    '''\n",
    "    \n",
    "    This function plots a 'density plot' which is a representation of the distribution of a numeric variableand display it. \n",
    "    It uses a kernel density estimate to show the probability density function of the variable.\n",
    "    \n",
    "    '''    \n",
    "    from matplotlib import pyplot as plt\n",
    "\n",
    "    fig = plt.figure(figsize=(15, 5))\n",
    "\n",
    "    # Plot density\n",
    "    col.plot.density()\n",
    "\n",
    "    # Add titles and labels\n",
    "    plt.title('Data Density', fontsize=15)\n",
    "\n",
    "    # Show the mean, median, and mode\n",
    "    plt.axvline(x=col.mean(),    color='cyan',   linestyle='dashed', linewidth=2, label='Mean')\n",
    "    plt.axvline(x=col.median(),  color='red',    linestyle='dashed', linewidth=2, label='Median')\n",
    "    plt.axvline(x=col.mode()[0], color='yellow', linestyle='dashed', linewidth=2, label='Mode')\n",
    "    plt.legend()\n",
    "\n",
    "    # Show the figure\n",
    "    plt.show()"
   ]
  },
  {
   "cell_type": "code",
   "execution_count": null,
   "metadata": {},
   "outputs": [],
   "source": [
    "def show_distribution(col):\n",
    "    \n",
    "    '''\n",
    "    \n",
    "    This function will prints a Histogram and box plot which are graphical representations \n",
    "    for the frequency of numeric data values. It aims to describe the data and explore \n",
    "    the central tendency and variability before using advanced statistical analysis techniques. \n",
    "    \n",
    "    '''\n",
    "    # Get statistics\n",
    "    from termcolor import colored\n",
    "\n",
    "    print(colored('Statistical Calculations :', 'red', attrs=['bold']))\n",
    "    print(colored('-'*26, 'red', attrs=['bold']))    \n",
    "    min_val = col.min()\n",
    "    max_val = col.max()\n",
    "    mean_val = col.mean()\n",
    "    med_val = col.median()\n",
    "    mod_val = col.mode()[0]\n",
    "\n",
    "    print(colored('Minimum:{:>7.2f}\\nMean:{:>10.2f}\\nMedian:{:>8.2f}\\nMode:{:>10.2f}\\nMaximum:{:>7.2f}\\n'.format(min_val,\n",
    "                                                                                             mean_val,\n",
    "                                                                                             med_val,\n",
    "                                                                                             mod_val,\n",
    "                                                                                             max_val), 'blue', attrs=['bold']))\n",
    "    \n",
    "    \n",
    "#     # Get statistics\n",
    "#     from termcolor import colored\n",
    "\n",
    "#     print(colored('Statistical Calculations :', 'red', attrs=['bold']))\n",
    "#     print(colored('-'*26, 'red', attrs=['bold']))\n",
    "#     min_val = df[col1].min()\n",
    "#     max_val = df[col1].max()\n",
    "#     mean_val = df[col1].mean()\n",
    "#     med_val = df[col1].median()\n",
    "#     mod_val = df[col1].mode()[0]\n",
    "\n",
    "#     print(colored('Minimum:{:>7.2f}\\nMean:{:>10.2f}\\nMedian:{:>8.2f}\\nMode:{:>10.2f}\\nMaximum:{:>7.2f}\\n'.format(min_val,\n",
    "#                                                                                              mean_val,\n",
    "#                                                                                              med_val,\n",
    "#                                                                                              mod_val,\n",
    "#                                                                                              max_val), 'blue', attrs=['bold']))\n",
    "    \n",
    "    \n",
    "    \n",
    "    # Create a figure for 2 subplots (2 rows, 1 column)\n",
    "    fig, ax = plt.subplots(2, 1, figsize=(15, 15))\n",
    "\n",
    "    # Plot the histogram   \n",
    "    ax[0].hist(col, bins=30)\n",
    "    ax[0].set_ylabel('Frequency', fontsize=10)\n",
    "\n",
    "    # Add lines for the mean, median, and mode\n",
    "    ax[0].axvline(x=min_val,  color='yellow',     linestyle='dashed', linewidth=2, label='Minimum')\n",
    "    ax[0].axvline(x=mean_val, color='lightgreen', linestyle='dashed', linewidth=2, label='Mean')\n",
    "    ax[0].axvline(x=med_val,  color='cyan',       linestyle='dashed', linewidth=2, label='Median')\n",
    "    ax[0].axvline(x=mod_val,  color='purple',     linestyle='dashed', linewidth=2, label='Mode')\n",
    "    ax[0].axvline(x=max_val,  color='red',        linestyle='dashed', linewidth=2, label='Maximum')\n",
    "    ax[0].legend(loc='upper right')\n",
    "\n",
    "    # Plot the boxplot   \n",
    "    medianprops = dict(linestyle='-', linewidth=3, color='m')\n",
    "    boxprops=dict(linestyle='-', linewidth=1.5)\n",
    "    meanprops={\"marker\":\"d\", \"markerfacecolor\":\"red\", \"markeredgecolor\":\"black\", \"markersize\":\"10\"}\n",
    "    flierprops={'marker': 'o', 'markersize': 8, 'markerfacecolor': 'fuchsia'}\n",
    "    \n",
    "    ax[1].boxplot(col, \n",
    "                  vert=False,\n",
    "                  notch=True, \n",
    "                  patch_artist=False,\n",
    "                  medianprops=medianprops,\n",
    "                  flierprops=flierprops,\n",
    "                  showmeans=True,\n",
    "                  meanprops=meanprops)\n",
    "    \n",
    "    ax[1].set_xlabel('value', fontsize=10)\n",
    "    \n",
    "\n",
    "    # Add a title to the Figure\n",
    "    fig.suptitle('Data Distribution', fontsize=15)"
   ]
  },
  {
   "cell_type": "code",
   "execution_count": null,
   "metadata": {},
   "outputs": [],
   "source": [
    "def show_compare(df, col1, col2):\n",
    "    \n",
    "    '''\n",
    "    This function makes comparison among subcategories of target variable according to another variable.\n",
    "    ''' \n",
    "    from matplotlib.patches import Patch\n",
    "    from matplotlib.lines import Line2D\n",
    "    \n",
    "    # Get statistics\n",
    "    from termcolor import colored\n",
    "\n",
    "    print(colored('Statistical Calculations :', 'red', attrs=['bold']))\n",
    "    print(colored('-'*26, 'red', attrs=['bold']))\n",
    "    min_val = df[col1].min()\n",
    "    max_val = df[col1].max()\n",
    "    mean_val = df[col1].mean()\n",
    "    med_val = df[col1].median()\n",
    "    mod_val = df[col1].mode()[0]\n",
    "\n",
    "    print(colored('Minimum:{:>7.2f}\\nMean:{:>10.2f}\\nMedian:{:>8.2f}\\nMode:{:>10.2f}\\nMaximum:{:>7.2f}\\n'.format(min_val,\n",
    "                                                                                             mean_val,\n",
    "                                                                                             med_val,\n",
    "                                                                                             mod_val,\n",
    "                                                                                             max_val), 'blue', attrs=['bold']))\n",
    "\n",
    "    fig, ax = plt.subplots(figsize=(12, 6))\n",
    "\n",
    "    ax = sns.kdeplot(data=df, x=col1, hue=col2, fill=True)\n",
    "    \n",
    "    plt.title(\"Data Density\", fontsize=20, color=\"darkblue\")\n",
    "    ax.ticklabel_format(style='plain')\n",
    "\n",
    "    h, l = ax.get_legend_handles_labels()\n",
    "\n",
    "    legend_elements1 = [Line2D([0], [0], marker='s', color='lightblue', label=df[col2].unique()[0], markersize=15),\n",
    "                       Line2D([0], [0], marker='s', color='orange', label=df[col2].unique()[1], markersize=15)]\n",
    "    l1 = plt.legend(handles=legend_elements1, title='Salary Type', bbox_to_anchor=(0.84, 1))\n",
    "\n",
    "    legend_elements2 = [Line2D([0], [0], color='green',  label='Overall Mean',   markersize=15, linestyle='dashed'),\n",
    "                        Line2D([0], [0], color='blue',   label='Group Mean', markersize=15, linestyle='-'),\n",
    "                        Line2D([0], [0],  color='orange', label='Group Mean', markersize=15, linestyle='-'),\n",
    "                        Line2D([0], [0],  color='red',    label='Median', markersize=15, linestyle='dashed'),\n",
    "                        Line2D([0], [0],  color='yellow', label=\"Mode\",   markersize=15, linestyle='dashed')]\n",
    "    l2 = plt.legend(handles=legend_elements2,\n",
    "                    title=f\"Overall Mean {round(df[col1].mean(), 2)}\\\n",
    "                    \\nGroup Mean {round(df.groupby([col2])[col1].mean()[0], 2)}\\\n",
    "                    \\nGroup Mean {round(df.groupby([col2])[col1].mean()[1], 2)}\\\n",
    "                    \\nOverall Median {round(np.median(df[col1]), 2)}\\\n",
    "                    \\nOverall Mode {round(df[col1].mode()[0], 2)}\", \n",
    "                    bbox_to_anchor=(0.9, 0.81))\n",
    "\n",
    "    plt.axvline(x=df[col1].mean(),    color='green',   linestyle='dashed', linewidth=2, label='Overall Mean')\n",
    "    plt.axvline(x=df[col1].median(),  color='red',     linestyle='dashed', linewidth=2, label='Overall Median')\n",
    "    plt.axvline(x=df[col1].mode()[0], color='yellow',  linestyle='dashed', linewidth=2, label='Overall Mode')\n",
    "    \n",
    "    \n",
    "    group_mean1 = df.groupby([col2])[col1].mean()[0]\n",
    "    group_mean2 = df.groupby([col2])[col1].mean()[1]\n",
    "    \n",
    "    plt.axvline(x=group_mean1, color='blue',  linestyle='-', linewidth=2, label='Group Mean')\n",
    "    plt.axvline(x=group_mean2, color='orange',  linestyle='-', linewidth=2, label='Group Mean')    \n",
    "\n",
    "\n",
    "    ax.add_artist(l1); # we need this because the 2nd call to legend() erases the first one"
   ]
  },
  {
   "cell_type": "markdown",
   "metadata": {
    "id": "12VFNmTfjwOG"
   },
   "source": [
    "### <p style=\"background-color:#9d4f8c; font-family:newtimeroman; color:#FFF9ED; font-size:150%; text-align:left; border-radius:10px 10px;\">Reading the data from file</p>"
   ]
  },
  {
   "cell_type": "code",
   "execution_count": null,
   "metadata": {
    "id": "p0ntrObJjwOG"
   },
   "outputs": [],
   "source": [
    "df0 = pd.read_csv(\"adult_eda.csv\", sep=\",\")\n",
    "df = df0.copy()"
   ]
  },
  {
   "cell_type": "markdown",
   "metadata": {
    "id": "Y_VGwqWCjwOH"
   },
   "source": [
    "## <p style=\"background-color:#9d4f8c; font-family:newtimeroman; color:#FFF9ED; font-size:175%; text-align:center; border-radius:10px 10px;\">Recognizing and Understanding Data</p>\n",
    "\n",
    "<a id=\"3\"></a>\n",
    "<a href=\"#toc\" class=\"btn btn-primary btn-sm\" role=\"button\" aria-pressed=\"true\" \n",
    "style=\"color:blue; background-color:#dfa8e4\" data-toggle=\"popover\">Content</a>\n",
    "\n",
    "### 1.Try to understand what the data looks like\n",
    "- Check the head, shape, data-types of the features.\n",
    "- Check if there are some dublicate rows or not. If there are, then drop them. \n",
    "- Check the statistical values of features.\n",
    "- If needed, rename the columns' names for easy use. \n",
    "- Basically check the missing values."
   ]
  },
  {
   "cell_type": "markdown",
   "metadata": {},
   "source": [
    "📝 **[head()](https://pandas.pydata.org/docs/reference/api/pandas.DataFrame.head.html)** function is used to access the first n rows of a dataframe or series."
   ]
  },
  {
   "cell_type": "code",
   "execution_count": null,
   "metadata": {
    "id": "qY6xhhp2jwOI",
    "outputId": "d3b46928-6943-414e-9535-dd17f5ce662a",
    "scrolled": true
   },
   "outputs": [],
   "source": [
    "df.head()"
   ]
  },
  {
   "cell_type": "markdown",
   "metadata": {},
   "source": [
    "📝 The **[shape](https://pandas.pydata.org/pandas-docs/version/0.23/generated/pandas.DataFrame.shape.html)** attribute of pandas demonstrates the number of rows and columns as a tuple stored in the given DataFrame. "
   ]
  },
  {
   "cell_type": "code",
   "execution_count": null,
   "metadata": {
    "id": "v4UmPCFQjwOJ",
    "outputId": "705ad890-8d22-4084-bf6f-88336950ec24",
    "scrolled": true
   },
   "outputs": [],
   "source": [
    "df.shape"
   ]
  },
  {
   "cell_type": "markdown",
   "metadata": {},
   "source": [
    "**There are 32561 samples in the dataset. There are 15 columns (features) in the dataset including both categorical and numerical ones.**"
   ]
  },
  {
   "cell_type": "markdown",
   "metadata": {},
   "source": [
    "📝 The **[info()](https://pandas.pydata.org/docs/reference/api/pandas.DataFrame.info.html)** method prints information about the DataFrame. The information contains the number of columns, column labels, column data types, memory usage, range index, and the number of cells in each column (non-null values)."
   ]
  },
  {
   "cell_type": "code",
   "execution_count": null,
   "metadata": {
    "id": "aZMHmmI2jwOJ",
    "outputId": "73024227-72fb-42e0-dc1f-64c6beb85af2"
   },
   "outputs": [],
   "source": [
    "# Dataset information\n",
    "\n",
    "print(colored('US Citizens Income Levels Dataset Information:\\n', 'blue', attrs=['bold']))\n",
    "df.info()"
   ]
  },
  {
   "cell_type": "markdown",
   "metadata": {},
   "source": [
    "**The columns of education-num and relationship seems to have missing values. However, we are not sure if the others have some inappropriate values.**"
   ]
  },
  {
   "cell_type": "markdown",
   "metadata": {},
   "source": [
    "📝 **[duplicated()](https://pandas.pydata.org/docs/reference/api/pandas.DataFrame.duplicated.html)** method is used to find duplicate rows in a DataFrame. It returns a boolean series which identifies whether a row is duplicate or unique."
   ]
  },
  {
   "cell_type": "code",
   "execution_count": null,
   "metadata": {
    "id": "m5Z7A1ynjwOJ",
    "outputId": "b62d0c91-71dd-4914-f48d-93058bb92ebb"
   },
   "outputs": [],
   "source": [
    "# Checking and detecting the duplicated rows\n",
    "\n",
    "df.duplicated().value_counts()  "
   ]
  },
  {
   "cell_type": "markdown",
   "metadata": {},
   "source": [
    "📝 Pandas **[drop_duplicates()](https://pandas.pydata.org/docs/reference/api/pandas.DataFrame.drop_duplicates.html)** method helps in removing duplicates from the data frame."
   ]
  },
  {
   "cell_type": "code",
   "execution_count": null,
   "metadata": {
    "id": "1KZTgV6LjwOK"
   },
   "outputs": [],
   "source": [
    "# Drop Duplicated rows with df.drop_duplicates(inplace=True) permanently\n",
    "\n",
    "df.drop_duplicates(keep='first', inplace=True)  "
   ]
  },
  {
   "cell_type": "code",
   "execution_count": null,
   "metadata": {
    "id": "T9kdEoIAjwOK",
    "outputId": "1b213f35-ecef-4026-e8d8-21dc23efcd53"
   },
   "outputs": [],
   "source": [
    "# checking the shape of the dataset after droping the duplicated rows \n",
    "\n",
    "df.shape"
   ]
  },
  {
   "cell_type": "code",
   "execution_count": null,
   "metadata": {},
   "outputs": [],
   "source": [
    "# Checking and detecting the duplicated rows\n",
    "\n",
    "df.duplicated().value_counts()  "
   ]
  },
  {
   "cell_type": "markdown",
   "metadata": {},
   "source": [
    "What happened❓ Even if ``drop_duplicates()`` method worked here, you should be careful when there have been similarities among some features, such as \"education\" vs \"education-num\" & \"relationship vs \"marital-status\" like in our case. We highly recommend you tackle with duplicates after getting some insights for deciding which one is picked up for the analysis and handling NaN values. Why❓ 🤔"
   ]
  },
  {
   "cell_type": "code",
   "execution_count": null,
   "metadata": {},
   "outputs": [],
   "source": [
    "def check_obj_columns(df):\n",
    "    '''\n",
    "    Returns nothing or column/s which has/have mixed object types.\n",
    "    '''    \n",
    "    \n",
    "    tdf = df.select_dtypes(include=['object']).applymap(type)\n",
    "    for col in tdf:\n",
    "        if len(set(tdf[col].values)) > 1:\n",
    "            print(\"Column {} has mixed object types.\".format(col))\n",
    "\n",
    "check_obj_columns(df)"
   ]
  },
  {
   "cell_type": "code",
   "execution_count": null,
   "metadata": {},
   "outputs": [],
   "source": [
    "df.select_dtypes(include=['object']).applymap(type)"
   ]
  },
  {
   "cell_type": "markdown",
   "metadata": {},
   "source": [
    "Even if the dtype of \"relationship\" feature in our DataFrame is \"Object\", it seems that \"relationship\" feature has more than one types of data. For example, the \"relationship\" feature has different types for some elements including``<class 'str'>`` at the index number 0 and ``<class 'float'>`` at the index number 32559."
   ]
  },
  {
   "cell_type": "code",
   "execution_count": null,
   "metadata": {},
   "outputs": [],
   "source": [
    "df.info()"
   ]
  },
  {
   "cell_type": "code",
   "execution_count": null,
   "metadata": {},
   "outputs": [],
   "source": [
    "display(df[\"workclass\"].apply(type).value_counts())\n",
    "display(df[\"relationship\"].apply(type).value_counts())\n",
    "\n",
    "# As seen here, while \"workclass\" feature has 1 type (<class 'str'>) of data,  \n",
    "# \"relationship\" feature has 2 types (<class 'str'> and <class 'float'>) of data even if its dtype is \"Object\""
   ]
  },
  {
   "cell_type": "markdown",
   "metadata": {},
   "source": [
    "In this given case, the problem is the mixed types \"relationship\" column have. As you remember from our sessions, in Pandas the object type can hold different types which can create a tricky situation."
   ]
  },
  {
   "cell_type": "code",
   "execution_count": null,
   "metadata": {},
   "outputs": [],
   "source": [
    "df[\"relationship\"]"
   ]
  },
  {
   "cell_type": "code",
   "execution_count": null,
   "metadata": {},
   "outputs": [],
   "source": [
    "df[\"relationship\"].value_counts(dropna=False)"
   ]
  },
  {
   "cell_type": "code",
   "execution_count": null,
   "metadata": {},
   "outputs": [],
   "source": [
    "print(\"The value at the index of '32559' is \", end='')\n",
    "print(colored(df.loc[32559][\"relationship\"], 'blue', attrs=['bold']))\n",
    "print(\"The type of element: \", end='')\n",
    "print(colored(type(df.loc[32559][\"relationship\"]), 'blue', attrs=['bold']))\n",
    "print(colored(\"*\"*50, 'green', attrs=['bold']))\n",
    "\n",
    "print(\"The value at the index of '0' is \", end='')\n",
    "print(colored(df.loc[0][\"relationship\"], 'red', attrs=['bold']))\n",
    "print(\"The type of element: \", end='')\n",
    "print(colored(type(df.loc[0][\"relationship\"]), 'red', attrs=['bold']))\n",
    "print(colored(\"*\"*50, 'green', attrs=['bold']))\n",
    "\n",
    "print(\"The dtype of 'relationship' feature is \", end='')\n",
    "print(colored(df[\"relationship\"].dtypes, 'magenta', attrs=['bold']))"
   ]
  },
  {
   "cell_type": "markdown",
   "metadata": {},
   "source": [
    "**Some Remarks on Duplicated Values :** Duplicated values will NOT be handled for now since there have been similarities among some features, such as \"relationship and \"marital-status\", when their unique values are compared. After deciding which one is picked up for the analysis and handling NaN values, the consideration will be taken again."
   ]
  },
  {
   "cell_type": "markdown",
   "metadata": {},
   "source": [
    "📝 The **[describe()](https://pandas.pydata.org/docs/reference/api/pandas.DataFrame.describe.html)** method computes and displays summary statistics for a Python dataframe. (It also operates on dataframe columns and Pandas series objects.) So if you have a Pandas dataframe or a Series object, you can use the describe method and it will calculate some statistical data like percentile, mean and std of the numerical values of the Series or DataFrame. It analyzes both numeric and object series and also the DataFrame column sets of mixed data types."
   ]
  },
  {
   "cell_type": "code",
   "execution_count": null,
   "metadata": {
    "id": "xocO27OejwOK",
    "outputId": "e189a5be-797d-4da7-8d20-18527f75b6a7"
   },
   "outputs": [],
   "source": [
    "# Descriptive Statistics of the dataset\n",
    "\n",
    "df.describe().T"
   ]
  },
  {
   "cell_type": "markdown",
   "metadata": {},
   "source": [
    "**Rename the features of;**\n",
    "\n",
    "**``\"education-num\"``**, **``\"marital-status\"``**, **``\"capital-gain\"``**, **``\"capital-loss\"``**, **``\"hours-per-week\"``**, **``\"native-country``**\", and **``\"sex\"``** as\n",
    "**``\"education_num\"``**, **``\"marital_status\"``**, **``\"capital_gain\"``**, **``\"capital_loss\"``**, **``\"hours_per_week\"``**, **``\"native_country\"``**, and **``\"gender\"``**, respectively and permanently."
   ]
  },
  {
   "cell_type": "markdown",
   "metadata": {},
   "source": [
    "📝 Pandas **[rename()](https://pandas.pydata.org/docs/reference/api/pandas.DataFrame.rename.html)** method is used to rename any index, column or row. Renaming of column can also be done by dataframe."
   ]
  },
  {
   "cell_type": "code",
   "execution_count": null,
   "metadata": {
    "id": "lqwAJa6LjwOL"
   },
   "outputs": [],
   "source": [
    "# Changing the names of some columns for convenience\n",
    "\n",
    "df.rename(columns={\"education-num\" : \"education_num\",\n",
    "                   \"marital-status\" : \"marital_status\",\n",
    "                   \"capital-gain\" : \"capital_gain\",\n",
    "                   \"capital-loss\": \"capital_loss\",\n",
    "                   \"hours-per-week\" : \"hours_per_week\",\n",
    "                   \"native-country\" : \"native_country\",\n",
    "                   \"sex\" : \"gender\"},\n",
    "          inplace=True)"
   ]
  },
  {
   "cell_type": "markdown",
   "metadata": {},
   "source": [
    "📝 Pandas **[isnull()](https://pandas.pydata.org/docs/reference/api/pandas.DataFrame.isnull.html)** & **[sum()](https://pandas.pydata.org/docs/reference/api/pandas.DataFrame.sum.html)** together return the number of missing values in the columns of any given dataframe."
   ]
  },
  {
   "cell_type": "code",
   "execution_count": null,
   "metadata": {
    "id": "NRPHVVevjwOL",
    "outputId": "d6632665-e494-4cf9-a58a-a78fedb33774",
    "scrolled": true
   },
   "outputs": [],
   "source": [
    "# Checking the sum of Missing Values per column\n",
    "\n",
    "df.isnull().sum() "
   ]
  },
  {
   "cell_type": "code",
   "execution_count": null,
   "metadata": {
    "id": "y3vNp2sejwOL",
    "outputId": "abcc4f9e-ce08-4321-ef4f-b7e0ced56bf2"
   },
   "outputs": [],
   "source": [
    "# Check the Percentage of Missing Values for each column. len(df): 32537\n",
    "\n",
    "df.isnull().sum() / df.shape[0] * 100  "
   ]
  },
  {
   "cell_type": "code",
   "execution_count": null,
   "metadata": {},
   "outputs": [],
   "source": [
    "print(colored('Missing Value Information Per Column:\\n', 'blue', attrs=['bold']))\n",
    "missing_count = df.isnull().sum()\n",
    "missing_per = df.isnull().sum()/df.shape[0]*100\n",
    "\n",
    "missing_df = pd.concat({\"missing_count\": missing_count, \"missing_percentage\": missing_per}, axis=1)\n",
    "missing_df"
   ]
  },
  {
   "cell_type": "code",
   "execution_count": null,
   "metadata": {},
   "outputs": [],
   "source": [
    "show_nulls(df)"
   ]
  },
  {
   "cell_type": "markdown",
   "metadata": {},
   "source": [
    "**Some Remarks on Missing Values:** There is a high number of missing values in the Relationship column. People might prefer not to disclose their relationships in the family or hesitate to answer as \"not-in-family\", which might be a sensitive/personal issue. Even if its percentage is small, Education column is also missing with the value of 2.5% of the inputs. There might be some individuals who never attended a school as there is no option given in the survey or they might hesitate to disclose their educational background."
   ]
  },
  {
   "cell_type": "markdown",
   "metadata": {
    "id": "3QuB60ZKjwOM"
   },
   "source": [
    "### 2.Look at the value counts of columns that have object datatype and detect strange values apart from the NaN Values"
   ]
  },
  {
   "cell_type": "markdown",
   "metadata": {},
   "source": [
    "📝 Pandas **[columns](https://pandas.pydata.org/docs/reference/api/pandas.DataFrame.columns.html)** attribute return the column labels of the given Dataframe."
   ]
  },
  {
   "cell_type": "code",
   "execution_count": null,
   "metadata": {
    "id": "yRi85HypjwOM",
    "outputId": "a5a088f0-8506-417c-e565-3fa6fe7b2b14"
   },
   "outputs": [],
   "source": [
    "df.columns"
   ]
  },
  {
   "cell_type": "code",
   "execution_count": null,
   "metadata": {
    "id": "ksU6DZ2ZjwON",
    "outputId": "40e1104c-e5ec-4a36-c0a1-f29e615ae517"
   },
   "outputs": [],
   "source": [
    "# Descriptive Statistics of Categorical Features in the Dataset\n",
    "# So we selected the categorical columns using the select_dtypes() function.\n",
    "\n",
    "print(colored('Descriptive Statistics of Categorical Features:\\n', 'blue', attrs=['bold']))\n",
    "df.describe(include=\"object\").T"
   ]
  },
  {
   "cell_type": "markdown",
   "metadata": {},
   "source": [
    "📝 The **[select_dtypes()](https://pandas.pydata.org/docs/reference/api/pandas.DataFrame.select_dtypes.html)** method returns a new DataFrame that includes/excludes columns of the specified dtype(s). Use the include parameter to specify the included columns, or use the exclude parameter to specify which columns to exclude."
   ]
  },
  {
   "cell_type": "code",
   "execution_count": null,
   "metadata": {
    "id": "-I079o7-jwON",
    "outputId": "1b614b59-7e2d-4b8f-f61b-b0755a63ba96"
   },
   "outputs": [],
   "source": [
    "object_col = df.select_dtypes(include='object').columns\n",
    "object_col"
   ]
  },
  {
   "cell_type": "code",
   "execution_count": null,
   "metadata": {
    "id": "FM8sgFTQjwON",
    "outputId": "c0318cba-8524-48e9-dc63-056d6660cb96",
    "scrolled": false
   },
   "outputs": [],
   "source": [
    "# Checking uniques and their numbers at Categorical Features in the Dataset\n",
    "\n",
    "for col in object_col:\n",
    "    print(col)\n",
    "    print(\"--\"*13)\n",
    "    print(df[col].value_counts(dropna=False))\n",
    "    print(\"--\"*20)"
   ]
  },
  {
   "cell_type": "markdown",
   "metadata": {},
   "source": [
    "📝 The **[isin()](https://pandas.pydata.org/docs/reference/api/pandas.DataFrame.isin.html)** method checks if the Dataframe contains the specified value(s).\n",
    "\n",
    "It returns a DataFrame similar to the original DataFrame, but the original values have been replaced with True if the value was one of the specified values, otherwise False."
   ]
  },
  {
   "cell_type": "code",
   "execution_count": null,
   "metadata": {
    "id": "2HjdyNyAjwON",
    "outputId": "4e209cc2-5785-4f5d-a3df-eadbae0a65c8",
    "scrolled": false
   },
   "outputs": [],
   "source": [
    "# Checking if any column includes \"?\" as an input\n",
    "\n",
    "df[df.isin(['?'])].any()\n",
    "\n",
    "# df.isin([\"?\"]).sum(axis=0)"
   ]
  },
  {
   "cell_type": "markdown",
   "metadata": {},
   "source": [
    "📝 **Some Remarks on \"?\" Mark:** If the questions for the workclass, occupation, and native country columns are drop-down or multiple-choice style with the pre-determined answer choices, some people might not be able to fit in and/or might submit a question mark as their answers. There is another posibility that workclass and occupation items are not very clear to understand for some people.\n",
    "\n",
    "📝 **The important point** is that the incomplete/misleading data can only be discarded/excluded if the test suggest that they are **[Missing Completely At Random (MCAR)](https://towardsdatascience.com/handling-missing-data-in-machine-learning-d7acac44bef9)**; otherwise, as a Data Analyst, we have to treat the data and cannot discard them to determine the underlying patterns in the dataset. This decision should be a part of our data screening process. "
   ]
  },
  {
   "cell_type": "markdown",
   "metadata": {
    "id": "tRENVPjsjwOO"
   },
   "source": [
    "## <p style=\"background-color:#9d4f8c; font-family:newtimeroman; color:#FFF9ED; font-size:175%; text-align:center; border-radius:10px 10px;\">Univariate & Multivariate Analysis</p>\n",
    "\n",
    "<a id=\"4\"></a>\n",
    "<a href=\"#toc\" class=\"btn btn-primary btn-sm\" role=\"button\" aria-pressed=\"true\" \n",
    "style=\"color:blue; background-color:#dfa8e4\" data-toggle=\"popover\">Content</a>\n",
    "\n",
    "Examine all features (first target feature(\"salary\"), then numeric ones, lastly categoric ones) separetly from different aspects according to target feature.\n",
    "\n",
    "**to-do list for numeric features:**\n",
    "1. Check the boxplot to see extreme values \n",
    "2. Check the histplot/kdeplot to see distribution of feature\n",
    "3. Check the statistical values\n",
    "4. Check the boxplot and histplot/kdeplot by \"salary\" levels\n",
    "5. Check the statistical values by \"salary\" levels\n",
    "6. Write down the conclusions you draw from your analysis\n",
    "\n",
    "**to-do list for categoric features:**\n",
    "1. Find the features which contains similar values, examine the similarities and analyze them together \n",
    "2. Check the count/percentage of person in each categories and visualize it with a suitable plot\n",
    "3. If need, decrease the number of categories by combining similar categories\n",
    "4. Check the count of person in each \"salary\" levels by categories and visualize it with a suitable plot\n",
    "5. Check the percentage distribution of person in each \"salary\" levels by categories and visualize it with suitable plot\n",
    "6. Check the count of person in each categories by \"salary\" levels and visualize it with a suitable plot\n",
    "7. Check the percentage distribution of person in each categories by \"salary\" levels and visualize it with suitable plot\n",
    "8. Write down the conclusions you draw from your analysis\n",
    "\n",
    "📝 **Note :** Instruction/direction for each feature is available under the corresponding feature in detail, as well."
   ]
  },
  {
   "cell_type": "markdown",
   "metadata": {
    "id": "FWVwlGMnjwOO"
   },
   "source": [
    "## Salary (Target Feature)"
   ]
  },
  {
   "cell_type": "markdown",
   "metadata": {
    "id": "aZEah_LljwOO"
   },
   "source": [
    "**Check the count of person in each \"salary\" levels and visualize it with a countplot**"
   ]
  },
  {
   "cell_type": "markdown",
   "metadata": {},
   "source": [
    "📝 The **[value_counts()](https://pandas.pydata.org/docs/reference/api/pandas.DataFrame.value_counts.html)** function is used to get a Series containing counts of unique values. The resulting object will be in descending order so that the first element is the most frequently-occurring element. Excludes NA values by default."
   ]
  },
  {
   "cell_type": "code",
   "execution_count": null,
   "metadata": {
    "id": "qHGi3U9xjwOO",
    "outputId": "ebfe816d-30c6-46a3-9ba3-16dfb47ddd6d"
   },
   "outputs": [],
   "source": [
    "# Checking the counts of unique values in \"salary\" feature\n",
    "\n",
    "df.salary.value_counts(dropna=False)"
   ]
  },
  {
   "cell_type": "code",
   "execution_count": null,
   "metadata": {
    "id": "MzMGASoxjwOP",
    "outputId": "608c3842-d229-440c-dd9d-75cbb9e9cc31"
   },
   "outputs": [],
   "source": [
    "# Visualizing the number of people in each category of \"salary\"\n",
    "\n",
    "fig, ax = plt.subplots()\n",
    "\n",
    "sns.countplot(data=df, x=\"salary\")\n",
    "\n",
    "ax.set_title(\"Total Number of People by Income Level\", fontsize=18)\n",
    "\n",
    "for p in ax.patches:\n",
    "    ax.annotate((p.get_height()), (p.get_x()+0.35, p.get_height()+100))"
   ]
  },
  {
   "cell_type": "markdown",
   "metadata": {},
   "source": [
    "📝 The plot object has a method called ``containers`` that would list the properties of each bar. Iterate through the list items of the container object and pass each item to the **[bar_label](https://matplotlib.org/3.5.0/gallery/lines_bars_and_markers/bar_label_demo.html)** function. ``This will extract and display the bar value in the bar plot.``"
   ]
  },
  {
   "cell_type": "code",
   "execution_count": null,
   "metadata": {},
   "outputs": [],
   "source": [
    "fig, ax = plt.subplots()\n",
    "\n",
    "ax = sns.countplot(data=df, x=\"salary\")\n",
    "\n",
    "ax.set_title(\"Total Number of People by Income Level\", fontsize=18)\n",
    "\n",
    "for container in ax.containers:\n",
    "    ax.bar_label(container);"
   ]
  },
  {
   "cell_type": "markdown",
   "metadata": {
    "id": "u92U8F26jwOP"
   },
   "source": [
    "**Check the percentage of person in each \"salary\" levels and visualize it with a pieplot**"
   ]
  },
  {
   "cell_type": "markdown",
   "metadata": {},
   "source": [
    "📝 With **[normalize](https://pandas.pydata.org/pandas-docs/version/0.25.0/reference/api/pandas.Series.value_counts.html#:~:text=With%20normalize%20set%20to%20True,by%20the%20sum%20of%20values.&text=Bins%20can%20be%20useful%20for,number%20of%20half%2Dopen%20bins.)** parameter set to ``True``, returns the ``relative frequency`` by dividing all values by the sum of values. "
   ]
  },
  {
   "cell_type": "code",
   "execution_count": null,
   "metadata": {
    "id": "rxtSa_cijwOP",
    "outputId": "6497053a-8124-4797-9078-7d368feeaec9"
   },
   "outputs": [],
   "source": [
    "# Checking the proportion of people who make above 50K and under 50K\n",
    "\n",
    "df.salary.value_counts(normalize=True)"
   ]
  },
  {
   "cell_type": "code",
   "execution_count": null,
   "metadata": {
    "id": "e6hTe5nFjwOP",
    "outputId": "8c259281-13be-4abb-9291-ed5dcfe20796",
    "scrolled": false
   },
   "outputs": [],
   "source": [
    "# Visualing the percentage of distribution in the salary feature\n",
    "\n",
    "fig, ax = plt.subplots(figsize=(6, 6))\n",
    "\n",
    "ax.pie(x=df.salary.value_counts().values, \n",
    "       labels=['<=50K', '>50K'], \n",
    "       autopct='%.1f%%',\n",
    "       explode=(0, 0.1),\n",
    "       colors=['lightskyblue', 'gold'],\n",
    "       textprops={'fontsize': 12},\n",
    "       shadow=True\n",
    "       )\n",
    "plt.title(\"Percentage of Income-Levels\", fontdict={'fontsize': 14})\n",
    "plt.show()"
   ]
  },
  {
   "cell_type": "markdown",
   "metadata": {
    "id": "P5GiZjZNjwOP"
   },
   "source": [
    "**Write down the conclusions you draw from your analysis**"
   ]
  },
  {
   "cell_type": "markdown",
   "metadata": {
    "id": "u38tpMPujwOQ"
   },
   "source": [
    "**Some Remarks on \"salary\" Feature:** As seen above, the number of people who earn 50K or less than 50K per year is way higher that the number of people who earn more than 50K per year in our sample. There are a lot more to investigate such as the educational background of our sample, number of hours worked per week, or age span to understand the results better. However, it is clearly concluded that 25% of the individuals in the dataset are at the high-income level while others (75%) are at the low-income level."
   ]
  },
  {
   "cell_type": "markdown",
   "metadata": {
    "id": "O-WjXfO7jwOQ"
   },
   "source": [
    "## Numeric Features"
   ]
  },
  {
   "cell_type": "markdown",
   "metadata": {
    "id": "UVjAplv8jwOQ"
   },
   "source": [
    "## age"
   ]
  },
  {
   "cell_type": "markdown",
   "metadata": {
    "id": "JSlVem-ZjwOQ"
   },
   "source": [
    "**Check the boxplot to see extreme values**\n",
    "\n",
    "📝 A **``boxplot``** is a standardized way of displaying the distribution of data based on a five number summary (“minimum”, first quartile (Q1), median, third quartile (Q3), and “maximum”). It can tell you about your outliers and what their values are."
   ]
  },
  {
   "cell_type": "code",
   "execution_count": null,
   "metadata": {
    "id": "Oo_BFyB7jwOQ",
    "outputId": "b955e9e6-4882-4632-f16a-d0d58e74d77c"
   },
   "outputs": [],
   "source": [
    "# Displaying the distribution of \"age\" feature with a box plot\n",
    "\n",
    "sns.boxplot(data=df, \n",
    "            x=\"age\",\n",
    "            showmeans=True,\n",
    "            meanprops={\"marker\":\"o\",\n",
    "                       \"markerfacecolor\":\"white\", \n",
    "                       \"markeredgecolor\":\"black\",\n",
    "                       \"markersize\":\"10\"})\n",
    "\n",
    "plt.title(\"Age Distribution\", fontsize=18, color=\"b\");"
   ]
  },
  {
   "cell_type": "markdown",
   "metadata": {
    "id": "IjetyvahjwOQ"
   },
   "source": [
    "**Check the histplot/kdeplot to see distribution of feature**"
   ]
  },
  {
   "cell_type": "code",
   "execution_count": null,
   "metadata": {
    "id": "QpiiUyTDjwOR",
    "outputId": "a197713f-9f6f-4b49-97e9-739ab58c3193"
   },
   "outputs": [],
   "source": [
    "# Displaying the distribution of age feature with a histogram\n",
    "\n",
    "sns.histplot(data=df, x=\"age\", bins=20, kde=True, color=\"g\")\n",
    "\n",
    "plt.title(\"Age Distribution\", fontsize=18, color=\"fuchsia\");"
   ]
  },
  {
   "cell_type": "markdown",
   "metadata": {
    "id": "QqEkjaaHjwOR"
   },
   "source": [
    "**Check the statistical values**"
   ]
  },
  {
   "cell_type": "code",
   "execution_count": null,
   "metadata": {
    "id": "yp1xwAjxjwOR",
    "outputId": "02e8746d-e17e-4668-cb94-eb623860444c"
   },
   "outputs": [],
   "source": [
    "# Descriptive Statistics of \"age\" Feature\n",
    "\n",
    "print(colored('Descriptive Statistics of the Age Feature:\\n', 'blue', attrs=['bold']))\n",
    "df.age.describe()"
   ]
  },
  {
   "cell_type": "code",
   "execution_count": null,
   "metadata": {},
   "outputs": [],
   "source": [
    "show_distribution(df[\"age\"])"
   ]
  },
  {
   "cell_type": "code",
   "execution_count": null,
   "metadata": {},
   "outputs": [],
   "source": [
    "show_density(df[\"age\"])"
   ]
  },
  {
   "cell_type": "markdown",
   "metadata": {
    "id": "M998V8hVjwOR"
   },
   "source": [
    "**Check the boxplot and histplot/kdeplot by \"salary\" levels**"
   ]
  },
  {
   "cell_type": "code",
   "execution_count": null,
   "metadata": {
    "id": "KqPskzt6jwOR",
    "outputId": "9eb4519d-3869-4ebb-dff8-6cfc0adc6358"
   },
   "outputs": [],
   "source": [
    "# Checking the extreme values in \"age\" feature by Salary with box plot\n",
    "\n",
    "sns.boxplot(data=df, \n",
    "            y=\"salary\", \n",
    "            x=\"age\",\n",
    "            showmeans=True,\n",
    "            meanprops={\"marker\":\"o\",\n",
    "                       \"markerfacecolor\":\"white\", \n",
    "                       \"markeredgecolor\":\"black\",\n",
    "                       \"markersize\":\"10\"})\n",
    "\n",
    "# Add in points to show each observation\n",
    "sns.stripplot(data=df,\n",
    "              y=\"salary\", \n",
    "              x=\"age\",\n",
    "              size=4, \n",
    "              color=\"purple\", \n",
    "              linewidth=0)\n",
    "\n",
    "# Tweaking the visual presentation\n",
    "ax.xaxis.grid(True)\n",
    "ax.set(ylabel=\"\")\n",
    "sns.despine(trim=True, left=True)\n",
    "\n",
    "plt.title(\"Age Distribution by Salary\", fontsize=20, color=\"darkblue\");"
   ]
  },
  {
   "cell_type": "code",
   "execution_count": null,
   "metadata": {
    "id": "WklD0R9AjwOS",
    "outputId": "4dbaf3c0-9c93-4ce8-fef3-e1a2faec3ade"
   },
   "outputs": [],
   "source": [
    "# Checking Density Distribution of \"age\" feature by Salary \n",
    "\n",
    "sns.histplot(data=df, x=\"age\", bins=20, kde=True, hue=\"salary\")\n",
    "\n",
    "plt.title(\"Age Distribution by Salary\", fontsize=20, color=\"darkblue\");"
   ]
  },
  {
   "cell_type": "code",
   "execution_count": null,
   "metadata": {},
   "outputs": [],
   "source": [
    "# # Display age distribution across salary levels with a Box Plot, Histogram and KDE Plot\n",
    "\n",
    "# fig, ax = plt.subplots(3,1, figsize=(12, 24))\n",
    "# fig.suptitle(\"Age Distribution Across Salary-Levels\", fontsize=20, color=\"darkblue\")\n",
    "\n",
    "# sns.boxplot(data=df, x=\"salary\", y=\"age\", ax=ax[0])\n",
    "# sns.histplot(data=df, x=\"age\", hue=\"salary\", kde=True, bins=20, ax=ax[1])\n",
    "# sns.kdeplot(data=df, x=\"age\", hue=\"salary\", shade=True, ax=ax[2])\n",
    "\n",
    "# plt.subplots_adjust(hspace=0.3)\n",
    "# plt.show()"
   ]
  },
  {
   "cell_type": "markdown",
   "metadata": {
    "id": "Ue0sit4hjwOS"
   },
   "source": [
    "**Check the statistical values by \"salary\" levels**"
   ]
  },
  {
   "cell_type": "code",
   "execution_count": null,
   "metadata": {
    "id": "M9hpKfUgjwOS",
    "outputId": "62684d2c-4780-4021-8e5d-fa70083b8141",
    "scrolled": true
   },
   "outputs": [],
   "source": [
    "# Descriptive Statistics of age with respect to salary levels\n",
    "\n",
    "print(colored('Descriptive Statistics of the Age by Salary:\\n', 'blue', attrs=['bold']))\n",
    "df.groupby(\"salary\").age.describe()"
   ]
  },
  {
   "cell_type": "code",
   "execution_count": null,
   "metadata": {},
   "outputs": [],
   "source": [
    "# # Get statistics\n",
    "# from termcolor import colored\n",
    "\n",
    "# print(colored('Statistical Calculations', 'red', attrs=['bold']))\n",
    "# min_val = df[\"age\"].min()\n",
    "# max_val = df[\"age\"].max()\n",
    "# mean_val = df[\"age\"].mean()\n",
    "# med_val = df[\"age\"].median()\n",
    "# mod_val = df[\"age\"].mode()[0]\n",
    "\n",
    "# print('Minimum:{:>7.2f}\\nMean:{:>10.2f}\\nMedian:{:>8.2f}\\nMode:{:>10.2f}\\nMaximum:{:>7.2f}\\n'.format(min_val,\n",
    "#                                                                                          mean_val,\n",
    "#                                                                                          med_val,\n",
    "#                                                                                          mod_val,\n",
    "#                                                                                          max_val))\n",
    "\n",
    "# fig, ax = plt.subplots(figsize=(10, 5))\n",
    "\n",
    "# ax = sns.kdeplot(data=df, x=\"age\", hue=\"salary\", fill=True)\n",
    "\n",
    "\n",
    "# h, l = ax.get_legend_handles_labels()\n",
    "\n",
    "# legend_elements1 = [Line2D([0], [0], marker='s', color='lightblue', label=df.salary.unique()[0], markersize=15),\n",
    "#                    Line2D([0], [0], marker='s', color='orange', label=df.salary.unique()[1], markersize=15)]\n",
    "# l1 = plt.legend(handles=legend_elements1, title='Salary Type', bbox_to_anchor=(0.69, 1))\n",
    "\n",
    "# legend_elements2 = [Line2D([0], [0], color='cyan',   label='Mean',   markersize=15, linestyle='dashed'),\n",
    "#                    Line2D([0], [0],  color='red',    label='Median', markersize=15, linestyle='dashed'),\n",
    "#                    Line2D([0], [0],  color='yellow', label=\"Mode\",   markersize=15, linestyle='dashed')]\n",
    "# l2 = plt.legend(handles=legend_elements2, title=\"Mean, Median, Mode\", bbox_to_anchor=(0.72, 0.81))\n",
    "    \n",
    "\n",
    "# plt.axvline(x=df[\"age\"].mean(),    color='cyan',    linestyle='dashed', linewidth=2, label='Mean')\n",
    "# plt.axvline(x=df[\"age\"].median(),  color='red',     linestyle='dashed', linewidth=2, label='Median')\n",
    "# plt.axvline(x=df[\"age\"].mode()[0], color='yellow',  linestyle='dashed', linewidth=2, label='Mode')\n",
    "\n",
    "# ax.add_artist(l1); # we need this because the 2nd call to legend() erases the first one"
   ]
  },
  {
   "cell_type": "code",
   "execution_count": null,
   "metadata": {},
   "outputs": [],
   "source": [
    "show_compare(df, \"age\", \"salary\")"
   ]
  },
  {
   "cell_type": "markdown",
   "metadata": {
    "id": "vWei7u-ljwOS"
   },
   "source": [
    "**Write down the conclusions you draw from your analysis**"
   ]
  },
  {
   "cell_type": "markdown",
   "metadata": {
    "id": "SkgAmdjnjwOT"
   },
   "source": [
    "**Some Remarks on \"age\" Feature:** \n",
    "\n",
    "**``First``**, ``the characteristics of the age column was investigated. Here are the findings:``\n",
    "\n",
    "- There are some extreme values around/between the ages of 78-90.\n",
    "- Mean is 38, and it is observed that majority of the people are between 28 and 48 years old.\n",
    "- The age data is right skewed, which means that our sample is a young population as expected. Most people after the age of 65 will be retired and will no longer work.\n",
    "\n",
    "**``Second``**, ``the age component was explored through the salary levels (<=50K and >50K) was explored:``\n",
    "\n",
    "- Visuals revealed that the people who make less than or equal to 50K are a younger population than the people who make above 50K per year.\n",
    "- The mean and median age of the high-income group is higher than the low-income group. It can be stated that the older generation possesses more wealth than the young. In other words, The average age of Americans who earn less than 50K is lower than those who earn over 50K. However, care should be taken when making such a comment of the older always earn more compared to the younger people or visa versa since there have been some extreme values showing that there are some observations between 80-90 years old and make less than 50K, and there are people who are below 30 years old and make more than 50K.\n",
    "- When we consider histogram and kde plot, it is realized that both the age feature of both populations (who make <=50K and >50K) are right skewed while the population who make >50K is closer to a normal distribution.\n",
    "- It is expected that the population who make less than 50K shows a stronger right-skewed graph. Younger people are less experienced or new graduates. As a result, they will earn less as seen on the graphs.\n",
    "- Besides, it looks like people in almost every data point who earn less than 50K are younger than those in the high-income group. The difference in standard deviations of these 2 groups is not very large so it seems there is not much more difference between the mean and median for both groups, it can be stated that the average income increases by age. There is some gap between the 75% values and max values for each income group, which might be the indicator of extreme values (candidates of outliers). Therefore, there is a need to examine meticulously the boxplots for these features, salary & age, separately and together by means of domain knowledge obtained by the field/expertise."
   ]
  },
  {
   "cell_type": "markdown",
   "metadata": {
    "id": "HOIESqNjjwOT"
   },
   "source": [
    "## fnlwgt"
   ]
  },
  {
   "cell_type": "markdown",
   "metadata": {
    "id": "j1M9913CjwOT"
   },
   "source": [
    "**Check the boxplot to see extreme values**"
   ]
  },
  {
   "cell_type": "code",
   "execution_count": null,
   "metadata": {
    "id": "XH2NHDzkjwOT",
    "outputId": "513af88e-f75b-483a-a7a3-774a4400194a",
    "scrolled": false
   },
   "outputs": [],
   "source": [
    "# Checking the extreme values in \"fnlwgt\" feature by means of box plot\n",
    "\n",
    "sns.boxplot(data=df, \n",
    "            x=\"fnlwgt\",\n",
    "            showmeans=True,\n",
    "            meanprops={\"marker\":\"o\",\n",
    "                       \"markerfacecolor\":\"white\", \n",
    "                       \"markeredgecolor\":\"black\",\n",
    "                       \"markersize\":\"10\"})\n",
    "\n",
    "plt.title(\"Fnlwgt Distribution by Boxplot\", fontsize=20, color=\"darkblue\");"
   ]
  },
  {
   "cell_type": "markdown",
   "metadata": {
    "id": "_fMFmKvVjwOT"
   },
   "source": [
    "**Check the histplot/kdeplot to see distribution of feature**"
   ]
  },
  {
   "cell_type": "code",
   "execution_count": null,
   "metadata": {},
   "outputs": [],
   "source": [
    "# Checking Density Distribution of \"fnlwgt\" feature \n",
    "\n",
    "sns.kdeplot(data=df, x=\"fnlwgt\", fill=True)\n",
    "\n",
    "plt.ticklabel_format(style='plain', axis='y')\n",
    "plt.ticklabel_format(style='plain', axis='x')\n",
    "plt.title(\"Fnlwgt Density\", fontsize=20, color=\"darkblue\");"
   ]
  },
  {
   "cell_type": "markdown",
   "metadata": {},
   "source": [
    "**[Prevent/Suppress Scientific Notation in Matplotlib](https://stackoverflow.com/questions/28371674/prevent-scientific-notation-in-matplotlib-pyplot)**"
   ]
  },
  {
   "cell_type": "code",
   "execution_count": null,
   "metadata": {},
   "outputs": [],
   "source": [
    "# The First Approach to Prevent/Suppress Scientific Notation in Matplotlib\n",
    "\n",
    "fig, ax = plt.subplots()\n",
    "\n",
    "sns.kdeplot(data=df, x=\"fnlwgt\", fill=True)\n",
    "\n",
    "plt.title(\"Fnlwgt Density\", fontsize=20, color=\"darkblue\")\n",
    "\n",
    "ax.ticklabel_format(style='plain');"
   ]
  },
  {
   "cell_type": "code",
   "execution_count": null,
   "metadata": {
    "id": "zZ_qSgbsjwOT",
    "outputId": "be1e8e55-79c4-4130-b7e7-b9c192d80d6d",
    "scrolled": false
   },
   "outputs": [],
   "source": [
    "# The Second Approach to Prevent/Suppress Scientific Notation in Matplotlib\n",
    "\n",
    "sns.kdeplot(data=df, x=\"fnlwgt\", fill=True)\n",
    "\n",
    "plt.title(\"Fnlwgt Density\", fontsize=20, color=\"darkblue\")\n",
    "\n",
    "plt.ticklabel_format(style='plain', axis='x')\n",
    "plt.ticklabel_format(style='plain', axis='y');"
   ]
  },
  {
   "cell_type": "markdown",
   "metadata": {
    "id": "6RFyLaCZjwOU"
   },
   "source": [
    "**Check the statistical values**"
   ]
  },
  {
   "cell_type": "code",
   "execution_count": null,
   "metadata": {
    "id": "1m4QNTVNjwOU",
    "outputId": "790c1a11-877b-4a49-a8f6-fc5f1c2eb3cc",
    "scrolled": true
   },
   "outputs": [],
   "source": [
    "# Descriptive Statistics of \"fnlwgt\" Feature\n",
    "\n",
    "print(colored('Descriptive Statistics of the \"fnlwgt\" Feature:\\n', 'blue', attrs=['bold']))\n",
    "df.fnlwgt.describe()"
   ]
  },
  {
   "cell_type": "markdown",
   "metadata": {
    "id": "0c0RZVyfjwOU"
   },
   "source": [
    "**Check the boxplot and histplot/kdeplot by \"salary\" levels**"
   ]
  },
  {
   "cell_type": "code",
   "execution_count": null,
   "metadata": {
    "id": "LbrkZXdojwOU",
    "outputId": "3f115ae3-6f7b-4618-ee38-f39d8a5da991"
   },
   "outputs": [],
   "source": [
    "# Checking the extreme values in \"fnlwgt\" feature by Salary with box plot\n",
    "\n",
    "plt.figure(figsize=(14, 8))\n",
    "\n",
    "sns.boxplot(data=df, \n",
    "            y=\"salary\", \n",
    "            x=\"fnlwgt\",\n",
    "            showmeans=True,\n",
    "            meanprops={\"marker\":\"o\",\n",
    "                       \"markerfacecolor\":\"white\", \n",
    "                       \"markeredgecolor\":\"black\",\n",
    "                       \"markersize\":\"10\"})\n",
    "\n",
    "# Adding in points to show each observation\n",
    "sns.stripplot(data=df,\n",
    "              y=\"salary\", \n",
    "              x=\"fnlwgt\",\n",
    "              size=4, \n",
    "              color=\"purple\", \n",
    "              linewidth=0)\n",
    "\n",
    "# Tweaking the visual presentation\n",
    "ax.xaxis.grid(True)\n",
    "ax.set(ylabel=\"\")\n",
    "sns.despine(trim=True, left=True)\n",
    "\n",
    "plt.title(\"Fnlwgt Distribution by Salary\", fontsize=20, color=\"darkblue\")\n",
    "plt.ticklabel_format(style='plain', axis='x');"
   ]
  },
  {
   "cell_type": "markdown",
   "metadata": {},
   "source": [
    "If one of the sections is longer than another, it indicates a wider range in the values of data in that section (meaning the data are more spread out). A smaller section of the boxplot indicates the data are more condensed (closer together)."
   ]
  },
  {
   "cell_type": "code",
   "execution_count": null,
   "metadata": {
    "id": "VJdFRp9RjwOU",
    "outputId": "105c93b2-b060-43db-83a6-62920f4e5a5c",
    "scrolled": false
   },
   "outputs": [],
   "source": [
    "# Checking Density Distribution of \"fnlwgt\" feature by Salary\n",
    "\n",
    "ax = sns.kdeplot(data=df, x=\"fnlwgt\", hue=\"salary\", fill=True)\n",
    "\n",
    "plt.title(\"Fnlwgt Density by Salary\", fontsize=20, color=\"darkblue\")\n",
    "\n",
    "ax.ticklabel_format(style='plain');"
   ]
  },
  {
   "cell_type": "markdown",
   "metadata": {
    "id": "7pfCMuMYjwOV"
   },
   "source": [
    "**Check the statistical values by \"salary\" levels**"
   ]
  },
  {
   "cell_type": "code",
   "execution_count": null,
   "metadata": {
    "id": "Vm1SXs_9jwOV",
    "outputId": "de4b2d9f-8741-49bb-ac8a-67817d39b759",
    "scrolled": true
   },
   "outputs": [],
   "source": [
    "# Descriptive Statistics of \"fnlwgt\" with respect to salary levels\n",
    "\n",
    "print(colored('Descriptive Statistics of the \"fnlwgt\" by Salary:\\n', 'blue', attrs=['bold']))\n",
    "df.groupby(\"salary\").fnlwgt.describe()"
   ]
  },
  {
   "cell_type": "code",
   "execution_count": null,
   "metadata": {},
   "outputs": [],
   "source": [
    "show_compare(df, \"fnlwgt\", \"salary\")"
   ]
  },
  {
   "cell_type": "markdown",
   "metadata": {
    "id": "mHHIE5i1jwOV"
   },
   "source": [
    "**Write down the conclusions you draw from your analysis**"
   ]
  },
  {
   "cell_type": "markdown",
   "metadata": {
    "id": "B1cHhb2ejwOV"
   },
   "source": [
    "**Some Remarks on \"fnlwgt\" Feature:** It looks like there is no significant difference between high and low-income groups according to the \"fnlwgt\" feature.\n",
    "\n",
    "However, the difference in standard deviations of these 2 groups is not very large so it seems there is not much more difference between the mean and median for both groups, it can be stated that the average income increases by age. There is some gap between the 75% values and max values for each income group, which might be the indicator of extreme values (candidates of outliers). Therefore, there is a need to examine meticulously the boxplots for these features, salary & age, separately and together by means of domain knowledge obtained by the field/expertise."
   ]
  },
  {
   "cell_type": "markdown",
   "metadata": {
    "id": "6MCscpw1jwOV"
   },
   "source": [
    "## capital_gain\n",
    "\n",
    "### 📝[Domain Knowledge About Capital Gain](https://en.wikipedia.org/wiki/Capital_gain)\n",
    "\n",
    "**What is 'Capital Gain?'**\n",
    "\n",
    "Capital gain is an economic concept defined as the profit earned on the sale of an asset which has increased in value over the holding period. An asset may include tangible property, a car, a business, or intangible property such as shares.\n",
    "\n",
    "A capital gain is only possible when the selling price of the asset is greater than the original purchase price. In the event that the purchase price exceeds the sale price, a capital loss occurs. Capital gains are often subject to taxation, of which rates and exemptions may differ between countries. \n"
   ]
  },
  {
   "cell_type": "code",
   "execution_count": null,
   "metadata": {},
   "outputs": [],
   "source": [
    "# We can build a function that highlights the maximum value across rows, cols, and the DataFrame all at once.\n",
    "\n",
    "def highlight_max(s, props=''):\n",
    "    return np.where(s == np.nanmax(s.values), props, '')"
   ]
  },
  {
   "cell_type": "code",
   "execution_count": null,
   "metadata": {
    "scrolled": false
   },
   "outputs": [],
   "source": [
    "# Descriptive Statistics of the \"capital_loss\" by \"workclass\", \"occupation\"\n",
    "\n",
    "print(colored('Descriptive Statistics \"capital_gain\" by \"workclass\" & \"occupation\":\\n', 'blue', attrs=['bold']))\n",
    "\n",
    "df.groupby([\"workclass\", \"occupation\"])[\"capital_gain\"].describe()\\\n",
    "                             .style.apply(highlight_max, props='color: white; background-color: #33FFF9;', axis=0)\\\n",
    "                             .apply(highlight_max, props='color: white; background-color: pink;', axis=1)\\\n",
    "                             .apply(highlight_max, props='color: white; background-color: purple', axis=None)"
   ]
  },
  {
   "cell_type": "markdown",
   "metadata": {
    "id": "MYcwxtzxjwOV"
   },
   "source": [
    "**Check the boxplot to see extreme values**"
   ]
  },
  {
   "cell_type": "markdown",
   "metadata": {},
   "source": [
    "Use the IQR to assess the variability where most of your values lie. Larger values indicate that the central portion of your data spread out further. Conversely, smaller values show that the middle values cluster more tightly."
   ]
  },
  {
   "cell_type": "code",
   "execution_count": null,
   "metadata": {
    "id": "TrhrYQ5EjwOV",
    "outputId": "206cf828-58f6-4245-e6cd-ecc003468edd",
    "scrolled": false
   },
   "outputs": [],
   "source": [
    "# Checking the extreme values in the \"capital_gain\" feature with box plot\n",
    "\n",
    "sns.boxplot(data=df, x=\"capital_gain\")\n",
    "\n",
    "plt.suptitle(\"Capital Gain Distribution\", fontsize=20, color=\"darkblue\");"
   ]
  },
  {
   "cell_type": "markdown",
   "metadata": {
    "id": "GVV5v0CzjwOW"
   },
   "source": [
    "**Check the histplot/kdeplot to see distribution of feature**"
   ]
  },
  {
   "cell_type": "code",
   "execution_count": null,
   "metadata": {
    "id": "yLpY2iIejwOW",
    "outputId": "e2de77e6-4026-4130-e72f-9246458e05e0",
    "scrolled": false
   },
   "outputs": [],
   "source": [
    "# Checking Density Distribution of the \"capital_gain\" feature \n",
    "\n",
    "sns.kdeplot(data=df, x=\"capital_gain\", fill=True)\n",
    "\n",
    "plt.suptitle(\"Capital Gain Density\", fontsize=20, color=\"darkblue\");"
   ]
  },
  {
   "cell_type": "markdown",
   "metadata": {
    "id": "dap9OeI-jwOW"
   },
   "source": [
    "**Check the statistical values**"
   ]
  },
  {
   "cell_type": "code",
   "execution_count": null,
   "metadata": {
    "id": "s6K1zG3EjwOW",
    "outputId": "f2e3dbb7-cbff-4080-a4ca-25eba706e59f",
    "scrolled": true
   },
   "outputs": [],
   "source": [
    "# Descriptive Statistics of \"capital_gain\" Feature\n",
    "\n",
    "print(colored('Descriptive Statistics of the \"capital_gain\" Feature:\\n', 'blue', attrs=['bold']))\n",
    "df.capital_gain.describe()"
   ]
  },
  {
   "cell_type": "markdown",
   "metadata": {
    "id": "3SWvge41jwOW"
   },
   "source": [
    "**Check the boxplot and histplot/kdeplot by \"salary\" levels**"
   ]
  },
  {
   "cell_type": "code",
   "execution_count": null,
   "metadata": {
    "id": "SMewSoRfjwOW",
    "outputId": "a3ceab5c-6d18-4b3f-f2a7-24280d32e01e"
   },
   "outputs": [],
   "source": [
    "# Checking the extreme values in the \"capital_gain\" feature by Salary with box plot\n",
    "\n",
    "plt.figure(figsize=(14, 8))\n",
    "\n",
    "sns.boxplot(data=df, \n",
    "            y=\"salary\", \n",
    "            x=\"capital_gain\")\n",
    "\n",
    "# # Adding in points to show each observation\n",
    "# sns.stripplot(data=df,\n",
    "#               y=\"salary\", \n",
    "#               x=\"capital_gain\",\n",
    "#               size=4, \n",
    "#               color=\"purple\", \n",
    "#               linewidth=0)\n",
    "\n",
    "# # Tweaking the visual presentation\n",
    "# ax.xaxis.grid(True)\n",
    "# ax.set(ylabel=\"\")\n",
    "# sns.despine(trim=True, left=True)\n",
    "\n",
    "plt.title(\"Capital Gain Distribution By Salary\", fontsize=20, color='darkblue');"
   ]
  },
  {
   "cell_type": "code",
   "execution_count": null,
   "metadata": {
    "id": "efrxcNRSjwOX",
    "outputId": "10654556-6fb0-4534-df3f-ab148d8cd9de",
    "scrolled": false
   },
   "outputs": [],
   "source": [
    "# Checking Density Distribution of the \"capital_gain\" feature by Salary \n",
    "\n",
    "sns.kdeplot(data=df, x=\"capital_gain\", hue=\"salary\", fill=True)\n",
    "\n",
    "plt.title(\"Capital Gain Density By Salary\", fontsize=20, color='darkblue');"
   ]
  },
  {
   "cell_type": "markdown",
   "metadata": {
    "id": "4WCEcxNHjwOX"
   },
   "source": [
    "**Check the statistical values by \"salary\" levels**"
   ]
  },
  {
   "cell_type": "code",
   "execution_count": null,
   "metadata": {
    "id": "N1IejL02jwOX",
    "outputId": "2f2b7378-1b20-48ab-e2cf-8e97d5dc5f4a",
    "scrolled": true
   },
   "outputs": [],
   "source": [
    "# Descriptive Statistics of \"capital_gain\" with respect to Salary levels\n",
    "\n",
    "print(colored('Descriptive Statistics of the \"capital_gain\" by Salary:\\n', 'blue', attrs=['bold']))\n",
    "df.groupby(\"salary\").capital_gain.describe()"
   ]
  },
  {
   "cell_type": "code",
   "execution_count": null,
   "metadata": {},
   "outputs": [],
   "source": [
    "show_compare(df, \"capital_gain\", \"salary\")"
   ]
  },
  {
   "cell_type": "markdown",
   "metadata": {
    "id": "uUU2P7HujwOX"
   },
   "source": [
    "**Check the statistical values by \"salary\" levels for capital_gain not equal to zero**"
   ]
  },
  {
   "cell_type": "code",
   "execution_count": null,
   "metadata": {
    "id": "4AHDsBHPjwOX",
    "outputId": "317de0a4-bb94-4a8c-f5ab-c2453fb00645",
    "scrolled": true
   },
   "outputs": [],
   "source": [
    "# Descriptive Statistics of \"capital_gain != 0\" by Salary\n",
    "\n",
    "print(colored('Descriptive Statistics of the \"capital_gain != 0\" by Salary :\\n', 'blue', attrs=['bold']))\n",
    "df[df.capital_gain != 0].groupby(\"salary\")[\"capital_gain\"].describe()"
   ]
  },
  {
   "cell_type": "code",
   "execution_count": null,
   "metadata": {},
   "outputs": [],
   "source": [
    "# Checking Density Distribution of \"capital_gain\" feature by Salary \n",
    "\n",
    "df[df.capital_gain != 0].groupby('salary')['capital_gain']\\\n",
    "                        .apply(lambda x: sns.kdeplot(x, label=x.name))\n",
    "\n",
    "plt.title(\"A Close Look at Capital Gain Density By Salary\", fontsize=18, color='darkblue');"
   ]
  },
  {
   "cell_type": "markdown",
   "metadata": {
    "id": "oGTkUS7-jwOX"
   },
   "source": [
    "**Write down the conclusions you draw from your analysis**"
   ]
  },
  {
   "cell_type": "markdown",
   "metadata": {
    "id": "bkZ9CSZrjwOY"
   },
   "source": [
    "**Some Remarks on \"capital_gain\" Feature :** Capital gain is usually known as the profits made from the sale of real estate, investments, and personal property.\n",
    "\n",
    "``The dataset indicates the following findings when all rows are included:``\n",
    "\n",
    "- The average capital gain earned by the people who make above 50K is almost 27 times (18731.165/148.885 = 26.914497766732715) larger than the capital gain earned by the people who make 50K or below 50K.\n",
    "- There are extreme values such as 41K made by those who are in \"<=50K income-level\" or 99999K made by those who are \">50K income-level\" and they affect the average values.\n",
    "- The capital gain values made by the people who are in the \">50K income-level\" vary way more than the values made by those in the \"<=50K income-level\". The latter clustered around \"148.88\" while the former varies mostly between 0 and 20K.\n",
    "- When the min, median, and interquartile ranges are checked, it is realized that a lot of values of zero exist in the capital gain column. That's why it might be better to check the statistical description of the capital gain column excluding the rows with zero values.\n",
    "\n",
    "``The dataset indicates the following findings when the rows with zero values are excluded:``\n",
    "\n",
    "- The average capital gain earned by the people who make above 50K is almost 5 times (18731.165/3552.813 = 5.272206840044776) larger than the capital gain earned by those who make money 50K or below. It has a sharp decrease when compared to the output above.\n",
    "- The standard deviation increases in both salary-levels, which shows that the varieties of capital gain values increase since most of the values were 0's in the previous scenerio.\n",
    "- The median and IQRs vary a lot between two salary levels. While the capital gain of \"<=50K population\" is mostly clustered below 5K, the capital gain of \">50K population\" varies mostly between 7K-15K.\n",
    "\n",
    "**Final Thoughts:**\n",
    "\n",
    "People who earn more are tend to make investments more than the people who earn less. In other words, the more \"capital-gain\", the more \"high-income\". However, almost 79% of the people who earn >50K reported \"0\" as their capital gain. This can be the starter of another story about why people don't/can't invest."
   ]
  },
  {
   "cell_type": "markdown",
   "metadata": {
    "id": "9Xgur7CdjwOY"
   },
   "source": [
    "## capital_loss\n",
    "\n",
    "### 📝 [Domain Knowledge About Capital Loss](https://www.investopedia.com/terms/c/capitalloss.asp)\n",
    "\n",
    "**What Is a Capital Loss?**\n",
    "\n",
    "A capital loss is the loss incurred when a capital asset, such as an investment or real estate, decreases in value. This loss is not realized until the asset is sold for a price that is lower than the original purchase price. In simple terms, the difference between the selling price and cost/purchase price of an investment can be described as capital gain/loss.\n",
    "\n",
    "KEY TAKEAWAYS\n",
    "- A capital loss is a loss incurred when a capital asset is sold for less than the price it was purchased for.\n",
    "- In regards to taxes, capital gains can be offset by capital losses, reducing taxable income by the amount of the capital loss.\n",
    "Capital gains and capital losses are reported on Form 8949.\n",
    "- The Internal Revenue Service (IRS) puts measures around wash sales to prevent investors from taking advantage of the tax benefits of capital losses."
   ]
  },
  {
   "cell_type": "code",
   "execution_count": null,
   "metadata": {},
   "outputs": [],
   "source": [
    "df[df.capital_loss < 0]\n",
    "\n",
    "# As seen, there has been no values lower than zero since it is contrary to the meaning of \"Capital Loss\""
   ]
  },
  {
   "cell_type": "code",
   "execution_count": null,
   "metadata": {
    "scrolled": false
   },
   "outputs": [],
   "source": [
    "# Descriptive Statistics of the \"capital_loss\" by \"workclass\" & \"occupation\"\n",
    "\n",
    "print(colored('Descriptive Statistics \"capital_loss\" by \"workclass\" & \"occupation\":\\n', 'blue', attrs=['bold']))\n",
    "\n",
    "df.groupby([\"workclass\", \"occupation\"])[\"capital_loss\"].describe()\\\n",
    "                             .style.apply(highlight_max, props='color: white; background-color: #33FFF9;', axis=0)\\\n",
    "                             .apply(highlight_max, props='color: white; background-color: pink;', axis=1)\\\n",
    "                             .apply(highlight_max, props='color: white; background-color: purple', axis=None)"
   ]
  },
  {
   "cell_type": "markdown",
   "metadata": {},
   "source": [
    "Indeed, capital loss cannot be understood unless the asset is sold for a price since it results in a loss when the investment is sold. So there have no values under the zero (0) as seen above. Even if there have been some values greater then zero, this cannot be evaluated as capital gain. To consider if there has been capital gain we have to look at \"captal_gain\" feature.  "
   ]
  },
  {
   "cell_type": "markdown",
   "metadata": {
    "id": "ronhkqMUjwOY"
   },
   "source": [
    "**Check the boxplot to see extreme values**"
   ]
  },
  {
   "cell_type": "code",
   "execution_count": null,
   "metadata": {
    "id": "HI-FoqMijwOY",
    "outputId": "7030492f-0440-4eb2-bf8b-01db5651c3c3",
    "scrolled": false
   },
   "outputs": [],
   "source": [
    "# Checking the extreme values in the \"capital_loss\" feature with box plot\n",
    "\n",
    "sns.boxplot(data=df, x=\"capital_loss\")\n",
    "\n",
    "plt.title(\"Capital Loss Distribution\", fontsize=20, color='darkblue');"
   ]
  },
  {
   "cell_type": "markdown",
   "metadata": {
    "id": "xHU4BWzbjwOY"
   },
   "source": [
    "**Check the histplot/kdeplot to see distribution of feature**"
   ]
  },
  {
   "cell_type": "code",
   "execution_count": null,
   "metadata": {
    "id": "jisCyIN0jwOY",
    "outputId": "2aa8b3ed-ba87-4c7f-9ca5-329e44889d96",
    "scrolled": false
   },
   "outputs": [],
   "source": [
    "# Checking Density Distribution of the \"capital_loss\" feature \n",
    "\n",
    "sns.kdeplot(data=df, x=\"capital_loss\", fill=True)\n",
    "\n",
    "plt.title(\"Capital Loss Density\", fontsize=20, color='darkblue');"
   ]
  },
  {
   "cell_type": "markdown",
   "metadata": {
    "id": "I_cP71DijwOY"
   },
   "source": [
    "**Check the statistical values**"
   ]
  },
  {
   "cell_type": "code",
   "execution_count": null,
   "metadata": {
    "id": "WCl2uXRyjwOZ",
    "outputId": "43c13fa4-667c-4745-9061-ffcbd804cbf8",
    "scrolled": true
   },
   "outputs": [],
   "source": [
    "# Descriptive Statistics of \"capital_loss\" Feature\n",
    "\n",
    "print(colored('Descriptive Statistics of the \"capital_loss\" Feature:\\n', 'blue', attrs=['bold']))\n",
    "df.capital_loss.describe()"
   ]
  },
  {
   "cell_type": "markdown",
   "metadata": {
    "id": "oQh80H7ejwOZ"
   },
   "source": [
    "**Check the boxplot and histplot/kdeplot by \"salary\" levels**"
   ]
  },
  {
   "cell_type": "code",
   "execution_count": null,
   "metadata": {
    "id": "e2YJOzpUjwOZ",
    "outputId": "bc1e29f5-ff26-4c30-bddd-b46adb6e5ae3"
   },
   "outputs": [],
   "source": [
    "# Checking the extreme values in the \"capital_loss\" feature by Salary with box plot\n",
    "\n",
    "plt.figure(figsize=(14, 8))\n",
    "\n",
    "sns.boxplot(data=df, \n",
    "            y=\"salary\", \n",
    "            x=\"capital_loss\")\n",
    "\n",
    "# # Adding in points to show each observation\n",
    "# sns.stripplot(data=df,\n",
    "#               y=\"salary\", \n",
    "#               x=\"capital_loss\",\n",
    "#               size=4, \n",
    "#               color=\"purple\", \n",
    "#               linewidth=0)\n",
    "\n",
    "# # Tweaking the visual presentation\n",
    "# ax.xaxis.grid(True)\n",
    "# ax.set(ylabel=\"\")\n",
    "# sns.despine(trim=True, left=True)\n",
    "\n",
    "plt.title(\"Capital Loss Distribution By Salary\", fontsize=20, color='darkblue');"
   ]
  },
  {
   "cell_type": "code",
   "execution_count": null,
   "metadata": {
    "id": "Tl8EFUJujwOZ",
    "outputId": "5c099934-0776-4a35-80f1-694a7c488920",
    "scrolled": false
   },
   "outputs": [],
   "source": [
    "# Checking Density Distribution of the \"capital_loss\" feature by Salary \n",
    "\n",
    "sns.kdeplot(data=df, x=\"capital_loss\", hue=\"salary\", fill=True)\n",
    "\n",
    "plt.title(\"Capital Loss Density By Salary\", fontsize=20, color='darkblue');"
   ]
  },
  {
   "cell_type": "markdown",
   "metadata": {
    "id": "nv0MQVuQjwOZ"
   },
   "source": [
    "**Check the statistical values by \"salary\" levels**"
   ]
  },
  {
   "cell_type": "code",
   "execution_count": null,
   "metadata": {
    "id": "CHlajnDRjwOZ",
    "outputId": "e2610f3c-aeb3-48bd-c709-2a9f418729fb",
    "scrolled": true
   },
   "outputs": [],
   "source": [
    "# Descriptive Statistics of \"capital_loss\" by Salary\n",
    "\n",
    "print(colored('Descriptive Statistics of the \"capital_loss\" by Salary :\\n', 'blue', attrs=['bold']))\n",
    "df.groupby(\"salary\").capital_loss.describe()"
   ]
  },
  {
   "cell_type": "code",
   "execution_count": null,
   "metadata": {},
   "outputs": [],
   "source": [
    "show_compare(df, \"capital_loss\", \"salary\")"
   ]
  },
  {
   "cell_type": "markdown",
   "metadata": {
    "id": "PTPaQHjujwOa"
   },
   "source": [
    "**Check the statistical values by \"salary\" levels for capital_loss not equel the zero**"
   ]
  },
  {
   "cell_type": "code",
   "execution_count": null,
   "metadata": {
    "id": "MV2nuPmZjwOa",
    "outputId": "1d0ed7ca-bf82-4541-a854-5bfee8a359d5",
    "scrolled": true
   },
   "outputs": [],
   "source": [
    "# Descriptive Statistics of \"capital_loss != 0\" by Salary\n",
    "\n",
    "print(colored('Descriptive Statistics of the \"capital_loss != 0\" by Salary :\\n', 'blue', attrs=['bold']))\n",
    "df[df.capital_loss != 0].groupby(\"salary\").capital_loss.describe()"
   ]
  },
  {
   "cell_type": "code",
   "execution_count": null,
   "metadata": {},
   "outputs": [],
   "source": [
    "# Checking Density Distribution of the \"capital_loss != 0\" by Salary \n",
    "\n",
    "df[df.capital_loss != 0].groupby('salary')['capital_loss']\\\n",
    "                        .apply(lambda x: sns.kdeplot(x, label=x.name, fill=True))\n",
    "\n",
    "plt.title(\"A Close Look at Capital Loss Density By Salary\", fontsize=18, color='darkblue');"
   ]
  },
  {
   "cell_type": "markdown",
   "metadata": {
    "id": "WsXY8G85jwOa"
   },
   "source": [
    "**Write down the conclusions you draw from your analysis**"
   ]
  },
  {
   "cell_type": "markdown",
   "metadata": {
    "id": "I56huIocjwOa"
   },
   "source": [
    "**Some Remarks on \"capital_loss\" Feature:** \n",
    "\n",
    "📝 ``A capital loss is considered to sell an investment for less than the original purchase price.``\n",
    "\n",
    "Here are the findings from the dataset:\n",
    "\n",
    "- Unlike the capital gain, we recognize a similar patterns for both salary-levels populations in the capital loss data.\n",
    "- The graphs -boxplots and histograms- show similar distributions among the people who make money <=50K and those who make money >50K. Both are close to a normal distribution and most of the values are clustered around \"0\". It leaded us again to consider the \"capital_loss\" column with nonzero values to better understand the data.\n",
    "- When \"0\" values are eliminated, it is realized that the pattern of the data in both salary levels get closer to each other. The statistical description of the capital loss data support our claim with the close mean, median, and IQRs."
   ]
  },
  {
   "cell_type": "markdown",
   "metadata": {
    "id": "x6Q6OxR6jwOa"
   },
   "source": [
    "## hours_per_week"
   ]
  },
  {
   "cell_type": "markdown",
   "metadata": {
    "id": "XVEKpdK8jwOa"
   },
   "source": [
    "**Check the boxplot to see extreme values**"
   ]
  },
  {
   "cell_type": "code",
   "execution_count": null,
   "metadata": {
    "id": "DdGT1VGIjwOb",
    "outputId": "ed85aa55-97fa-42c9-b5dd-ff56c8a79cc8"
   },
   "outputs": [],
   "source": [
    "# Checking the extreme values in the \"hours_per_week\" feature with box plot\n",
    "\n",
    "sns.boxplot(data=df, \n",
    "            x=\"hours_per_week\",\n",
    "            showmeans=True,\n",
    "            meanprops={\"marker\":\"o\",\n",
    "                       \"markerfacecolor\":\"white\", \n",
    "                       \"markeredgecolor\":\"black\",\n",
    "                       \"markersize\":\"10\"})\n",
    "\n",
    "plt.title(\"Working-Hours Distribution\", fontsize=18, color='darkblue');"
   ]
  },
  {
   "cell_type": "markdown",
   "metadata": {
    "id": "6lclEo50jwOb"
   },
   "source": [
    "**Check the histplot/kdeplot to see distribution of feature**"
   ]
  },
  {
   "cell_type": "code",
   "execution_count": null,
   "metadata": {
    "id": "LNh8hE8cjwOb",
    "outputId": "a7045558-dc1d-4281-d91c-b3e49f8460c6",
    "scrolled": false
   },
   "outputs": [],
   "source": [
    "# Checking Density Distribution of the \"hours_per_week\" Feature \n",
    "\n",
    "sns.kdeplot(data=df, x=\"hours_per_week\", fill=True)\n",
    "\n",
    "plt.title(\"Working-Hours Density\", fontsize=18, color='darkblue');"
   ]
  },
  {
   "cell_type": "markdown",
   "metadata": {
    "id": "lXvtJXUhjwOb"
   },
   "source": [
    "**Check the statistical values**"
   ]
  },
  {
   "cell_type": "code",
   "execution_count": null,
   "metadata": {
    "id": "91QCi4I6jwOb",
    "outputId": "c7e8a38f-9a14-4b99-a9ce-9cde0e8393b4",
    "scrolled": true
   },
   "outputs": [],
   "source": [
    "# Descriptive Statistics of \"hours_per_week\" by Salary\n",
    "\n",
    "print(colored('Descriptive Statistics of the \"hours_per_week\" :\\n', 'blue', attrs=['bold']))\n",
    "df.hours_per_week.describe()"
   ]
  },
  {
   "cell_type": "markdown",
   "metadata": {
    "id": "HseRL6G5jwOb"
   },
   "source": [
    "**Check the boxplot and histplot/kdeplot by \"salary\" levels**"
   ]
  },
  {
   "cell_type": "code",
   "execution_count": null,
   "metadata": {
    "id": "Mukw_H66jwOb",
    "outputId": "cb7de7ad-7bc5-49f9-f7ed-714d028aafce"
   },
   "outputs": [],
   "source": [
    "# Checking the extreme values in the \"hours_per_week\" by Salary with box plot\n",
    "\n",
    "plt.figure(figsize=(14, 8))\n",
    "\n",
    "sns.boxplot(data=df, \n",
    "            y=\"salary\", \n",
    "            x=\"hours_per_week\",\n",
    "            showmeans=True,\n",
    "            meanprops={\"marker\":\"o\",\n",
    "                       \"markerfacecolor\":\"white\", \n",
    "                       \"markeredgecolor\":\"black\",\n",
    "                       \"markersize\":\"10\"})\n",
    "\n",
    "# Adding in points to show each observation\n",
    "sns.stripplot(data=df,\n",
    "              y=\"salary\", \n",
    "              x=\"hours_per_week\",\n",
    "              size=4, \n",
    "              color=\"purple\", \n",
    "              linewidth=0)\n",
    "\n",
    "# Tweaking the visual presentation\n",
    "ax.xaxis.grid(True)\n",
    "ax.set(ylabel=\"\")\n",
    "sns.despine(trim=True, left=True)\n",
    "\n",
    "plt.title(\"Working-Hours by Salary\", fontsize=18, color='darkblue');            "
   ]
  },
  {
   "cell_type": "code",
   "execution_count": null,
   "metadata": {
    "id": "XBqReNqFjwOc",
    "outputId": "166118aa-2bde-4ff7-db06-71980aac0e5d",
    "scrolled": false
   },
   "outputs": [],
   "source": [
    "# Checking Density Distribution of the \"hours_per_week\" by Salary \n",
    "\n",
    "sns.kdeplot(data=df, x=\"hours_per_week\", hue=\"salary\", fill=True)\n",
    "\n",
    "plt.title(\"Working-Hours by Salary\", fontsize=18, color='darkblue');            "
   ]
  },
  {
   "cell_type": "markdown",
   "metadata": {
    "id": "ZNgKEn8pjwOc"
   },
   "source": [
    "**Check the statistical values by \"salary\" levels**"
   ]
  },
  {
   "cell_type": "code",
   "execution_count": null,
   "metadata": {
    "id": "zBTGWf-NjwOc",
    "outputId": "38347e5c-5062-4471-a271-6fef3ac236a2",
    "scrolled": true
   },
   "outputs": [],
   "source": [
    "# Descriptive Statistics of \"hours_per_week\" by Salary\n",
    "\n",
    "print(colored('Descriptive Statistics of the \"hours_per_week\" by Salary :\\n', 'blue', attrs=['bold']))\n",
    "df.groupby(\"salary\").hours_per_week.describe()"
   ]
  },
  {
   "cell_type": "code",
   "execution_count": null,
   "metadata": {},
   "outputs": [],
   "source": [
    "show_compare(df, \"hours_per_week\", \"salary\")"
   ]
  },
  {
   "cell_type": "markdown",
   "metadata": {
    "id": "eSSyAXhmjwOc"
   },
   "source": [
    "**Write down the conclusions you draw from your analysis**"
   ]
  },
  {
   "cell_type": "markdown",
   "metadata": {
    "id": "ohMQzPJkjwOc"
   },
   "source": [
    "**Remarks on \"hours_per_week\" Feature:** \n",
    "\n",
    "- We don't recognize a distinguishable difference between two salary levels in terms of the number of working hours. Both salary-level graphs indicate that the number of hour values clustered at 40 hours in general as expected. Most of the full time employees work 8 hours per day. Since the number of working hours is standardized, it doesn't change much across the salary levels.\n",
    "- However, it is observed that the \"<=50K population\" data shows a peaky normal distribution ([leptokurtic distribution](https://www.analyticsvidhya.com/blog/2021/05/shape-of-data-skewness-and-kurtosis/#:~:text=Summary,pushed%20towards%20the%20left%20side).)) while \">50K population\" data is slightly right-skewed and it's distribution is binominal which should be taken into consideration for determining if there have been any underlying patterns. The statistical measurements support the visuals with closer mean & median values in the former while a higher mean compared to median in the latter.\n",
    "- Nevertheless, it can be stated that to be in a high-income group, almost at least an average of 45 working-hours per week is required. Most of those who work less than 39 hours per week are in the low-income group.\n",
    "\n",
    "🧐 **[What is skewness and kurtosis for normal distribution?](https://www.spcforexcel.com/knowledge/basic-statistics/are-skewness-and-kurtosis-useful-statistics)**\n",
    "\n",
    "🧐 **[Kurtosis() & Skew() Function In Pandas](https://medium.com/@atanudan/kurtosis-skew-function-in-pandas-aa63d72e20de)**\n"
   ]
  },
  {
   "cell_type": "code",
   "execution_count": null,
   "metadata": {},
   "outputs": [],
   "source": [
    "# Checking the skewness of all features in the dataset\n",
    "\n",
    "df.skew(axis=0)"
   ]
  },
  {
   "cell_type": "code",
   "execution_count": null,
   "metadata": {},
   "outputs": [],
   "source": [
    "# Checking the kurtosis of all features in the dataset\n",
    "\n",
    "df.kurtosis(axis=0)"
   ]
  },
  {
   "cell_type": "markdown",
   "metadata": {},
   "source": [
    "📝 **``Mesokurtic:``** This distribution has kurtosis statistic similar to that of the normal distribution. It means that the extreme values of the distribution are similar to that of a normal distribution characteristic. This definition is used so that the standard normal distribution has a kurtosis of three.\n",
    "\n",
    "📝 **``Leptokurtic (Kurtosis > 3):``** Distribution is longer, tails are fatter. Peak is higher and sharper than Mesokurtic, which means that data are heavy-tailed or profusion of outliers.\n",
    "Outliers stretch the horizontal axis of the histogram graph, which makes the bulk of the data appear in a narrow (“skinny”) vertical range, thereby giving the “skinniness” of a leptokurtic distribution.\n",
    "\n",
    "📝 **``Platykurtic: (Kurtosis < 3):``** Distribution is shorter, tails are thinner than the normal distribution. The peak is lower and broader than Mesokurtic, which means that data are light-tailed or lack of outliers.\n",
    "The reason for this is because the extreme values are less than that of the normal distribution.\n",
    "\n",
    "🧐 **[Why is high positive kurtosis problematic for hypothesis tests?](https://stats.stackexchange.com/questions/193117/why-is-high-positive-kurtosis-problematic-for-hypothesis-tests)**\n",
    "\n",
    "🧐 **[Skew and Kurtosis: 2 Important Statistics terms you need to know in Data Science](https://codeburst.io/2-important-statistics-terms-you-need-to-know-in-data-science-skewness-and-kurtosis-388fef94eeaa)**"
   ]
  },
  {
   "cell_type": "markdown",
   "metadata": {
    "id": "jWt2NRMNjwOd"
   },
   "source": [
    "### See the relationship between each numeric features by target feature (salary) in one plot basically"
   ]
  },
  {
   "cell_type": "markdown",
   "metadata": {},
   "source": [
    "A pairplot plot a pairwise relationships in a dataset."
   ]
  },
  {
   "cell_type": "code",
   "execution_count": null,
   "metadata": {
    "id": "hcrCeeXdjwOd",
    "outputId": "f7cf6e61-264e-4f5d-9288-7ebb1b8624c7"
   },
   "outputs": [],
   "source": [
    "g = sns.pairplot(df, hue=\"salary\", palette=\"viridis\", corner=True)\n",
    "\n",
    "g.fig.suptitle(\"Pairwise Relationships Among Features\", fontsize=20, color='darkblue');            "
   ]
  },
  {
   "cell_type": "markdown",
   "metadata": {
    "id": "KoqL-m8HjwOd"
   },
   "source": [
    "## Categorical Features"
   ]
  },
  {
   "cell_type": "markdown",
   "metadata": {
    "id": "r2MBtjItjwOd"
   },
   "source": [
    "## education & education_num"
   ]
  },
  {
   "cell_type": "markdown",
   "metadata": {
    "id": "rBi5WgmdjwOd"
   },
   "source": [
    "**Detect the similarities between these features by comparing unique values**"
   ]
  },
  {
   "cell_type": "code",
   "execution_count": null,
   "metadata": {
    "id": "erMfSRYhjwOd",
    "outputId": "5d40c2e9-00d8-4f71-fdcc-892ca07123d7"
   },
   "outputs": [],
   "source": [
    "# Checking the uniques of \"education\" feature and determining their numbers\n",
    "\n",
    "df.education.value_counts(dropna=False)"
   ]
  },
  {
   "cell_type": "code",
   "execution_count": null,
   "metadata": {
    "id": "Ow5F5w2YjwOe",
    "outputId": "dc8b2b0e-68d3-4dd7-9386-afd4fe5c5f94"
   },
   "outputs": [],
   "source": [
    "# Checking the uniques of \"education_num\" feature and determining their numbers \n",
    "\n",
    "df.education_num.value_counts(dropna=False)"
   ]
  },
  {
   "cell_type": "code",
   "execution_count": null,
   "metadata": {
    "id": "MGmoLehAjwOe",
    "outputId": "cdb342a1-668a-436f-a79f-64ce13df6292"
   },
   "outputs": [],
   "source": [
    "# Comparing the uniques of \"education\" with those of \"education_num\"\n",
    "\n",
    "df.groupby('education').education_num.value_counts(dropna=False)"
   ]
  },
  {
   "cell_type": "markdown",
   "metadata": {
    "id": "_TBE_09QjwOe"
   },
   "source": [
    "**Visualize the count of person in each categories for these features (education, education_num) separately**"
   ]
  },
  {
   "cell_type": "code",
   "execution_count": null,
   "metadata": {
    "id": "Et91cYt3jwOe",
    "outputId": "ac82185c-05b4-4f38-aa91-cb5e0a842e36"
   },
   "outputs": [],
   "source": [
    "# Visualization of \"education\" feature\n",
    "\n",
    "ax = sns.countplot(data=df, x=\"education\")\n",
    "\n",
    "plt.xticks(rotation=60)\n",
    "\n",
    "plt.title(\"The Number of People by Educational Levels\", fontsize=16, color=\"darkblue\")\n",
    "\n",
    "for container in ax.containers:\n",
    "    ax.bar_label(container);"
   ]
  },
  {
   "cell_type": "code",
   "execution_count": null,
   "metadata": {
    "id": "hBNaS39UjwOe",
    "outputId": "47499dca-97bf-4bb7-8e8b-72c006e82733"
   },
   "outputs": [],
   "source": [
    "# Visualization of \"education_num\" feature\n",
    "\n",
    "ax = sns.countplot(data=df, x=\"education_num\")\n",
    "\n",
    "plt.title(\"The Number of People by Educational Levels\", fontsize=16, color=\"darkblue\")\n",
    "\n",
    "for container in ax.containers:\n",
    "    ax.bar_label(container);"
   ]
  },
  {
   "cell_type": "code",
   "execution_count": null,
   "metadata": {},
   "outputs": [],
   "source": [
    "# Visualization of \"education\" and \"education_num\" features by order\n",
    "\n",
    "education_count = df[\"education\"].value_counts().index\n",
    "education_num_count = df[\"education_num\"].value_counts().index\n",
    "\n",
    "fig, ax = plt.subplots(2, 1, figsize=(12, 20))\n",
    "\n",
    "sns.countplot(df[\"education\"], order=education_count, ax=ax[0])\n",
    "for container in ax[0].containers:\n",
    "    ax[0].bar_label(container);\n",
    "\n",
    "sns.countplot(df[\"education_num\"], order=education_num_count, ax=ax[1])\n",
    "for container in ax[1].containers:\n",
    "    ax[1].bar_label(container);\n",
    "\n",
    "ax[0].tick_params(axis='x', rotation=60)\n",
    "\n",
    "plt.subplots_adjust(hspace=0.6);"
   ]
  },
  {
   "cell_type": "markdown",
   "metadata": {},
   "source": [
    "The pattern of the counts in both features are almost equivalent. It is realized that \"9.0\" represent \"HS-Grad\", \"10.0\" represents \"Some-college\", \"1.0\" represents \"Preschool\" and so on. There are slight differences between the counts. It might be caused by the human errors during the survey."
   ]
  },
  {
   "cell_type": "markdown",
   "metadata": {
    "id": "60WFA-LxjwOf"
   },
   "source": [
    "**Check the count of person in each \"salary\" levels by these features (education and education_num) separately and visualize them with countplot**"
   ]
  },
  {
   "cell_type": "code",
   "execution_count": null,
   "metadata": {
    "id": "chHCgF19jwOf",
    "outputId": "f5102728-d7aa-4930-8def-2fce6deda3e7"
   },
   "outputs": [],
   "source": [
    "# Checking \"education\" feature by Salary in detail \n",
    "\n",
    "df.groupby(\"education\").salary.value_counts()"
   ]
  },
  {
   "cell_type": "code",
   "execution_count": null,
   "metadata": {
    "id": "JxY-H7xWjwOg",
    "outputId": "e0c058e7-1442-478d-ee13-c1c030c658ed"
   },
   "outputs": [],
   "source": [
    "# Visualizing the number of people in each \"education\" level by Salary\n",
    "\n",
    "ax = sns.countplot(data=df, x=\"education\", hue=\"salary\")\n",
    "\n",
    "plt.title(\"The Number of by Educational Levels by Salary\", fontsize=16, color=\"darkblue\")\n",
    "\n",
    "plt.xticks(rotation = 60)\n",
    "\n",
    "for container in ax.containers:\n",
    "    ax.bar_label(container);"
   ]
  },
  {
   "cell_type": "code",
   "execution_count": null,
   "metadata": {
    "id": "aKGJkgY5jwOg",
    "outputId": "b798de1e-7706-48b6-b2bd-6be1a3541a42",
    "scrolled": false
   },
   "outputs": [],
   "source": [
    "# Checking \"education_num\" feature by Salary in detail \n",
    "\n",
    "df.groupby(\"education_num\").salary.value_counts()"
   ]
  },
  {
   "cell_type": "code",
   "execution_count": null,
   "metadata": {
    "id": "p4NNYHK5jwOg",
    "outputId": "27efa7fb-2e06-4b33-e1f9-3d18365156bd",
    "scrolled": false
   },
   "outputs": [],
   "source": [
    "# Visualizing the number of people in each \"education_num\" level by Salary\n",
    "\n",
    "ax = sns.countplot(data=df, \n",
    "                   x=\"education_num\", \n",
    "                   hue=\"salary\")\n",
    "\n",
    "plt.title(\"The Number of by Educational Levels by Salary\", fontsize=16, color=\"darkblue\")\n",
    "\n",
    "for container in ax.containers:\n",
    "    ax.bar_label(container);"
   ]
  },
  {
   "cell_type": "markdown",
   "metadata": {
    "id": "u1tOfC0AjwOh"
   },
   "source": [
    "**Visualize the boxplot of \"education_num\" feature by \"salary\" levels**"
   ]
  },
  {
   "cell_type": "code",
   "execution_count": null,
   "metadata": {
    "id": "iKbHdqizjwOh",
    "outputId": "6fc11e2b-114c-4f8a-d94c-165e9f7ab619",
    "scrolled": true
   },
   "outputs": [],
   "source": [
    "# Checking the extreme values in the \"education_num\" by Salary with box plot\n",
    "\n",
    "plt.figure(figsize=(14, 8))\n",
    "\n",
    "sns.boxplot(data=df, \n",
    "            y=\"salary\", \n",
    "            x=\"education_num\")\n",
    "\n",
    "# Adding in points to show each observation\n",
    "sns.stripplot(data=df,\n",
    "              y=\"salary\", \n",
    "              x=\"education_num\",\n",
    "              size=4, \n",
    "              color=\"purple\", \n",
    "              linewidth=0)\n",
    "\n",
    "# Tweaking the visual presentation\n",
    "ax.xaxis.grid(True)\n",
    "ax.set(ylabel=\"\")\n",
    "sns.despine(trim=True, left=True)\n",
    "\n",
    "plt.title(\"The Distribution of Education\", fontsize=16, color=\"darkblue\");"
   ]
  },
  {
   "cell_type": "markdown",
   "metadata": {},
   "source": [
    "**By means of \"Feature Engineering\", decreasing the number of categories in \"education\" feature as \"elementary_primary_school_degree\", \"middle_secondary school_degree\", and \"high_level_degree\" and creating a new feature with this new categorical data would be helpful to interpret the data. So, let us do that in accordance with the domain knowledge below:**"
   ]
  },
  {
   "cell_type": "markdown",
   "metadata": {},
   "source": [
    "\n",
    "### 📝 [Domain Knowledge About Education in the US](https://www.investopedia.com/terms/c/capitalloss.asp)\n",
    "\n",
    "**[Structure of U.S. Education at U.S. Department of Education](https://www2.ed.gov/about/offices/list/ous/international/usnei/us/edlite-structure-us.html#:~:text=Education%20in%20the%20United%20States%20follows%20a%20pattern%20similar%20to,then%20postsecondary%20(tertiary)%20education.)**\n",
    "\n",
    "Education in the United States follows a pattern similar to that in many systems. Early childhood education is followed by **primary school** (called elementary school in the United States), **middle school, secondary school** (called high school in the United States), and then **postsecondary (tertiary) education**. Postsecondary education includes non-degree programs that lead to certificates and diplomas plus six degree levels: associate, bachelor, first professional, master, advanced intermediate, and research doctorate.\n",
    "\n",
    "**Primary or elementary education** ranges from grade 1 to grades 4-7, depending on state and school district policy [Elementary schools in the United States](https://en.wikipedia.org/wiki/Elementary_schools_in_the_United_States). **Middle schools** serve pre-adolescent and young adolescent students between grades 5 and 9, with most in the grade 6-8 range. Secondary education in the United States is the last seven years of statutory formal education grade 6 (age 11–12) through grade 12 (age 17–18). It occurs in two phases. The first is the ISCED lower secondary phase, a middle school or junior high school for students grade 6 (age 11–12) through grade 8 (age 13–14). The second is the ISCED upper secondary phase, a high school or senior high school for students grade 9 (age 14–15) through grade 12 (age 17–18) [Secondary education in the United States](https://en.wikipedia.org/wiki/Secondary_education_in_the_United_States).\n",
    "\n",
    "**High school graduate** means an individual who has received a high school diploma from a high school or passed the general educational development (GED) diploma test or any other high school graduate equivalency examination approved by the state board of education.\n",
    "\n",
    "**Community colleges** and **vocational schools** are two pathways to success your career. Traditionally, **community colleges** offer two-year degrees on a wide variety of topics. Graduates earn associates degrees, many of which offer increased earning potential—and the possibility of transferring to a four-year institution to finish their degree. In other words, they serve as pipelines for four-year degrees and more—and cost less than traditional college programs. **Vocational schools**, historically, focus on on-the-job training and apprenticeships for industries like manufacturing. Some describe vocational programs as “career and technical” education.\n",
    "\n",
    "**A bachelor’s degree** is an undergraduate degree in which you study a subject of your choice at an academic institution, and is commonly known as a college degree.\n",
    "\n",
    "**Higher-postsecondary education** in the United States is an optional stage of formal learning following secondary education and third level education after you leave school. Higher education is also referred as post-secondary education, third-stage, third-level, or tertiary education. It is tertiary education leading to award of an academic degree. Higher education is an optional final stage of formal learning that occurs after completion of secondary education [Higher education](https://en.wikipedia.org/wiki/Higher_education). It takes places at universities and Further Education colleges and normally includes undergraduate and postgraduate study. Higher education gives you the chance to study a subject you are interested in and can boost your career prospects and earning potential [Higher education in the United States](https://en.wikipedia.org/wiki/Higher_education_in_the_United_States). \n",
    "\n",
    "**[Academic degrees in the World](https://en.wikipedia.org/wiki/Academic_degree)**\n",
    "\n",
    "**[5 Types of Academic Degrees in the US:](https://www.indeed.com/career-advice/career-development/types-of-academic-degrees)**\n",
    "\n",
    "<img src=https://i.ibb.co/4Th6MRC/academic-degree.png width=\"400\" height=\"100\" align=\"left\">\n",
    "\n"
   ]
  },
  {
   "cell_type": "code",
   "execution_count": null,
   "metadata": {
    "id": "ogvWXpzCjwOh"
   },
   "outputs": [],
   "source": [
    "def mapping_education(x):\n",
    "    if x in [\"Preschool\", \"1st-4th\", \"5th-6th\"]:\n",
    "        return \"elementary_primary_school_degree\"\n",
    "    elif x in [\"7th-8th\", \"9th\", \"10th\", \"11th\", \"12th\", \"HS-grad\"]:\n",
    "        return \"middle_secondary school_degree\"\n",
    "    elif x in [\"Some-college\", \"Assoc-voc\", \"Assoc-acdm\", \"Bachelors\", \"Masters\", \"Prof-school\", \"Doctorate\"]:\n",
    "        return \"high_level_degree\""
   ]
  },
  {
   "cell_type": "code",
   "execution_count": null,
   "metadata": {
    "id": "apgUwWupjwOi",
    "outputId": "6f31480c-3794-47e1-f7d7-7e65e764b20a",
    "scrolled": true
   },
   "outputs": [],
   "source": [
    "df.education.apply(mapping_education).value_counts(dropna=False)"
   ]
  },
  {
   "cell_type": "code",
   "execution_count": null,
   "metadata": {
    "id": "c6q4GTXxjwOi"
   },
   "outputs": [],
   "source": [
    "df[\"education_summary\"] = df.education.apply(mapping_education)"
   ]
  },
  {
   "cell_type": "markdown",
   "metadata": {
    "id": "tKtlRPugjwOi"
   },
   "source": [
    "**Visualize the count of person in each categories for these new education levels (high, medium, low)**"
   ]
  },
  {
   "cell_type": "code",
   "execution_count": null,
   "metadata": {
    "id": "qG7G9A5EjwOi",
    "outputId": "4ab5f7a5-88b8-489b-eb70-f81dc157d2c5",
    "scrolled": false
   },
   "outputs": [],
   "source": [
    "# Visualizing the number of persons in each sub-categories of \"education_summary\" (high, medium, low)\n",
    "\n",
    "ax = sns.countplot(data=df, x=\"education_summary\")\n",
    "\n",
    "plt.title(\"The Distribution of Education\", fontsize=16, color=\"darkblue\")\n",
    "\n",
    "for container in ax.containers:\n",
    "    ax.bar_label(container);"
   ]
  },
  {
   "cell_type": "markdown",
   "metadata": {
    "id": "Hs4Zjh3vjwOj"
   },
   "source": [
    "**Check the count of person in each \"salary\" levels by these new education levels(high, medium, low) and visualize it with countplot**"
   ]
  },
  {
   "cell_type": "code",
   "execution_count": null,
   "metadata": {
    "id": "RWhu4q0GjwOj",
    "outputId": "0a3af47b-f4ef-4cbd-aa0f-d2121a1fcf40"
   },
   "outputs": [],
   "source": [
    "# The number of persons in each \"education_summary\" levels by Salary (high, medium, low)\n",
    "\n",
    "df.groupby(\"education_summary\").salary.value_counts()"
   ]
  },
  {
   "cell_type": "code",
   "execution_count": null,
   "metadata": {
    "id": "yWc48AuTjwOj",
    "outputId": "861f518d-4be2-46e6-dfef-7080d2671f53",
    "scrolled": false
   },
   "outputs": [],
   "source": [
    "# Visualizing the number of persons in each sub-categories of \"education_summary\" (high, medium, low) by Salary\n",
    "\n",
    "ax = sns.countplot(data=df, x=\"education_summary\", hue=\"salary\")\n",
    "\n",
    "plt.title(\"The Distribution of Education by Salary\", fontsize=16, color=\"darkblue\")\n",
    "\n",
    "for container in ax.containers:\n",
    "    ax.bar_label(container);"
   ]
  },
  {
   "cell_type": "markdown",
   "metadata": {
    "id": "67F2OAabjwOj"
   },
   "source": [
    "**Check the percentage distribution of person in each \"salary\" levels by each new education levels (high, medium, low) and visualize it with pie plot separately**"
   ]
  },
  {
   "cell_type": "code",
   "execution_count": null,
   "metadata": {
    "id": "avEKPbeBjwOj",
    "outputId": "4ee991cb-ccad-44cf-ec40-86dc16bbe311"
   },
   "outputs": [],
   "source": [
    "# The Proportional Distribution of persons in each sub-categories of \"education_summary\" (high, medium, low) by Salary \n",
    "\n",
    "edu = df.groupby([\"education_summary\"]).salary.value_counts(normalize=True)\n",
    "edu"
   ]
  },
  {
   "cell_type": "code",
   "execution_count": null,
   "metadata": {},
   "outputs": [],
   "source": [
    "# df2 = df.groupby(\"education_summary\").salary.value_counts(normalize=True).unstack(level=0)\n",
    "# df2.plot(kind=\"pie\", \n",
    "#          subplots=True,\n",
    "#          layout=(1, 3),\n",
    "#          labels=[\"<=50K\", \">50K\"],\n",
    "#          title=[\"high_level_grade\", \"low_level_grade\", \"medium_level_grade\"],\n",
    "#          ylabel=\"salary\",\n",
    "#          autopct=\"%.2f%%\", legend=False, figsize=(15, 5),\n",
    "#          colors=[\"#c3eba9\",\"#34d8eb\"]);"
   ]
  },
  {
   "cell_type": "code",
   "execution_count": null,
   "metadata": {
    "id": "AMwp-cf0jwOk",
    "outputId": "efe8d71e-f26b-4a26-8bb6-9f8180a950ab",
    "scrolled": false
   },
   "outputs": [],
   "source": [
    "# Visualizing the percentages of \"education_summary\" levels by Salary\n",
    "\n",
    "plt.figure(figsize=(18, 6))\n",
    "index=1\n",
    "for i in [0, 2, 4]:\n",
    "    plt.subplot(1, 3, index)\n",
    "    edu[i:i+2].plot.pie(subplots=True,\n",
    "                        labels=[\"<=50K\", \">50K\"],\n",
    "                        autopct=\"%.2f%%\",\n",
    "                        textprops={'fontsize': 12},\n",
    "                        colors=['pink', 'lightskyblue'],\n",
    "                        )\n",
    "    plt.title(edu.index[i][0], fontdict = {'fontsize': 14})\n",
    "#    plt.legend()\n",
    "    index += 1"
   ]
  },
  {
   "cell_type": "markdown",
   "metadata": {
    "id": "b5mSBv18jwOk"
   },
   "source": [
    "**Check the count of person in each these new education levels(high, medium, low) by \"salary\" levels and visualize it with countplot**"
   ]
  },
  {
   "cell_type": "code",
   "execution_count": null,
   "metadata": {
    "id": "GXJj2IXJjwOk",
    "outputId": "6d6ad812-eb9a-4d49-c941-19133450f959"
   },
   "outputs": [],
   "source": [
    "# The number of persons in each \"salary\" by \"education_summary\" levels (high, medium, low)\n",
    "\n",
    "df.groupby(\"salary\").education_summary.value_counts()"
   ]
  },
  {
   "cell_type": "code",
   "execution_count": null,
   "metadata": {
    "id": "RJp4-7wujwOk",
    "outputId": "9b5599dc-4085-496a-95fd-b1e40a1c18a3",
    "scrolled": false
   },
   "outputs": [],
   "source": [
    "# Visualizing the number of persons in \"salary\" feature by \"education_summary\" (high, medium, low) \n",
    "\n",
    "ax = sns.countplot(data=df, x=\"salary\", hue=\"education_summary\")\n",
    "\n",
    "plt.title(\"The Distribution of Education by Salary\", fontsize=16, color=\"darkblue\")\n",
    "\n",
    "for container in ax.containers:\n",
    "    ax.bar_label(container);"
   ]
  },
  {
   "cell_type": "markdown",
   "metadata": {
    "id": "eAj4WMoCjwOk"
   },
   "source": [
    "**Check the the percentage distribution of person in each these new education levels(high, medium, low) by \"salary\" levels and visualize it with pie plot separately**"
   ]
  },
  {
   "cell_type": "code",
   "execution_count": null,
   "metadata": {
    "id": "9pPfEER4jwOk",
    "outputId": "69016c33-0a76-49e8-a089-51051b31f986"
   },
   "outputs": [],
   "source": [
    "# The proportion of persons in each \"salary\" by \"education_summary\" levels (high, medium, low)\n",
    "\n",
    "edu = df.groupby([\"salary\"]).education_summary.value_counts(normalize=True)\n",
    "edu"
   ]
  },
  {
   "cell_type": "code",
   "execution_count": null,
   "metadata": {
    "id": "Xi39POo6jwOl",
    "outputId": "9d67dd62-7ac2-459e-e329-0d9e6abf4268",
    "scrolled": false
   },
   "outputs": [],
   "source": [
    "# Visualizing the percentages of persons in each \"salary\" group by Education levels (high, medium, low) \n",
    "\n",
    "plt.figure(figsize = (18, 6))\n",
    "index = 1\n",
    "for i in [0, 3]:\n",
    "    plt.subplot(1, 2, index)\n",
    "    edu[i:i+3].plot.pie(subplots=True,\n",
    "#                        labels=[\"secondary education\", \"higher education\", \"primary education\"],\n",
    "                        autopct=\"%.2f%%\",\n",
    "                        textprops={'fontsize': 12},\n",
    "                        colors=['pink', 'lightskyblue', 'lightgreen'],\n",
    "                        )\n",
    "    plt.title(edu.index[i][0], fontdict = {'fontsize': 14})\n",
    "#    plt.legend()\n",
    "    index += 1"
   ]
  },
  {
   "cell_type": "code",
   "execution_count": null,
   "metadata": {
    "id": "ISrF9dH8jwOl",
    "outputId": "6f235c4a-5999-4273-ae91-0a38f3acfb88"
   },
   "outputs": [],
   "source": [
    "# Creating a dataframe demonstrating the percentages of education level by Salary \n",
    "\n",
    "edu_df = pd.DataFrame(edu)\n",
    "edu_df.rename(columns={\"education_summary\": \"percentage\"}, inplace=True)\n",
    "edu_df.reset_index(inplace=True)\n",
    "edu_df.sort_values(by=[\"salary\", \"education_summary\"], inplace=True)\n",
    "edu_df"
   ]
  },
  {
   "cell_type": "code",
   "execution_count": null,
   "metadata": {
    "id": "-ugj-CUPjwOl",
    "outputId": "2c61a157-6127-42ff-c273-facb03652242"
   },
   "outputs": [],
   "source": [
    "# Visualizing the percentages of persons in each \"salary\" group by Education levels (high, medium, low)\n",
    "\n",
    "plt.figure(figsize = (18, 6))\n",
    "index = 1\n",
    "for i in [0, 3]:\n",
    "    plt.subplot(1, 2, index)\n",
    "    edu_df[\"percentage\"][i:i+3].plot.pie(subplots=True,\n",
    "                                         labels=[\"primary education\", \"higher education\", \"secondary education\"],\n",
    "                                         autopct=\"%.2f%%\",\n",
    "                                         textprops={'fontsize': 12},\n",
    "                                         colors=['pink', 'lightskyblue', 'lightgreen'],\n",
    "                                         )\n",
    "    plt.title(edu_df.salary[i], fontdict = {'fontsize': 14})\n",
    "#    plt.legend()\n",
    "    index += 1"
   ]
  },
  {
   "cell_type": "markdown",
   "metadata": {
    "id": "w94EfDfXjwOq"
   },
   "source": [
    "**Write down the conclusions you draw from your analysis**"
   ]
  },
  {
   "cell_type": "markdown",
   "metadata": {
    "id": "I0rff9v4jwOr"
   },
   "source": [
    "**Some Remarks on \"education\" Feature:** \n",
    "\n",
    "- Apparently, the individuals with higher education levels have higher income. In other words, the more education the more high income.\n",
    "- It is a very low probability (2.13%) to earn more money when an individual has a lower (primary) educational background.\n",
    "\n",
    "Sum up, the majority of participants that earn more than 50K (75.53%) have high level of education. For those who make money 50K or less, the percentages of higher and secondary level of educational attainments are very close to each other, 48.08% and 49.79% respectively. Yet, educational attainment level for high income group is higher. It can be assumed that education and salary seem to be significantly related."
   ]
  },
  {
   "cell_type": "markdown",
   "metadata": {
    "id": "vqWCeRBujwOr"
   },
   "source": [
    "## marital_status & relationship"
   ]
  },
  {
   "cell_type": "markdown",
   "metadata": {
    "id": "IBrIsEoDjwOr"
   },
   "source": [
    "**Detect the similarities between these features by comparing unique values**"
   ]
  },
  {
   "cell_type": "code",
   "execution_count": null,
   "metadata": {
    "id": "UbdQNz5GjwOr",
    "outputId": "5afb1ae7-f639-4899-95d1-7ccb34a587b4"
   },
   "outputs": [],
   "source": [
    "# Checking the uniques of \"marital_status\" feature and determining their numbers\n",
    "\n",
    "df.marital_status.value_counts(dropna=False)"
   ]
  },
  {
   "cell_type": "code",
   "execution_count": null,
   "metadata": {
    "id": "Hj_VnvaQjwOr",
    "outputId": "6a7881fb-a855-425c-a181-5e5f9ef2273a"
   },
   "outputs": [],
   "source": [
    "# Checking the uniques of \"relationship\" feature and determining their numbers\n",
    "\n",
    "df.relationship.value_counts(dropna=False)"
   ]
  },
  {
   "cell_type": "code",
   "execution_count": null,
   "metadata": {
    "id": "1aEdaG0IjwOs"
   },
   "outputs": [],
   "source": [
    "# Filling the missing values with \"Unknown\" in the column of \"relationship\"\n",
    "\n",
    "df.relationship.fillna(\"Unknown\", inplace=True)"
   ]
  },
  {
   "cell_type": "code",
   "execution_count": null,
   "metadata": {
    "id": "st8PcXfRjwOs",
    "outputId": "32a8774d-d444-4f11-d1c8-883d81299ac8"
   },
   "outputs": [],
   "source": [
    "# Checking the uniques of \"relationship\" and \"marital_status\" features and determining their numbers\n",
    "\n",
    "df.groupby(\"relationship\").marital_status.value_counts(dropna=False)"
   ]
  },
  {
   "cell_type": "markdown",
   "metadata": {
    "id": "yPM-OiBhjwOs"
   },
   "source": [
    "**Assessment :** These features have almost same info, but \"relationship\" feature has %15 of missing values. So I have decided to go my way with \"marital_status\" feature"
   ]
  },
  {
   "cell_type": "markdown",
   "metadata": {
    "id": "K6riSLdzjwOs"
   },
   "source": [
    "**Visualize the count of person in each categories**"
   ]
  },
  {
   "cell_type": "code",
   "execution_count": null,
   "metadata": {
    "id": "qFL9Z5b5jwOs",
    "outputId": "056dc480-d85a-40a8-b162-4ad1b690d518"
   },
   "outputs": [],
   "source": [
    "# Visualizing the number of persons in \"marital_status\" feature\n",
    "\n",
    "ax = sns.countplot(data=df, x=\"marital_status\")\n",
    "\n",
    "plt.title(\"The Distribution of Marital Status\", fontsize=16, color=\"darkblue\")\n",
    "plt.xticks(rotation=45)\n",
    "\n",
    "for container in ax.containers:\n",
    "    ax.bar_label(container);"
   ]
  },
  {
   "cell_type": "markdown",
   "metadata": {
    "id": "7bcL3vvOjwOs"
   },
   "source": [
    "**Check the count of person in each \"salary\" levels by categories and visualize it with countplot**"
   ]
  },
  {
   "cell_type": "code",
   "execution_count": null,
   "metadata": {
    "id": "HIcxgxRyjwOs",
    "outputId": "90524096-5348-43e7-cc3b-5c0a980295f0"
   },
   "outputs": [],
   "source": [
    "# Checking the uniques of \"marital_status\" and \"relationship\" features and determining their numbers\n",
    "\n",
    "df.groupby(\"marital_status\").salary.value_counts()"
   ]
  },
  {
   "cell_type": "code",
   "execution_count": null,
   "metadata": {
    "id": "Q5OT5LGXjwOt",
    "outputId": "95610cff-58fa-4569-a626-599497dfe719"
   },
   "outputs": [],
   "source": [
    "# Visualizing the number of \"marital_status\" by \"relationship\" \n",
    "\n",
    "ax = sns.countplot(data=df, x=\"marital_status\", hue=\"salary\")\n",
    "\n",
    "plt.title(\"The Number of People in Each Salary Level by Marital Status\", fontsize=16, color=\"darkblue\")\n",
    "plt.xticks(rotation=45)\n",
    "\n",
    "for container in ax.containers:\n",
    "    ax.bar_label(container);"
   ]
  },
  {
   "cell_type": "markdown",
   "metadata": {},
   "source": [
    "The number of categories in \"marital_status\" feature will be re-organized as married and unmarried for a more detailed investigation. The new feature will be added to the dataset as a new categorical data."
   ]
  },
  {
   "cell_type": "markdown",
   "metadata": {
    "id": "AaZb50BZjwOt"
   },
   "source": [
    "**Decrease the number of categories in \"marital_status\" feature as married, and unmarried and create a new feature with this new categorical data**"
   ]
  },
  {
   "cell_type": "code",
   "execution_count": null,
   "metadata": {
    "id": "J-Pqmh3ljwOt"
   },
   "outputs": [],
   "source": [
    "def mapping_marital_status(x):\n",
    "    if x in [\"Never-married\", \"Divorced\", \"Separated\", \"Widowed\"]:\n",
    "        return \"single\"\n",
    "    elif x in [\"Married-civ-spouse\", \"Married-AF-spouse\", \"Married-spouse-absent\"]:\n",
    "        return \"married\""
   ]
  },
  {
   "cell_type": "code",
   "execution_count": null,
   "metadata": {
    "id": "5OebmePmjwOt",
    "outputId": "4c2e2727-dace-43d8-e6bf-e00a471910d0"
   },
   "outputs": [],
   "source": [
    "df.marital_status.apply(mapping_marital_status).value_counts(dropna=False)"
   ]
  },
  {
   "cell_type": "code",
   "execution_count": null,
   "metadata": {
    "id": "XrwJlCrgjwOt"
   },
   "outputs": [],
   "source": [
    "df[\"marital_status_summary\"] = df.marital_status.apply(mapping_marital_status)"
   ]
  },
  {
   "cell_type": "markdown",
   "metadata": {
    "id": "ia-VhumAjwOu"
   },
   "source": [
    "**Visualize the count of person in each categories for these new marital status (married, unmarried)**"
   ]
  },
  {
   "cell_type": "code",
   "execution_count": null,
   "metadata": {
    "id": "UqHiI5XUjwOu",
    "outputId": "3044fdf3-07a1-4420-ef6e-c8304008e830"
   },
   "outputs": [],
   "source": [
    "# Visualizing the number of persons in each sub-categories of \"marital_status_summary\" (single, married) \n",
    "\n",
    "ax = sns.countplot(data=df, x=\"marital_status_summary\")\n",
    "\n",
    "plt.title(\"The Distribution of Marital Status\", fontsize=16, color=\"darkblue\")\n",
    "\n",
    "for container in ax.containers:\n",
    "    ax.bar_label(container);"
   ]
  },
  {
   "cell_type": "markdown",
   "metadata": {
    "id": "ibWKNY8vjwOu"
   },
   "source": [
    "**Check the count of person in each \"salary\" levels by these new marital status (married, single) and visualize it with countplot**"
   ]
  },
  {
   "cell_type": "code",
   "execution_count": null,
   "metadata": {
    "id": "tYD8yljrjwOu",
    "outputId": "8a75eefe-af2f-4a66-90fd-84041cf6c902"
   },
   "outputs": [],
   "source": [
    "# Checking the number of persons in each sub-categories of \"marital_status_summary\" (single, married) by Salary\n",
    "\n",
    "df.groupby(\"marital_status_summary\").salary.value_counts()"
   ]
  },
  {
   "cell_type": "code",
   "execution_count": null,
   "metadata": {
    "id": "t2_aJMMSjwOu",
    "outputId": "8792cfe1-bc41-40b8-9dda-d1fbc78c9a6a"
   },
   "outputs": [],
   "source": [
    "# Visualizing the number of persons in each sub-categories of \"marital_status_summary\" (single, married) by Salary\n",
    "\n",
    "ax = sns.countplot(data=df, x=\"marital_status_summary\", hue=\"salary\")\n",
    "\n",
    "plt.title(\"The Distribution of Marital Status by Salary\", fontsize=16, color=\"darkblue\")\n",
    "\n",
    "for container in ax.containers:\n",
    "    ax.bar_label(container);"
   ]
  },
  {
   "cell_type": "markdown",
   "metadata": {
    "id": "jN44FLRhjwOu"
   },
   "source": [
    "**Check the percentage distribution of person in each \"salary\" levels by each new marital status (married, unmarried) and visualize it with pie plot separately**"
   ]
  },
  {
   "cell_type": "code",
   "execution_count": null,
   "metadata": {
    "id": "QXiVyJlGjwOv",
    "outputId": "f3e6a1cf-c9b6-4490-8cf5-daa2b0061eab"
   },
   "outputs": [],
   "source": [
    "# Checking the proportion of persons in each \"marital_status_summary\" by \"salary\" levels (<=50K, >50K)\n",
    "\n",
    "marital = df.groupby([\"marital_status_summary\"]).salary.value_counts(normalize=True)\n",
    "marital"
   ]
  },
  {
   "cell_type": "code",
   "execution_count": null,
   "metadata": {
    "id": "zOn0Iec-jwOv",
    "outputId": "5420319d-7d35-4a70-8bba-f163f3491f04"
   },
   "outputs": [],
   "source": [
    "# Visualizing the percentages of persons in each \"marital_status_summary\" group by \"salary\" levels (<=50K, >50K)\n",
    "\n",
    "plt.figure(figsize = (18, 6))\n",
    "index = 1\n",
    "for i in [0, 2]:\n",
    "    plt.subplot(1, 2,index)\n",
    "    marital[i:i+2].plot.pie(subplots=True,\n",
    "                            labels=[\"<=50K\", \">50K\"],\n",
    "                            autopct=\"%.2f%%\",\n",
    "                            textprops={'fontsize': 12},\n",
    "                            colors=['pink', 'lightskyblue'],\n",
    "                            )\n",
    "    plt.title(marital.index[i][0], fontdict = {'fontsize': 14})\n",
    "#    plt.legend()\n",
    "    index += 1"
   ]
  },
  {
   "cell_type": "markdown",
   "metadata": {
    "id": "fIzvS7m4jwOv"
   },
   "source": [
    "**Check the count of person in each these new marital status (married, single) by \"salary\" levels and visualize it with countplot**"
   ]
  },
  {
   "cell_type": "code",
   "execution_count": null,
   "metadata": {
    "id": "K91ANwlSjwOv",
    "outputId": "fc42a9e8-eb28-4f5f-c3a9-2dd0401bb995"
   },
   "outputs": [],
   "source": [
    "# Checking the number of persons in each sub-categories of Salary by \"marital_status_summary\" levels (single, married) \n",
    "\n",
    "df.groupby(\"salary\").marital_status_summary.value_counts()"
   ]
  },
  {
   "cell_type": "code",
   "execution_count": null,
   "metadata": {
    "id": "Ar3rMa9EjwOv",
    "outputId": "44c8b83c-7c88-43b5-e34d-567e47593177"
   },
   "outputs": [],
   "source": [
    "# Visualizing the number of persons in each sub-categories of Salary by \"marital_status_summary\" (single, married)\n",
    "\n",
    "ax = sns.countplot(data=df, x=\"salary\", hue=\"marital_status_summary\")\n",
    "\n",
    "plt.title(\"The Distribution of Marital Status by Salary\", fontsize=16, color=\"darkblue\")\n",
    "\n",
    "for container in ax.containers:\n",
    "    ax.bar_label(container);"
   ]
  },
  {
   "cell_type": "markdown",
   "metadata": {
    "id": "QmCK3AwHjwOw"
   },
   "source": [
    "**Check the the percentage distribution of person in each these new marital status (married, single) by \"salary\" levels and visualize it with pie plot separately**"
   ]
  },
  {
   "cell_type": "code",
   "execution_count": null,
   "metadata": {
    "id": "dmUyIiV-jwOw",
    "outputId": "2d1b17d5-9de3-475c-c85d-28fcd17cdc96"
   },
   "outputs": [],
   "source": [
    "# Checking the proportion of persons in each \"salary\" levels (<=50K, >50K) by \"marital_status_summary\" (single, married)\n",
    "\n",
    "marital = df.groupby(\"salary\").marital_status_summary.value_counts(normalize=True)\n",
    "marital"
   ]
  },
  {
   "cell_type": "code",
   "execution_count": null,
   "metadata": {
    "id": "_jmedwMAjwOw",
    "outputId": "2e8ab10f-d353-4690-b374-26462fa3f3a3"
   },
   "outputs": [],
   "source": [
    "# Creating a dataframe demonstrating the proportions at Salary by \"marital_status_summary\" levels (single, married) \n",
    "\n",
    "marital_df = pd.DataFrame(marital)\n",
    "marital_df.rename(columns={\"marital_status_summary\" : \"percentage\"}, inplace=True)\n",
    "marital_df.reset_index(inplace=True)\n",
    "marital_df.sort_values(by=[\"salary\", \"marital_status_summary\"], inplace=True)\n",
    "marital_df"
   ]
  },
  {
   "cell_type": "code",
   "execution_count": null,
   "metadata": {
    "id": "YnqWWGNDjwOw",
    "outputId": "7fdace21-c8dc-423c-a1ed-1d6c19feecaa"
   },
   "outputs": [],
   "source": [
    "# Visualizing the percentages of persons in each \"salary\" levels (<=50K, >50K) by \"marital_status_summary\" levels (single, married) \n",
    "\n",
    "plt.figure(figsize = (18, 6))\n",
    "index = 1\n",
    "for i in [0, 2]:\n",
    "    plt.subplot(1,2,index)\n",
    "    marital_df[\"percentage\"][i:i+2].plot.pie(subplots=True,\n",
    "                                             labels=[\"married\", \"unmarried\"],\n",
    "                                             autopct=\"%.2f%%\",\n",
    "                                             textprops={'fontsize': 12},\n",
    "                                             colors=['pink', 'lightskyblue'],\n",
    "                                             )\n",
    "    plt.title(marital_df.salary[i], fontdict = {'fontsize': 14})\n",
    "#    plt.legend()\n",
    "    index += 1"
   ]
  },
  {
   "cell_type": "markdown",
   "metadata": {
    "id": "btsOpWP4jwOw"
   },
   "source": [
    "**Write down the conclusions you draw from your analysis**"
   ]
  },
  {
   "cell_type": "markdown",
   "metadata": {
    "id": "AyKIsXirjwOw"
   },
   "source": [
    "**Some Remarks on \"marital_status\" Feature :** It can easily be stated that married persons have earned more income than single persons. Majority of the group (85.9%) that make more money than 50K are married. Marital status seem to be associated with the income of individuals.\n",
    "\n",
    "To sum up, this may imply that the individuals who have high salary are more tend to be getting married or being married imposed to getting high salary."
   ]
  },
  {
   "cell_type": "markdown",
   "metadata": {
    "id": "ZjfFoHZTjwOx"
   },
   "source": [
    "## workclass"
   ]
  },
  {
   "cell_type": "markdown",
   "metadata": {
    "id": "76aQfVejjwOx"
   },
   "source": [
    "**Check the count of person in each categories and visualize it with countplot**"
   ]
  },
  {
   "cell_type": "code",
   "execution_count": null,
   "metadata": {
    "id": "pgt8mUGBjwOx",
    "outputId": "8f3ffb4a-17f8-4ddb-8327-004a34d0a60a"
   },
   "outputs": [],
   "source": [
    "# Checking the counts of unique values in \"workclass\" feature\n",
    "\n",
    "df.workclass.value_counts(dropna=False)"
   ]
  },
  {
   "cell_type": "code",
   "execution_count": null,
   "metadata": {
    "id": "jKDV-lZKjwOx",
    "outputId": "067883f7-c0fb-4f0c-91c4-b48ebebf0757"
   },
   "outputs": [],
   "source": [
    "# Visualizing the number of people in each category of \"workclass\"\n",
    "\n",
    "ax = sns.countplot(data=df, x=\"workclass\")\n",
    "\n",
    "plt.title(\"The Distribution of Workclass\", fontsize=18, color=\"darkblue\")\n",
    "plt.xticks(rotation=60)\n",
    "\n",
    "for container in ax.containers:\n",
    "    ax.bar_label(container);"
   ]
  },
  {
   "cell_type": "markdown",
   "metadata": {
    "id": "G38jfGGLjwOx"
   },
   "source": [
    "**Replace the value \"?\" to the value \"Unknown\"** "
   ]
  },
  {
   "cell_type": "code",
   "execution_count": null,
   "metadata": {
    "id": "iM5uumoSjwOx"
   },
   "outputs": [],
   "source": [
    "# Replacing \"?\" values with \"Unknown\"\n",
    "\n",
    "df.workclass.replace(\"?\", \"Unknown\", inplace=True)"
   ]
  },
  {
   "cell_type": "markdown",
   "metadata": {
    "id": "MQ8i-iX5jwOy"
   },
   "source": [
    "**Check the count of person in each \"salary\" levels by workclass groups and visualize it with countplot**"
   ]
  },
  {
   "cell_type": "code",
   "execution_count": null,
   "metadata": {
    "id": "ijfERZMkjwOy",
    "outputId": "5ee047d6-df58-47d6-83d4-03d2aedc503c"
   },
   "outputs": [],
   "source": [
    "# Checking the number of persons in each sub-categories of \"workclass\" by \"salary\" levels  \n",
    "\n",
    "df.groupby(\"workclass\").salary.value_counts()"
   ]
  },
  {
   "cell_type": "code",
   "execution_count": null,
   "metadata": {
    "id": "lR4dSvPDjwOy",
    "outputId": "97ef8ff3-2b78-446b-88ae-3dab86061079"
   },
   "outputs": [],
   "source": [
    "# Visualizing the number of \"workclass\" by Salary \n",
    "\n",
    "ax = sns.countplot(data = df, x=\"workclass\", hue=\"salary\")\n",
    "\n",
    "plt.title(\"The Distribution of Workclass by Salary\", fontsize=18, color=\"darkblue\")\n",
    "plt.xticks(rotation=60)\n",
    "\n",
    "for container in ax.containers:\n",
    "    ax.bar_label(container);"
   ]
  },
  {
   "cell_type": "markdown",
   "metadata": {},
   "source": [
    "**Domain Knowledge:** ``Self-employment income`` is income that arises from the performance of personal services, but which cannot be classified as wages because an employer-employee relationship does not exist between the payer and the payee."
   ]
  },
  {
   "cell_type": "markdown",
   "metadata": {
    "id": "6Fk8gfvtjwOz"
   },
   "source": [
    "**Check the percentage distribution of person in each \"salary\" levels by each workclass groups and visualize it with bar plot**"
   ]
  },
  {
   "cell_type": "code",
   "execution_count": null,
   "metadata": {
    "id": "Xq2oheFijwOz",
    "outputId": "a40009ff-b304-4aeb-8280-2c7e985ca065"
   },
   "outputs": [],
   "source": [
    "# The proportion of persons in each \"workclass\" levels by \"salary\" (<=50K, >50K)\n",
    "\n",
    "workclass = df.groupby(\"workclass\").salary.value_counts(normalize=True)\n",
    "workclass"
   ]
  },
  {
   "cell_type": "code",
   "execution_count": null,
   "metadata": {
    "id": "jbUwnLq9jwO0",
    "outputId": "c775176a-5667-40fc-f3ce-8cb1df8cb8c8"
   },
   "outputs": [],
   "source": [
    "# Creating a dataframe demonstrating the proportions at \"workclass\" by \"salary\" levels \n",
    "\n",
    "workclass_df = pd.DataFrame(workclass)\n",
    "workclass_df.rename(columns={\"salary\": \"percentage\"}, inplace=True)\n",
    "workclass_df.reset_index(inplace=True)\n",
    "workclass_df.sort_values(by=[\"workclass\", \"salary\"], inplace=True)\n",
    "workclass_df"
   ]
  },
  {
   "cell_type": "code",
   "execution_count": null,
   "metadata": {
    "id": "gViYcJ5IjwO0",
    "outputId": "134226c4-a584-4070-b159-9f85ee506db0"
   },
   "outputs": [],
   "source": [
    "# Visualizing the number of persons in each sub-categories of \"workclass\" by \"salary\" \n",
    "\n",
    "fig, ax = plt.subplots()\n",
    "\n",
    "ax = sns.barplot(data=workclass_df, x=\"workclass\", y=\"percentage\", hue=\"salary\")\n",
    "\n",
    "plt.title(\"The Distribution of Workclass\", fontsize=18, color=\"darkblue\")\n",
    "plt.xticks(rotation=60)\n",
    "\n",
    "for container in ax.containers:\n",
    "    ax.bar_label(container, fmt=\"%.2f\");"
   ]
  },
  {
   "cell_type": "markdown",
   "metadata": {
    "id": "RL8LYvpqjwO0"
   },
   "source": [
    "**Check the count of person in each workclass groups by \"salary\" levels and visualize it with countplot**"
   ]
  },
  {
   "cell_type": "code",
   "execution_count": null,
   "metadata": {
    "id": "jYmjji-bjwO1",
    "outputId": "e924f7c3-2bc6-4fb0-aff8-a53b7d108fb6"
   },
   "outputs": [],
   "source": [
    "# Checking the number of persons in each sub-categories of \"salary\" by \"workclass\" levels \n",
    "\n",
    "df.groupby(\"salary\").workclass.value_counts()"
   ]
  },
  {
   "cell_type": "code",
   "execution_count": null,
   "metadata": {
    "id": "9j1IDWi5jwO1",
    "outputId": "88fd6685-f0dc-4036-922a-5212bef200ff"
   },
   "outputs": [],
   "source": [
    "# Visualizing the number of persons in each sub-categories of \"salary\" by \"workclass\" levels \n",
    "\n",
    "ax = sns.countplot(data=df, x=\"salary\", hue=\"workclass\")\n",
    "\n",
    "plt.title(\"The Number of People in Each Workclass by Salary\", fontsize=16)\n",
    "for container in ax.containers:\n",
    "    ax.bar_label(container);"
   ]
  },
  {
   "cell_type": "markdown",
   "metadata": {
    "id": "oGkqNFeyjwO1"
   },
   "source": [
    "**Check the the percentage distribution of person in each workclass groups by \"salary\" levels and visualize it with countplot**"
   ]
  },
  {
   "cell_type": "code",
   "execution_count": null,
   "metadata": {
    "id": "XtBb2tRdjwO1",
    "outputId": "b3dcfb64-7ed8-4188-bb37-784d6f287bb6"
   },
   "outputs": [],
   "source": [
    "# The proportion of persons in each sub-categories of \"salary\" by \"workclass\" levels \n",
    "\n",
    "workclass = df.groupby(\"salary\").workclass.value_counts(normalize=True)\n",
    "workclass"
   ]
  },
  {
   "cell_type": "code",
   "execution_count": null,
   "metadata": {
    "id": "nOU2GB7AjwO2",
    "outputId": "79e034a4-1d0d-4ac4-9787-c93ed753eec0"
   },
   "outputs": [],
   "source": [
    "# Creating a dataframe demonstrating the proportions at \"salary\" by \"workclass\" levels \n",
    "\n",
    "workclass_df = pd.DataFrame(workclass)\n",
    "workclass_df.rename(columns={\"workclass\": \"percentage\"}, inplace=True)\n",
    "workclass_df.reset_index(inplace=True)\n",
    "workclass_df.sort_values(by=[\"salary\", \"percentage\"], ascending=False, inplace=True)\n",
    "workclass_df"
   ]
  },
  {
   "cell_type": "code",
   "execution_count": null,
   "metadata": {
    "id": "G0Uj8XkDjwO2",
    "outputId": "66e1f3e7-0866-46f7-f01c-47a1ecee5b4e",
    "scrolled": false
   },
   "outputs": [],
   "source": [
    "# Visualizing the proportion of persons in each sub-categories of \"salary\" by \"workclass\" levels  \n",
    "\n",
    "fig, ax = plt.subplots(figsize=(14, 6))\n",
    "\n",
    "ax = sns.barplot(data=workclass_df, x=\"salary\", y=\"percentage\", hue=\"workclass\")\n",
    "\n",
    "plt.title(\"The Percentage of People in Each Workclass by Salary\", fontsize=16)\n",
    "for container in ax.containers:\n",
    "    ax.bar_label(container, fmt='%.2f', label_type='center', color=\"w\");"
   ]
  },
  {
   "cell_type": "markdown",
   "metadata": {
    "id": "D9bZC4XKjwO2"
   },
   "source": [
    "**Write down the conclusions you draw from your analysis**"
   ]
  },
  {
   "cell_type": "markdown",
   "metadata": {
    "id": "KmOli0qJjwO2"
   },
   "source": [
    "**Result :** The share of Federal, state and local government workers and self-employed individuals are relatively higher for the category of income above 50K compared to their respective values for below 50K salary group.\n",
    "\n",
    "\"Self-emp-inc\" work-class has a high ratio in the self group about high-level income. \"Private\" work-class has a high ratio in both income groups. However, the rate of those in the high level income group in their own group is slightly lower than those in the lower income group."
   ]
  },
  {
   "cell_type": "markdown",
   "metadata": {
    "id": "KxHaqS4mjwO2"
   },
   "source": [
    "## occupation"
   ]
  },
  {
   "cell_type": "markdown",
   "metadata": {
    "id": "YYdf-ElmjwO2"
   },
   "source": [
    "**Check the count of person in each sub-categorie of occupation and visualize it with countplot**"
   ]
  },
  {
   "cell_type": "code",
   "execution_count": null,
   "metadata": {
    "id": "vNGn45iWjwO2",
    "outputId": "218c0bde-416a-417e-94c1-ce1b8295227d"
   },
   "outputs": [],
   "source": [
    "# Checking the counts of unique values in \"occupation\" feature\n",
    "\n",
    "df.occupation.value_counts(dropna=False)"
   ]
  },
  {
   "cell_type": "code",
   "execution_count": null,
   "metadata": {
    "id": "bmmgpkYwjwO3",
    "outputId": "8ca4a3a4-c1a0-4de7-e9f9-df6adb26d60f"
   },
   "outputs": [],
   "source": [
    "# Visualizing the number of people in each category of \"occupation\"\n",
    "\n",
    "ax = sns.countplot(data=df, x=\"occupation\")\n",
    "\n",
    "plt.title(\"The Number of People in Each Occupation\", fontsize=16)\n",
    "plt.xticks(rotation=60)\n",
    "\n",
    "for container in ax.containers:\n",
    "    ax.bar_label(container);"
   ]
  },
  {
   "cell_type": "markdown",
   "metadata": {
    "id": "dMs4D0nWjwO3"
   },
   "source": [
    "**Replace the value \"?\" to the value \"Unknown\"**"
   ]
  },
  {
   "cell_type": "code",
   "execution_count": null,
   "metadata": {
    "id": "R9qDFC1WjwO3"
   },
   "outputs": [],
   "source": [
    "# Replacing \"?\" values with \"Unknown\"\n",
    "\n",
    "df.occupation.replace(\"?\", \"Unknown\", inplace=True)"
   ]
  },
  {
   "cell_type": "markdown",
   "metadata": {
    "id": "TUN8tSr3jwO3"
   },
   "source": [
    "**Check the count of person in each \"salary\" levels by occupation groups and visualize it with countplot**"
   ]
  },
  {
   "cell_type": "code",
   "execution_count": null,
   "metadata": {
    "id": "fnhFw0KjjwO3",
    "outputId": "1b17b0db-f7a5-48a2-81bf-bf256eec1449"
   },
   "outputs": [],
   "source": [
    "# Checking the number of persons in each sub-categories of \"occupation\" by \"salary\" levels  \n",
    "\n",
    "df.groupby(\"occupation\").salary.value_counts()"
   ]
  },
  {
   "cell_type": "code",
   "execution_count": null,
   "metadata": {
    "id": "9zAkV306jwO3",
    "outputId": "3c5da52b-7454-489f-a8e8-f9d0571c632a",
    "scrolled": false
   },
   "outputs": [],
   "source": [
    "# Visualizing the number of \"occupation\" by Salary \n",
    "\n",
    "ax = sns.countplot(data=df, x=\"occupation\", hue=\"salary\")\n",
    "\n",
    "plt.title(\"The Number of People in Each Salary Level by Occupation\", fontsize=16)\n",
    "plt.xticks(rotation=90)\n",
    "\n",
    "for container in ax.containers:\n",
    "    ax.bar_label(container);"
   ]
  },
  {
   "cell_type": "markdown",
   "metadata": {
    "id": "_rBEm99IjwO3"
   },
   "source": [
    "**Check the percentage distribution of person in each \"salary\" levels by each occupation groups and visualize it with bar plot**"
   ]
  },
  {
   "cell_type": "code",
   "execution_count": null,
   "metadata": {
    "id": "uWXqxAHXjwO4",
    "outputId": "352bb2a8-a261-409a-b7d8-10c968c3577f"
   },
   "outputs": [],
   "source": [
    "# Checking the proportion of persons in each \"salary\" levels (<=50K, >50K) by \"occupation\" \n",
    "\n",
    "occupation = df.groupby(\"occupation\").salary.value_counts(normalize=True)\n",
    "occupation"
   ]
  },
  {
   "cell_type": "code",
   "execution_count": null,
   "metadata": {
    "id": "aNOVOC8CjwO4",
    "outputId": "baf895a4-77db-4ebb-b1cc-c652f53db07e"
   },
   "outputs": [],
   "source": [
    "# Creating a dataframe demonstrating the proportions at \"occupation\" by \"salary\" levels \n",
    "\n",
    "occupation_df = pd.DataFrame(occupation)\n",
    "occupation_df.rename(columns={\"salary\": \"percentage\"}, inplace=True)\n",
    "occupation_df.reset_index(inplace=True)\n",
    "occupation_df.sort_values(by=[\"occupation\", \"salary\"], inplace=True)\n",
    "occupation_df"
   ]
  },
  {
   "cell_type": "code",
   "execution_count": null,
   "metadata": {
    "id": "TuT34I8zjwO4",
    "outputId": "5e11c3d2-bd23-45d9-e95d-6cee250d6a58"
   },
   "outputs": [],
   "source": [
    "# Visualizing the number of persons in each sub-categories of \"occupation\" by \"salary\" \n",
    "\n",
    "fig, ax = plt.subplots(figsize=(14, 6))\n",
    "\n",
    "ax = sns.barplot(data=occupation_df, x=\"occupation\", y=\"percentage\", hue=\"salary\")\n",
    "\n",
    "plt.title(\"The Percentage of People in Each Salary Level by Occupation\", fontsize=16)\n",
    "plt.xticks(rotation=60)\n",
    "plt.legend(loc=(1.01, 0.9))\n",
    "\n",
    "for container in ax.containers:\n",
    "    ax.bar_label(container, fmt='%.2f', color=\"r\");"
   ]
  },
  {
   "cell_type": "markdown",
   "metadata": {
    "id": "7t8zCRj6jwO4"
   },
   "source": [
    "**Check the count of person in each occupation groups by \"salary\" levels and visualize it with countplot**"
   ]
  },
  {
   "cell_type": "code",
   "execution_count": null,
   "metadata": {
    "id": "3Q5SuCZzjwO4",
    "outputId": "ee59ac6e-70b3-4aaf-e6ec-0af2b4b86f96"
   },
   "outputs": [],
   "source": [
    "# Checking the number of persons in each \"salary\" levels by \"occupation\" \n",
    "\n",
    "df.groupby(\"salary\").occupation.value_counts()"
   ]
  },
  {
   "cell_type": "code",
   "execution_count": null,
   "metadata": {
    "id": "re5gtlTdjwO4",
    "outputId": "04aac4ee-7797-4c2e-9fe3-0208ba09efc6"
   },
   "outputs": [],
   "source": [
    "# Visualizing the number of persons in each \"occupation\" group by \"salary\" levels \n",
    "\n",
    "fig, ax = plt.subplots(figsize=(14, 6))\n",
    "\n",
    "plt.title(\"The Number of People in Each Occupation by Salary Levels\", fontsize=16);\n",
    "ax = sns.countplot(data=df, x=\"salary\", hue=\"occupation\")\n",
    "\n",
    "for container in ax.containers:\n",
    "    ax.bar_label(container, color=\"#1927BD\");"
   ]
  },
  {
   "cell_type": "markdown",
   "metadata": {
    "id": "4CQDBKHWjwO5"
   },
   "source": [
    "**Check the percentage  of person in each occupation groups by \"salary\" levels and visualize it with bar plot**"
   ]
  },
  {
   "cell_type": "code",
   "execution_count": null,
   "metadata": {
    "id": "p2pytaxMjwO5",
    "outputId": "6e759192-5d68-4c16-dde9-dcafc498281d"
   },
   "outputs": [],
   "source": [
    "# Checking the percentage of persons in each \"occupation\" group by \"salary\" levels \n",
    "\n",
    "occupation = df.groupby(\"salary\").occupation.value_counts(normalize=True)*100\n",
    "occupation"
   ]
  },
  {
   "cell_type": "code",
   "execution_count": null,
   "metadata": {
    "id": "IvIcruFcjwO5",
    "outputId": "0f29f951-1168-44d1-dade-cb5c5db07ebf"
   },
   "outputs": [],
   "source": [
    "# Creating a dataframe demonstrating the percentages of people at \"occupation\" by \"salary\" levels \n",
    "\n",
    "occupation_df = pd.DataFrame(occupation)\n",
    "occupation_df.rename(columns = {\"occupation\": \"percentage\"}, inplace=True)\n",
    "occupation_df.reset_index(inplace=True)\n",
    "occupation_df.sort_values(by=[\"salary\", \"occupation\"], inplace=True)\n",
    "occupation_df"
   ]
  },
  {
   "cell_type": "code",
   "execution_count": null,
   "metadata": {
    "id": "iR4x1RqgjwO5",
    "outputId": "961aef51-f097-4386-fa77-059377dde31e"
   },
   "outputs": [],
   "source": [
    "# Visualizing the percentage of persons at \"occupation\" by \"salary\" levels \n",
    "\n",
    "fig, ax = plt.subplots(figsize=(20, 6))\n",
    "\n",
    "ax = sns.barplot(data=occupation_df, x=\"salary\", y=\"percentage\", hue=\"occupation\")\n",
    "\n",
    "plt.title(\"The Percentage of People in Each Occupation by Salary Levels\", fontsize=16)\n",
    "for container in ax.containers:\n",
    "    ax.bar_label(container, fmt=\"%.1f%%\", color=\"#00010A\", fontsize=12);"
   ]
  },
  {
   "cell_type": "markdown",
   "metadata": {
    "id": "gQcGUBTxjwO5"
   },
   "source": [
    "**Write down the conclusions you draw from your analysis**"
   ]
  },
  {
   "cell_type": "markdown",
   "metadata": {
    "id": "UOnnd1YXjwO5"
   },
   "source": [
    "**Some Remarks on \"occupation\" Feature:** \"Exec-managerial\" and \"Prof-specialty\" occupations have a high ratio of high-level income both in the self group and in the high-income group."
   ]
  },
  {
   "cell_type": "markdown",
   "metadata": {
    "id": "eoAUdH20jwO6"
   },
   "source": [
    "## race"
   ]
  },
  {
   "cell_type": "markdown",
   "metadata": {
    "id": "Minu-UhrjwO6"
   },
   "source": [
    "**Check the count of person in each categories and visualize it with countplot**"
   ]
  },
  {
   "cell_type": "code",
   "execution_count": null,
   "metadata": {
    "id": "HL9SccCPjwO6",
    "outputId": "8b9b9593-b6bc-48fa-fb1d-78113b53ca1e"
   },
   "outputs": [],
   "source": [
    "# Checking the counts of unique values in \"race\" feature\n",
    "\n",
    "df.race.value_counts(dropna=False)"
   ]
  },
  {
   "cell_type": "code",
   "execution_count": null,
   "metadata": {
    "id": "NxMKzct4jwO6",
    "outputId": "1daadfe7-bcbf-45b9-a307-be161c532e6b"
   },
   "outputs": [],
   "source": [
    "# Visualizing the number of people in each category of \"race\"\n",
    "\n",
    "ax = sns.countplot(data=df, x=\"race\")\n",
    "\n",
    "plt.title(\"The Number of People by Race\", fontsize=16)\n",
    "plt.xticks(rotation=45)\n",
    "\n",
    "for container in ax.containers:\n",
    "    ax.bar_label(container, fontsize=13);"
   ]
  },
  {
   "cell_type": "markdown",
   "metadata": {},
   "source": [
    "We see that the White are in the majority in our dataset."
   ]
  },
  {
   "cell_type": "markdown",
   "metadata": {
    "id": "TTfS9EJLjwO6"
   },
   "source": [
    "**Check the count of person in each \"salary\" levels by races and visualize it with countplot**"
   ]
  },
  {
   "cell_type": "code",
   "execution_count": null,
   "metadata": {
    "id": "VHjuKDnUjwO6",
    "outputId": "111aa10c-b816-494e-9b29-7e9cf7a67510"
   },
   "outputs": [],
   "source": [
    "# Checking the number of persons in each sub-categories of \"race\" by \"salary\"   \n",
    "\n",
    "df.groupby(\"race\").salary.value_counts()"
   ]
  },
  {
   "cell_type": "markdown",
   "metadata": {},
   "source": [
    "We see that the majority of the White and African-American makes money equal to and less than 50K in our dataset. However the  White making more money than 50K have an overwhelming advantage compared to other races. We are curios about this is because of their huge number over other races or the race matters?"
   ]
  },
  {
   "cell_type": "code",
   "execution_count": null,
   "metadata": {
    "id": "dKxrPFRKjwO6",
    "outputId": "4fc46249-3fb5-4120-8052-08468f4beaed"
   },
   "outputs": [],
   "source": [
    "# Visualizing the number of people in each category of \"salary\" by \"race\"  \n",
    "\n",
    "ax = sns.countplot(data=df, x=\"race\", hue=\"salary\")\n",
    "\n",
    "plt.title(\"The Number of People in Each Race Category by Salary Levels\", fontsize=16);\n",
    "plt.xticks(rotation=45)\n",
    "\n",
    "for container in ax.containers:\n",
    "    ax.bar_label(container, fontsize=12);"
   ]
  },
  {
   "cell_type": "markdown",
   "metadata": {
    "id": "gwh3_WZ3jwO7"
   },
   "source": [
    "**Check the percentage distribution of person in each \"salary\" levels by each races and visualize it with pie plot**"
   ]
  },
  {
   "cell_type": "code",
   "execution_count": null,
   "metadata": {
    "id": "WOd5HkSXjwO7",
    "outputId": "458bb911-9ebb-436b-9131-70c42dd8f686"
   },
   "outputs": [],
   "source": [
    "# Checking the proportion of people in each \"race\" group by \"salary\" levels\n",
    "\n",
    "race = df.groupby(\"race\").salary.value_counts(normalize=True)\n",
    "race"
   ]
  },
  {
   "cell_type": "code",
   "execution_count": null,
   "metadata": {
    "id": "UHuV5GLOjwO7",
    "outputId": "95456c9e-1f3a-48a1-e1e2-9d4625765566"
   },
   "outputs": [],
   "source": [
    "# Visualizing the percentage of people in each \"race\" group by \"salary\" levels\n",
    "\n",
    "plt.figure(figsize = (18, 12))\n",
    "index=1\n",
    "for i in [0, 2, 4, 6, 8]:\n",
    "    plt.subplot(2, 3, index)\n",
    "    race[i:i+2].plot.pie(subplots=True,\n",
    "                         labels=[\"<=50K\", \">50K\"],\n",
    "                         autopct=\"%.2f%%\",\n",
    "                         textprops={'fontsize': 12},\n",
    "                         colors=['pink', 'lightskyblue'],\n",
    "                         )\n",
    "    plt.title(race.index[i][0], fontdict = {'fontsize': 14})\n",
    "#    plt.legend()\n",
    "    index += 1"
   ]
  },
  {
   "cell_type": "markdown",
   "metadata": {
    "id": "xl_7einXjwO7"
   },
   "source": [
    "**Check the count of person in each races by \"salary\" levels and visualize it with countplot**"
   ]
  },
  {
   "cell_type": "code",
   "execution_count": null,
   "metadata": {
    "id": "qhdZp7bVjwO7",
    "outputId": "9b9e3d65-436a-4053-ba7c-b1e84d5cc909"
   },
   "outputs": [],
   "source": [
    "# Checking the number of persons in each sub-categories of \"race\" by \"salary\" levels  \n",
    "\n",
    "df.groupby(\"salary\").race.value_counts()"
   ]
  },
  {
   "cell_type": "code",
   "execution_count": null,
   "metadata": {
    "id": "D4XMDmYajwO7",
    "outputId": "1608746e-d649-42ad-e268-056f6af60af3",
    "scrolled": false
   },
   "outputs": [],
   "source": [
    "# Visualizing the number of persons in each sub-categories of \"race\" by \"salary\" levels  \n",
    "\n",
    "ax = sns.countplot(data=df, x=\"salary\", hue=\"race\")\n",
    "\n",
    "plt.title(\"The Number of People in Salary Levels by Race Category\", fontsize=16);\n",
    "for container in ax.containers:\n",
    "    ax.bar_label(container, fontsize=12);"
   ]
  },
  {
   "cell_type": "markdown",
   "metadata": {
    "id": "y6WnktoJjwO8"
   },
   "source": [
    "**Check the the percentage distribution of person in each races by \"salary\" levels and visualize it with bar plot**"
   ]
  },
  {
   "cell_type": "code",
   "execution_count": null,
   "metadata": {
    "id": "9_NXSTiSjwO8",
    "outputId": "92d11c07-baac-4501-c86a-6257aaa58b87"
   },
   "outputs": [],
   "source": [
    "# Checking the percentage of persons at \"race\" by \"salary\" levels \n",
    "\n",
    "race = df.groupby(\"salary\").race.value_counts(normalize=True)*100\n",
    "race"
   ]
  },
  {
   "cell_type": "markdown",
   "metadata": {},
   "source": [
    "🤔 ❓ **[What race in America has the most money?](https://www.federalreserve.gov/econres/notes/feds-notes/disparities-in-wealth-by-race-and-ethnicity-in-the-2019-survey-of-consumer-finances-20200928.html)**\n",
    "\n",
    "White families have more wealth than Black, Hispanic, and other or multiple race families in the 2019 SCF. Source: Federal Reserve Board, 2019 Survey of Consumer Finances. Notes: Figures displays median (top panel) and mean (bottom panel) wealth by race and ethnicity, expressed in thousands of 2019 dollars... [Source](https://www.federalreserve.gov/econres/notes/feds-notes/disparities-in-wealth-by-race-and-ethnicity-in-the-2019-survey-of-consumer-finances-20200928.html)\n",
    "\n",
    "🤔 ❓ **[Racial, gender wage gaps persist in U.S. despite some progress](https://www.pewresearch.org/fact-tank/2016/07/01/racial-gender-wage-gaps-persist-in-u-s-despite-some-progress/)**\n",
    "\n",
    "Large racial and gender wage gaps in the U.S. remain, even as they have narrowed in some cases over the years. Among full- and part-time workers in the U.S., blacks in 2015 earned just 75% as much as whites in median hourly earnings and women earned 83% as much as men... [Source](https://www.pewresearch.org/fact-tank/2016/07/01/racial-gender-wage-gaps-persist-in-u-s-despite-some-progress/)"
   ]
  },
  {
   "cell_type": "code",
   "execution_count": null,
   "metadata": {
    "id": "UXsB1xTOjwO8",
    "outputId": "1c3b21d4-ebd7-4012-a843-c3459f993725"
   },
   "outputs": [],
   "source": [
    "# Creating a dataframe demonstrating the percentage of persons at \"race\" by \"salary\" levels \n",
    "\n",
    "race_df = pd.DataFrame(race)\n",
    "race_df.rename(columns={\"race\": \"percentage\"}, inplace=True)\n",
    "race_df.reset_index(inplace=True)\n",
    "race_df.sort_values(by=[\"salary\", \"race\"], inplace=True)\n",
    "race_df"
   ]
  },
  {
   "cell_type": "code",
   "execution_count": null,
   "metadata": {
    "id": "6Gz3u9U5jwO8",
    "outputId": "822e1f7c-c116-46c1-b441-a5a8ef4c2301"
   },
   "outputs": [],
   "source": [
    "# Visualizing the percentage of persons at \"race\" by \"salary\" levels \n",
    "\n",
    "fig, ax = plt.subplots(figsize=(14, 6))\n",
    "\n",
    "ax = sns.barplot(data=race_df, x=\"salary\", y=\"percentage\", hue=\"race\")\n",
    "\n",
    "plt.title(\"The Percentage of People in Salary Levels by Race\", fontsize=16);\n",
    "\n",
    "for container in ax.containers:\n",
    "    ax.bar_label(container, fmt=\"%.2f%%\", fontsize=12);"
   ]
  },
  {
   "cell_type": "markdown",
   "metadata": {
    "id": "ektBJBtxjwO8"
   },
   "source": [
    "**Write down the conclusions you draw from your analysis**"
   ]
  },
  {
   "cell_type": "markdown",
   "metadata": {
    "id": "XvzagJjcjwO8"
   },
   "source": [
    "**Result :** \"Asian-Pac-Islander\" and \"White\" races has a high ratio in the self group about high-level income. \"White\" race has a high ratio in the high-income group about high-level income.\n",
    "\n",
    "25.6% of whites and 26.6% of Asian-Pac-Islanders have income over 50K, compared to 12.4% of Blacks, 11.6% of Amer-Indian-Eskimo and 9.2% of Others. Race seems to be a factor in salary."
   ]
  },
  {
   "cell_type": "markdown",
   "metadata": {
    "id": "-atLCuBJjwO8"
   },
   "source": [
    "## gender"
   ]
  },
  {
   "cell_type": "markdown",
   "metadata": {
    "id": "UPBcWPwxjwO9"
   },
   "source": [
    "**Check the count of person in each gender and visualize it with countplot**"
   ]
  },
  {
   "cell_type": "code",
   "execution_count": null,
   "metadata": {
    "id": "Dkw4k7f_jwO9",
    "outputId": "49c6b984-97c9-43ad-aaa3-7f598afc2cdb"
   },
   "outputs": [],
   "source": [
    "# Checking the counts of unique values in \"gender\" feature\n",
    "\n",
    "df.gender.value_counts(dropna=False)"
   ]
  },
  {
   "cell_type": "code",
   "execution_count": null,
   "metadata": {
    "id": "1iTPOcYBjwO9",
    "outputId": "6cc71215-412b-47d8-c42a-edc6acfa1e81"
   },
   "outputs": [],
   "source": [
    "# Visualizing the number of people in each category of \"gender\"\n",
    "\n",
    "ax = sns.countplot(data=df, x=\"gender\")\n",
    "\n",
    "plt.title(\"The Number of People by Gender\", fontsize=16);\n",
    "\n",
    "for container in ax.containers:\n",
    "    ax.bar_label(container, fontsize=14);"
   ]
  },
  {
   "cell_type": "markdown",
   "metadata": {
    "id": "pdUFVxrZjwO9"
   },
   "source": [
    "**Check the count of person in each \"salary\" levels by gender and visualize it with countplot**"
   ]
  },
  {
   "cell_type": "code",
   "execution_count": null,
   "metadata": {
    "id": "DHAJFn1-jwO9",
    "outputId": "8d19cd94-1e30-412e-cee4-81a83281adcb"
   },
   "outputs": [],
   "source": [
    "# Checking the number of people in each sub-categories of \"gender\" by \"salary\" levels   \n",
    "\n",
    "df.groupby(\"gender\").salary.value_counts()"
   ]
  },
  {
   "cell_type": "code",
   "execution_count": null,
   "metadata": {
    "id": "p6AOcjKvjwO9",
    "outputId": "6796ad1e-e29c-4241-9f33-5e6912a0f61d"
   },
   "outputs": [],
   "source": [
    "# Visualizing the number of people in each sub-categories of \"gender\" by \"salary\" levels  \n",
    "\n",
    "ax = sns.countplot(data=df, x=\"gender\", hue=\"salary\")\n",
    "\n",
    "plt.title(\"Gender Classification by Salary\", fontsize=16);\n",
    "\n",
    "for container in ax.containers:\n",
    "    ax.bar_label(container, fontsize=12);"
   ]
  },
  {
   "cell_type": "markdown",
   "metadata": {},
   "source": [
    "### 📝 [Domain Knowledge About Gender Pay Gap in the US](https://www.etax.com.au/gender-pay-gap/)\n",
    "\n",
    "Over half a century after pay discrimination became illegal in the United States, a persistent pay gap between men and women continues to hurt our nation’s workers and our national economy.\n",
    "\n",
    "The gender pay gap is the result of many factors, including race and ethnicity, disability, access to education and age. As a result, different groups of women experience very different gaps in pay. The gender pay gap is a complex issue that will require robust and inclusive solutions.\n",
    "\n",
    "🧐 **[The Simple Truth About the Gender Pay Gap](https://www.aauw.org/resources/research/simple-truth/)**\n",
    "\n",
    "The main reason that women hold part-time jobs: they cannot find full-time jobs. Child care and work in the home are the other main factors. \"Women still tend to be the last to be hired and the first to be fired,\" says Ms. Chinery-Hesse, ILO Deputy Director-General.\n",
    "\n",
    "🧐 **[\"Women Work More, But are Still Paid Less\" the Article at International Labor Organization](https://www.ilo.org/global/about-the-ilo/newsroom/news/WCMS_008091/lang--en/index.htm)**\n",
    "\n",
    "🧐 **[Do women make less money than men in America?](https://www.cnbc.com/2022/05/19/women-are-still-paid-83-cents-for-every-dollar-men-earn-heres-why.html)**\n",
    "\n",
    "In 2020, women made 83 cents for every dollar earned by men, according to the U.S. Census Bureau. Women of color are at an even greater disadvantage. The gender wage gap was much larger in 1960, when women's pay was 61% of men's. But progress has stalled over the last 15 or more years, according to researchers."
   ]
  },
  {
   "cell_type": "markdown",
   "metadata": {
    "id": "HwUybulnjwO9"
   },
   "source": [
    "**Check the percentage distribution of person in each \"salary\" levels by each gender and visualize it with pie plot**"
   ]
  },
  {
   "cell_type": "code",
   "execution_count": null,
   "metadata": {
    "id": "rYe6rZffjwO-",
    "outputId": "b5a0e173-0be0-42ad-c2bc-2eeb5c0aca0a"
   },
   "outputs": [],
   "source": [
    "# Checking the percentage of people in each \"salary\" level by \"gender\"  \n",
    "\n",
    "gender = df.groupby(\"gender\").salary.value_counts(normalize=True)*100\n",
    "gender"
   ]
  },
  {
   "cell_type": "code",
   "execution_count": null,
   "metadata": {
    "id": "fOiDuF5GjwO-",
    "outputId": "c6216d49-1eac-49ef-cfbe-10a0500a0a0e"
   },
   "outputs": [],
   "source": [
    "# Visualizing the percentage of people in each \"salary\" level by \"gender\"\n",
    "\n",
    "plt.figure(figsize = (18, 6))\n",
    "index = 1\n",
    "for i in [0, 2]:\n",
    "    plt.subplot(1, 2, index)\n",
    "    gender[i:i+2].plot.pie(subplots=True,\n",
    "                           labels=[\"<=50K\", \">50K\"],\n",
    "                           autopct=\"%.2f%%\",\n",
    "                           textprops={'fontsize': 12},\n",
    "                           colors=['pink', 'lightskyblue'],\n",
    "                           )\n",
    "    plt.title(gender.index[i][0], fontdict = {'fontsize': 14})\n",
    "#    plt.legend()\n",
    "    index += 1"
   ]
  },
  {
   "cell_type": "markdown",
   "metadata": {},
   "source": [
    "**Some Remarks on \"gender\" Feature:** 11% of females earn above 50K compared to 30,6% of males, about 3 times lower ratio on females side. From salary perspective, of those that get 50K or more, males dominate the category by 85% compared to only 15% females."
   ]
  },
  {
   "cell_type": "markdown",
   "metadata": {
    "id": "fJouHbA4jwO-"
   },
   "source": [
    "**Check the count of person in each gender by \"salary\" levels and visualize it with countplot**"
   ]
  },
  {
   "cell_type": "code",
   "execution_count": null,
   "metadata": {
    "id": "gkIuP4jbjwO-",
    "outputId": "4e664c62-3cfa-4bd1-82ec-98bc0aa0cb64"
   },
   "outputs": [],
   "source": [
    "# Checking the number of people in each sub-categories of \"gender\" by \"salary\" levels  \n",
    "\n",
    "df.groupby(\"salary\").gender.value_counts()"
   ]
  },
  {
   "cell_type": "code",
   "execution_count": null,
   "metadata": {
    "id": "cg--lZ1ajwO-",
    "outputId": "f39bf576-d517-482b-f2b7-b51af9361069"
   },
   "outputs": [],
   "source": [
    "# Visualizing the number of persons in each sub-categories of \"gender\" by \"salary\" levels  \n",
    "\n",
    "ax = sns.countplot(data=df, x=\"salary\", hue=\"gender\")\n",
    "\n",
    "plt.title(\"The Number of People in Salary Levels by Gender\", fontsize=16);\n",
    "\n",
    "for container in ax.containers:\n",
    "    ax.bar_label(container, fontsize=12);"
   ]
  },
  {
   "cell_type": "code",
   "execution_count": null,
   "metadata": {},
   "outputs": [],
   "source": [
    "df.gender.value_counts(normalize=True)"
   ]
  },
  {
   "cell_type": "code",
   "execution_count": null,
   "metadata": {},
   "outputs": [],
   "source": [
    "df.groupby(\"salary\").gender.value_counts(normalize=True)*100"
   ]
  },
  {
   "cell_type": "markdown",
   "metadata": {
    "id": "SOs01uF6jwO-"
   },
   "source": [
    "**Check the the percentage distribution of person in each gender by \"salary\" levels and visualize it with pie plot**"
   ]
  },
  {
   "cell_type": "code",
   "execution_count": null,
   "metadata": {
    "id": "mS7dWjrqjwO_",
    "outputId": "3e6f2f10-547a-4316-8146-ca8cdea73456"
   },
   "outputs": [],
   "source": [
    "# Checking the percentage of persons at \"gender\" by \"salary\" levels \n",
    "\n",
    "gender = df.groupby(\"salary\").gender.value_counts(normalize=True)*100\n",
    "gender"
   ]
  },
  {
   "cell_type": "code",
   "execution_count": null,
   "metadata": {
    "id": "e-UBOnjQjwO_",
    "outputId": "f4fcd145-d8b6-4206-e2fc-797d9c18ca86"
   },
   "outputs": [],
   "source": [
    "# Visualizing the percentage of persons at \"gender\" by \"salary\" levels \n",
    "\n",
    "plt.figure(figsize=(18, 6))\n",
    "index = 1\n",
    "for i in [0, 2]:\n",
    "    plt.subplot(1, 2, index)\n",
    "    gender[i:i+2].plot.pie(subplots=True,\n",
    "                         labels=[\"Male\", \"Female\"],\n",
    "                         autopct=\"%.2f%%\",\n",
    "                         textprops={'fontsize': 12},\n",
    "                         colors=['pink', 'lightskyblue'],\n",
    "                         )\n",
    "    plt.title(gender.index[i][0], fontdict = {'fontsize': 14})\n",
    "#    plt.legend()\n",
    "    index += 1"
   ]
  },
  {
   "cell_type": "markdown",
   "metadata": {
    "id": "gZgesr4WjwO_"
   },
   "source": [
    "**Write down the conclusions you draw from your analysis**"
   ]
  },
  {
   "cell_type": "markdown",
   "metadata": {
    "id": "QphA4kCgjwO_"
   },
   "source": [
    "**Some Remarks on \"gender\" Feature :** It can easily be stated that males have been making more money than females have.\n",
    "\n"
   ]
  },
  {
   "cell_type": "markdown",
   "metadata": {
    "id": "Q1AO-wkrjwO_"
   },
   "source": [
    "## native_country"
   ]
  },
  {
   "cell_type": "markdown",
   "metadata": {
    "id": "7RBYpgOtjwO_"
   },
   "source": [
    "**Check the count of person in each categories and visualize it with countplot**"
   ]
  },
  {
   "cell_type": "code",
   "execution_count": null,
   "metadata": {
    "id": "sKuPy3cGjwO_",
    "outputId": "845e0d46-40d2-491d-b397-a3e322f28796"
   },
   "outputs": [],
   "source": [
    "# Checking the counts of unique values in \"native_country\" feature\n",
    "\n",
    "df.native_country.value_counts(dropna=False)"
   ]
  },
  {
   "cell_type": "code",
   "execution_count": null,
   "metadata": {
    "id": "Tl6VwdLIjwPA",
    "outputId": "3a826a28-ccd6-4c03-d5e3-cedb3f2e215d"
   },
   "outputs": [],
   "source": [
    "# Visualizing the number of people in each category of \"native_country\"\n",
    "\n",
    "plt.figure(figsize=(14, 6))\n",
    "\n",
    "ax = sns.countplot(data=df, x=\"native_country\")\n",
    "\n",
    "plt.title(\"The Number of People by Country\", fontsize=16)\n",
    "plt.xticks(rotation=90)\n",
    "\n",
    "for container in ax.containers:\n",
    "    ax.bar_label(container);"
   ]
  },
  {
   "cell_type": "markdown",
   "metadata": {
    "id": "IzZNpvJPjwPA"
   },
   "source": [
    "**Replace the value \"?\" to the value \"Unknown\"** "
   ]
  },
  {
   "cell_type": "code",
   "execution_count": null,
   "metadata": {
    "id": "n_Y-lMcOjwPA"
   },
   "outputs": [],
   "source": [
    "# Replacing \"?\" values with \"Unknown\"\n",
    "\n",
    "df.native_country.replace(\"?\", \"Unknown\", inplace=True)"
   ]
  },
  {
   "cell_type": "markdown",
   "metadata": {
    "id": "jhFDZnJ_jwPA"
   },
   "source": [
    "**Decrease the number of categories in \"native_country\" feature as US, and Others and create a new feature with this new categorical data**"
   ]
  },
  {
   "cell_type": "code",
   "execution_count": null,
   "metadata": {
    "id": "4L1ZWfZYjwPA"
   },
   "outputs": [],
   "source": [
    "def mapping_native_country(x):\n",
    "    if x == \"United-States\":\n",
    "        return \"US\"\n",
    "    else:\n",
    "        return \"Others\""
   ]
  },
  {
   "cell_type": "code",
   "execution_count": null,
   "metadata": {
    "id": "WUnDsyt7jwPA",
    "outputId": "bcf6c723-ab3d-42a1-8d43-3779bab31810"
   },
   "outputs": [],
   "source": [
    "# Decreasing the number of categories in \"native_country\" feature as \"US\", and \"Others\"   \n",
    "\n",
    "df.native_country.apply(mapping_native_country).value_counts(dropna=False)"
   ]
  },
  {
   "cell_type": "code",
   "execution_count": null,
   "metadata": {
    "id": "jLqTghW8jwPA"
   },
   "outputs": [],
   "source": [
    "# Creating a new feature named \"native_country_summary\"\n",
    "\n",
    "df[\"native_country_summary\"] = df.native_country.apply(mapping_native_country)\n",
    "df[\"native_country_summary\"]"
   ]
  },
  {
   "cell_type": "markdown",
   "metadata": {
    "id": "uoX86TB6jwPA"
   },
   "source": [
    "**Visualize the count of person in each new categories (US, Others)**"
   ]
  },
  {
   "cell_type": "code",
   "execution_count": null,
   "metadata": {
    "id": "9lSfGMCHjwPB",
    "outputId": "2a238a03-dede-451e-95f9-d2b88ebddb5e"
   },
   "outputs": [],
   "source": [
    "# Visualizing the number of people in each category of \"native_country_summary\"\n",
    "\n",
    "ax = sns.countplot(data=df, x=\"native_country_summary\")\n",
    "\n",
    "plt.title(\"The Number of People From US & Other Countries\", fontsize=16);\n",
    "\n",
    "for container in ax.containers:\n",
    "    ax.bar_label(container, fontsize=12);"
   ]
  },
  {
   "cell_type": "markdown",
   "metadata": {
    "id": "x-wiC7UAjwPB"
   },
   "source": [
    "**Check the count of person in each \"salary\" levels by these new native countries (US, Others) and visualize it with countplot**"
   ]
  },
  {
   "cell_type": "code",
   "execution_count": null,
   "metadata": {
    "id": "ESX1DGmojwPB",
    "outputId": "a42a79ec-68fa-4ab2-d596-1deaded49ddf"
   },
   "outputs": [],
   "source": [
    "# Checking the number of persons in each sub-categories of \"salary\" by \"native_country_summary\"   \n",
    "\n",
    "df.groupby(\"native_country_summary\").salary.value_counts()"
   ]
  },
  {
   "cell_type": "code",
   "execution_count": null,
   "metadata": {
    "id": "yBXbzaP4jwPB",
    "outputId": "b78d9ec5-65c3-420f-a3c7-97749833819d",
    "scrolled": false
   },
   "outputs": [],
   "source": [
    "# Visualizing the number of persons in each sub-categories of \"salary\" by \"native_country_summary\"   \n",
    "\n",
    "ax = sns.countplot(data=df, x=\"native_country_summary\", hue=\"salary\")\n",
    "\n",
    "plt.title(\"The Number of People From US and Other Countries by Salary Levels\", fontsize=16);\n",
    "\n",
    "for container in ax.containers:\n",
    "    ax.bar_label(container, fontsize=12);"
   ]
  },
  {
   "cell_type": "markdown",
   "metadata": {
    "id": "w_LThintjwPB"
   },
   "source": [
    "**Check the percentage distribution of person in each \"salary\" levels by each new native countries (US, Others) and visualize it with pie plot separately**"
   ]
  },
  {
   "cell_type": "code",
   "execution_count": null,
   "metadata": {
    "id": "7doRxiUcjwPC",
    "outputId": "24506089-ee5c-4e94-c4a8-dff55ad51c91"
   },
   "outputs": [],
   "source": [
    "# Checking the percentage of persons in each \"salary\" levels by \"native_country_summary\" \n",
    "\n",
    "country = df.groupby([\"native_country_summary\"]).salary.value_counts(normalize=True)*100\n",
    "country"
   ]
  },
  {
   "cell_type": "code",
   "execution_count": null,
   "metadata": {
    "id": "8B6IUiwzjwPC",
    "outputId": "daa31462-1881-4644-e269-6dd7ae5b3aa1"
   },
   "outputs": [],
   "source": [
    "# Visualizing the percentage of persons in each \"salary\" levels by \"native_country_summary\" \n",
    "\n",
    "plt.figure(figsize = (18, 6))\n",
    "index = 1\n",
    "for i in [0, 2]:\n",
    "    plt.subplot(1, 2, index)\n",
    "    country[i:i+2].plot.pie(subplots=True,\n",
    "                            labels=[\"<=50K\", \">50K\"],\n",
    "                            autopct=\"%.2f%%\",\n",
    "                            textprops={'fontsize': 12},\n",
    "                            colors=['pink', 'lightskyblue'],\n",
    "                            )\n",
    "    plt.title(country.index[i][0], fontdict = {'fontsize': 14})\n",
    "#    plt.legend()\n",
    "    index += 1"
   ]
  },
  {
   "cell_type": "markdown",
   "metadata": {},
   "source": [
    "**Some Remarks on \"Salary\" and \"Nationality\" Features :** While 19.8% of foreign nationals are paid over 50K, this percentage is 24,6 for US nationals."
   ]
  },
  {
   "cell_type": "markdown",
   "metadata": {
    "id": "PpmDSPKAjwPC"
   },
   "source": [
    "**Check the count of person in each these new native countries (US, Others) by \"salary\" levels and visualize it with countplot**"
   ]
  },
  {
   "cell_type": "code",
   "execution_count": null,
   "metadata": {
    "id": "M3LJ3FC5jwPC",
    "outputId": "d251b33f-fa43-4170-a1c7-5e635b8db2e8"
   },
   "outputs": [],
   "source": [
    "# Checking the number of persons in each sub-categories of \"native_country_summary\" by \"salary\" levels  \n",
    "\n",
    "df.groupby(\"salary\").native_country_summary.value_counts()"
   ]
  },
  {
   "cell_type": "code",
   "execution_count": null,
   "metadata": {
    "id": "lz74jT75jwPC",
    "outputId": "1d842f2f-9329-473e-ba08-c027615513d9"
   },
   "outputs": [],
   "source": [
    "# Visualizing the number of persons in each sub-categories of \"native_country_summary\" by \"salary\" levels  \n",
    "\n",
    "ax = sns.countplot(data=df, x=\"salary\", hue=\"native_country_summary\")\n",
    "\n",
    "plt.title(\"The Number of People From Each Country by Salary\", fontsize=16);\n",
    "\n",
    "for container in ax.containers:\n",
    "    ax.bar_label(container, fontsize=12);"
   ]
  },
  {
   "cell_type": "markdown",
   "metadata": {
    "id": "z8Qi7EFPjwPD"
   },
   "source": [
    "**Check the the percentage distribution of person in each these new native countries (US, Others) by \"salary\" levels and visualize it with pie plot separately**"
   ]
  },
  {
   "cell_type": "code",
   "execution_count": null,
   "metadata": {
    "id": "q4PUMG-njwPD",
    "outputId": "e22bbb29-775a-4553-f0f3-8f9a69a4d486"
   },
   "outputs": [],
   "source": [
    "# Checking the percentage of persons in each sub-categories of \"native_country_summary\" by \"salary\" levels  \n",
    "\n",
    "country = df.groupby([\"salary\"]).native_country_summary.value_counts(normalize=True)*100\n",
    "country"
   ]
  },
  {
   "cell_type": "code",
   "execution_count": null,
   "metadata": {
    "id": "Z5aB2eqTjwPD",
    "outputId": "ee77f818-83eb-4c8c-8149-ce26405fb778"
   },
   "outputs": [],
   "source": [
    "# Visualizing the percentage of persons in each sub-categories of \"native_country_summary\" by \"salary\" levels  \n",
    "\n",
    "plt.figure(figsize = (18, 6))\n",
    "index = 1\n",
    "for i in [0, 2]:\n",
    "    plt.subplot(1, 2, index)\n",
    "    country[i:i+2].plot.pie(subplots=True,\n",
    "                            labels=[\"US\", \"Others\"],\n",
    "                            autopct=\"%.2f%%\",\n",
    "                            textprops={'fontsize': 12},\n",
    "                            colors=['pink', 'lightskyblue'],\n",
    "                            )\n",
    "    plt.title(country.index[i][0], fontdict = {'fontsize': 14})\n",
    "#    plt.legend()\n",
    "    index += 1"
   ]
  },
  {
   "cell_type": "markdown",
   "metadata": {
    "id": "Y9pmpvNZjwPD"
   },
   "source": [
    "**Write down the conclusions you draw from your analysis**"
   ]
  },
  {
   "cell_type": "markdown",
   "metadata": {
    "id": "N1L4tySAjwPE"
   },
   "source": [
    "**Some Remarks on \"native_country\" Feature :** The individuals from the \"United States\" has a higher ratio of high-level income both in the self group and in the high-income group."
   ]
  },
  {
   "cell_type": "markdown",
   "metadata": {
    "id": "aQo2OjRBjwPE"
   },
   "source": [
    "## <p style=\"background-color:#9d4f8c; font-family:newtimeroman; color:#FFF9ED; font-size:175%; text-align:center; border-radius:10px 10px;\">Other Specific Analysis Questions</p>\n",
    "\n",
    "<a id=\"5\"></a>\n",
    "<a href=\"#toc\" class=\"btn btn-primary btn-sm\" role=\"button\" aria-pressed=\"true\" \n",
    "style=\"color:blue; background-color:#dfa8e4\" data-toggle=\"popover\">Content</a>"
   ]
  },
  {
   "cell_type": "markdown",
   "metadata": {
    "id": "4Nzi2KokjwPE"
   },
   "source": [
    "### 1. What is the average age of males and females by income level?"
   ]
  },
  {
   "cell_type": "code",
   "execution_count": null,
   "metadata": {
    "id": "695BNv9mjwPE",
    "outputId": "b28bebca-4ec6-4c52-e3ed-dc77ad0746e6"
   },
   "outputs": [],
   "source": [
    "# Determining the average of people in each sub-categories of \"gender\" by \"salary\"  \n",
    "\n",
    "df.groupby([\"salary\", \"gender\"]).age.mean()"
   ]
  },
  {
   "cell_type": "code",
   "execution_count": null,
   "metadata": {
    "id": "gHJj2-3BjwPE",
    "outputId": "63221b2a-d461-4a8d-9f12-8ecf8770e6e6"
   },
   "outputs": [],
   "source": [
    "# With Pandas\n",
    "\n",
    "# Visualizing the average of people in each sub-categories of \"gender\" by \"salary\" with Pandas \n",
    "\n",
    "fig, ax = plt.subplots()\n",
    "\n",
    "ax = df.groupby([\"salary\", \"gender\"]).age.mean().plot.bar()\n",
    "plt.xticks(rotation=0)\n",
    "\n",
    "for container in ax.containers:\n",
    "    ax.bar_label(container, fmt=\"%.2f\", fontsize=12);"
   ]
  },
  {
   "cell_type": "code",
   "execution_count": null,
   "metadata": {
    "id": "CJxjoA8ejwPE",
    "outputId": "111d20c7-6864-42f7-8098-ec7b05c304dc"
   },
   "outputs": [],
   "source": [
    "age = df.groupby([\"salary\", \"gender\"])[[\"age\"]].mean().reset_index()\n",
    "age"
   ]
  },
  {
   "cell_type": "code",
   "execution_count": null,
   "metadata": {
    "id": "jHz5G42kjwPE",
    "outputId": "9b1a1d09-1b35-40c9-a296-0e87a887e4cc"
   },
   "outputs": [],
   "source": [
    "# With Seaborn\n",
    "\n",
    "# Visualizing the average of people in each sub-categories of \"gender\" by \"salary\" with Seaborn \n",
    "\n",
    "fig, ax = plt.subplots()\n",
    "\n",
    "ax = sns.barplot(data=age, x=\"salary\", y=\"age\", hue=\"gender\")\n",
    "\n",
    "plt.title(\"The Average Age by Income Level\", fontsize=16)\n",
    "\n",
    "for container in ax.containers:\n",
    "    ax.bar_label(container, fmt=\"%.2f\", fontsize=12);"
   ]
  },
  {
   "cell_type": "markdown",
   "metadata": {
    "id": "Atr3vfcKjwPF"
   },
   "source": [
    "### 2. What is the workclass percentages of Americans in high-level income group?"
   ]
  },
  {
   "cell_type": "code",
   "execution_count": null,
   "metadata": {
    "id": "_2wlZKtSjwPF",
    "outputId": "cebaaf08-dd3d-47b3-ec59-4514d1245890"
   },
   "outputs": [],
   "source": [
    "# Determining the percentage of US citizens in high-level income group \n",
    "\n",
    "workclass_US = df[(df.salary == \">50K\") & (df.native_country_summary == \"US\")]\\\n",
    "                                                    .workclass.value_counts(dropna=False, normalize=True)*100\n",
    "workclass_US"
   ]
  },
  {
   "cell_type": "code",
   "execution_count": null,
   "metadata": {
    "id": "K8XsmmfmjwPF",
    "outputId": "12d24ad3-811d-4c67-9fd9-314ec264f872",
    "scrolled": false
   },
   "outputs": [],
   "source": [
    "# Visualizing the percentage of US citizens in high-level income group \n",
    "\n",
    "fig, ax = plt.subplots()\n",
    "\n",
    "ax = sns.barplot(x=workclass_US.index, y=workclass_US.values)\n",
    "\n",
    "plt.title(\"Workclass Percentages in High-Level Income\", fontsize=16)\n",
    "plt.xticks(rotation=0)\n",
    "\n",
    "for container in ax.containers:\n",
    "    ax.bar_label(container, fmt=\"%.2f%%\", fontsize=12);"
   ]
  },
  {
   "cell_type": "markdown",
   "metadata": {},
   "source": [
    "The majority of  US nationals( 63%) that make money more than 50K work in private sector."
   ]
  },
  {
   "cell_type": "markdown",
   "metadata": {
    "id": "7CvSp9f7jwPF"
   },
   "source": [
    "### 3. What is the occupational percentages of Americans who work as \"Private\" workclass in high-level income group?"
   ]
  },
  {
   "cell_type": "code",
   "execution_count": null,
   "metadata": {
    "id": "8K8xLconjwPF",
    "outputId": "0d62556a-c8da-4247-adeb-5a55f7eedd39"
   },
   "outputs": [],
   "source": [
    "# Determining the percentage of US citizens who work as \"Private\" workclass in high-level income \n",
    "\n",
    "occupation_US = df[(df.salary == \">50K\") & (df.native_country_summary == \"US\") & (df.workclass == \"Private\")]\\\n",
    "                  .occupation.value_counts(dropna=False, normalize=True)*100 \n",
    "occupation_US"
   ]
  },
  {
   "cell_type": "code",
   "execution_count": null,
   "metadata": {
    "id": "WNJSHRk-jwPF",
    "outputId": "d0072dec-0dfd-4c43-c287-3aa9af000c0e",
    "scrolled": false
   },
   "outputs": [],
   "source": [
    "# Visualizng the percentage of US citizens who work as \"Private\" workclass in high-level income \n",
    "\n",
    "fig, ax = plt.subplots()\n",
    "\n",
    "ax = sns.barplot(x=occupation_US.index, y=occupation_US.values)\n",
    "\n",
    "plt.title(\"Occupation Percentages in Private Workclass with High-Level Income\", fontsize=16)\n",
    "plt.xticks(rotation=60)\n",
    "\n",
    "for container in ax.containers:\n",
    "    ax.bar_label(container, fmt=\"%.2f%%\", fontsize=10);"
   ]
  },
  {
   "cell_type": "markdown",
   "metadata": {},
   "source": [
    "More than half of the US national (about 60%) working in private sector are clustered in three occupation groups: \"Executive-managerial\", \"prof-specialty\", \"craft-repair\". The last three are followed by \"farming-fishing\", \"Protective-service\", and \"Priv-house-service\", which may require relatively less education but more hours-per-week work."
   ]
  },
  {
   "cell_type": "markdown",
   "metadata": {
    "id": "F7sK9___jwPG"
   },
   "source": [
    "### 4. What is the percentage of educational level of Asian-Pac-Islander race group in high-level income group?"
   ]
  },
  {
   "cell_type": "code",
   "execution_count": null,
   "metadata": {
    "id": "w5z37frVjwPG",
    "outputId": "08f3806e-9bd6-49f6-cbe4-c6666a432a67"
   },
   "outputs": [],
   "source": [
    "# Determining the percentage of educational level of US citizens whose origin is Asian-Pac-Islander and income level is high \n",
    "\n",
    "Asian_Pac_Islander_Edu = df[(df.salary == \">50K\") & (df.race == \"Asian-Pac-Islander\")]\\\n",
    "                     .education.value_counts(dropna=False, normalize=True)*100 \n",
    "Asian_Pac_Islander_Edu"
   ]
  },
  {
   "cell_type": "code",
   "execution_count": null,
   "metadata": {
    "id": "xPGl66yCjwPG",
    "outputId": "53c9d262-df20-4b16-8f71-aac836acf9e0",
    "scrolled": false
   },
   "outputs": [],
   "source": [
    "# Visualizing the percentage of educational level of US citizens whose origin is Asian-Pac-Islander and income level is high \n",
    "\n",
    "fig, ax = plt.subplots()\n",
    "\n",
    "ax = sns.barplot(x=Asian_Pac_Islander_Edu.index, y=Asian_Pac_Islander_Edu.values)\n",
    "\n",
    "plt.title(\"Education Level Percentages of Asian-Pac-Islanders with High-Level Income\", fontsize=16)\n",
    "plt.xticks(rotation=90)\n",
    "\n",
    "for container in ax.containers:\n",
    "    ax.bar_label(container, fmt=\"%.2f%%\", fontsize=10);"
   ]
  },
  {
   "cell_type": "markdown",
   "metadata": {},
   "source": [
    "Over 56% of Asian-Pac-Islanders in high-level income group have Bachelors or higher degree."
   ]
  },
  {
   "cell_type": "markdown",
   "metadata": {
    "id": "7qqMjUE9jwPG"
   },
   "source": [
    "### 5. What is the occupation percentages of Asian-Pac-Islander race group who has a Bachelors degree in high-level income group?"
   ]
  },
  {
   "cell_type": "code",
   "execution_count": null,
   "metadata": {
    "id": "-YFqtz58jwPG",
    "outputId": "cfbc4f8e-fb91-479c-abed-fdbdfc9cac63"
   },
   "outputs": [],
   "source": [
    "# Determining the percentage of occupation of US citizens \n",
    "# whose origin is Asian-Pac-Islander and has Bachelors degree in high-level income group \n",
    "\n",
    "Asian_Pac_Islander_Occupation = df[(df.salary == \">50K\") & (df.race == \"Asian-Pac-Islander\") & (df.education == \"Bachelors\")]\\\n",
    "                                 .occupation.value_counts(dropna=False, normalize=True)*100 \n",
    "Asian_Pac_Islander_Occupation"
   ]
  },
  {
   "cell_type": "code",
   "execution_count": null,
   "metadata": {
    "id": "GkVsEPXLjwPG",
    "outputId": "a13c9b27-b4b5-4263-8627-1305fb1e9c1b",
    "scrolled": false
   },
   "outputs": [],
   "source": [
    "# Visualizing the percentage of occupation of US citizens \n",
    "# whose origin is Asian-Pac-Islander and has Bachelors degree in high-level income group \n",
    "\n",
    "fig, ax = plt.subplots()\n",
    "\n",
    "ax = sns.barplot(x=Asian_Pac_Islander_Occupation.index, y=Asian_Pac_Islander_Occupation.values)\n",
    "\n",
    "plt.title(\"Occupation Percentages of Asian-Pac-Islanders with Bachelors Degree and High-Level Income\", fontsize=14)\n",
    "plt.xticks(rotation=60)\n",
    "\n",
    "for container in ax.containers:\n",
    "    ax.bar_label(container, fmt=\"%.2f%%\", fontsize=10);"
   ]
  },
  {
   "cell_type": "markdown",
   "metadata": {},
   "source": [
    "About 66 percent of Asian-Pac-Islanders who has a Bachelors degree in high-level income group work in three occupatinal groups: \"Exec-managerial\" with 27.84%, \"Prof-specialty\" with 25.77%, and \"Adm-clerical\" with 2.37%."
   ]
  },
  {
   "cell_type": "markdown",
   "metadata": {
    "id": "R5sVvHBYjwPH"
   },
   "source": [
    "### 6. What is the mean of working hours per week by gender for education level, workclass and marital status? Try to plot all required in one figure."
   ]
  },
  {
   "cell_type": "code",
   "execution_count": null,
   "metadata": {
    "id": "6XvmB1NOjwPH",
    "outputId": "e30b20c2-6f44-444c-8c95-1154831fb5c5"
   },
   "outputs": [],
   "source": [
    "# Visualizing the average of working hours per week by gender for education level, workclass and marital status \n",
    "\n",
    "g = sns.catplot(x=\"education_summary\",\n",
    "                y=\"hours_per_week\",\n",
    "                data=df,\n",
    "                kind=\"bar\",\n",
    "                estimator= np.mean,\n",
    "                hue=\"gender\",\n",
    "                col=\"marital_status_summary\",\n",
    "                row=\"native_country_summary\",\n",
    "                ci=None,\n",
    "                palette=sns.color_palette(['skyblue', 'pink']));\n",
    "\n",
    "g.fig.set_size_inches(15, 8)\n",
    "g.fig.subplots_adjust(top=0.9)\n",
    "g.fig.suptitle('Working Hours Per Week by Gender for Education, Workclass, Marital Status', fontsize=16)\n",
    "\n",
    "# iterate through axes\n",
    "for ax in g.axes.ravel():\n",
    "\n",
    "    # add annotations\n",
    "    for container in ax.containers:\n",
    "        ax.bar_label(container, fmt=\"%.2f\", fontsize=12);\n",
    "    \n",
    "    ax.margins(y=0.2)\n",
    "\n",
    "plt.show()"
   ]
  },
  {
   "cell_type": "markdown",
   "metadata": {
    "id": "tct5KTULjwPH"
   },
   "source": [
    "## <p style=\"background-color:#9d4f8c; font-family:newtimeroman; color:#FFF9ED; font-size:175%; text-align:center; border-radius:10px 10px;\">Dropping Similar & Unneccessary Features</p>\n",
    "\n",
    "<a id=\"6\"></a>\n",
    "<a href=\"#toc\" class=\"btn btn-primary btn-sm\" role=\"button\" aria-pressed=\"true\" \n",
    "style=\"color:blue; background-color:#dfa8e4\" data-toggle=\"popover\">Content</a>"
   ]
  },
  {
   "cell_type": "code",
   "execution_count": null,
   "metadata": {
    "id": "baqe9ua4jwPH",
    "outputId": "1d0be240-aba6-4067-802f-b2e70752820e"
   },
   "outputs": [],
   "source": [
    "df.info()"
   ]
  },
  {
   "cell_type": "code",
   "execution_count": null,
   "metadata": {
    "id": "lXCQgnsYjwPH"
   },
   "outputs": [],
   "source": [
    "df.drop(columns=[\"education\", \"education_num\", \"relationship\", \"marital_status\", \"native_country\"], inplace=True)"
   ]
  },
  {
   "cell_type": "code",
   "execution_count": null,
   "metadata": {},
   "outputs": [],
   "source": [
    "df.shape"
   ]
  },
  {
   "cell_type": "markdown",
   "metadata": {
    "id": "-_TS1bdWjwPH"
   },
   "source": [
    "## <p style=\"background-color:#9d4f8c; font-family:newtimeroman; color:#FFF9ED; font-size:175%; text-align:center; border-radius:10px 10px;\">Handling with Missing Value</p>\n",
    "\n",
    "<a id=\"7\"></a>\n",
    "<a href=\"#toc\" class=\"btn btn-primary btn-sm\" role=\"button\" aria-pressed=\"true\" \n",
    "style=\"color:blue; background-color:#dfa8e4\" data-toggle=\"popover\">Content</a>"
   ]
  },
  {
   "cell_type": "markdown",
   "metadata": {
    "id": "-9W89YamjwPI"
   },
   "source": [
    "**Check the missing values for all features basically**"
   ]
  },
  {
   "cell_type": "code",
   "execution_count": null,
   "metadata": {
    "id": "xRah7bdqjwPI",
    "outputId": "a8272c1d-feeb-4684-e69b-3b6775e868a3",
    "scrolled": true
   },
   "outputs": [],
   "source": [
    "df.isnull().sum()"
   ]
  },
  {
   "cell_type": "markdown",
   "metadata": {},
   "source": [
    "**Besides, it's time to detect the duplicated values now, if there have been, drop them permanently. Remember that we toke care of them before at the beginning of our analysis. Let's see what happens:**"
   ]
  },
  {
   "cell_type": "code",
   "execution_count": null,
   "metadata": {},
   "outputs": [],
   "source": [
    "df.shape"
   ]
  },
  {
   "cell_type": "code",
   "execution_count": null,
   "metadata": {},
   "outputs": [],
   "source": [
    "df.duplicated().value_counts()  "
   ]
  },
  {
   "cell_type": "code",
   "execution_count": null,
   "metadata": {},
   "outputs": [],
   "source": [
    "df.drop_duplicates(keep='first', inplace=True)  "
   ]
  },
  {
   "cell_type": "code",
   "execution_count": null,
   "metadata": {},
   "outputs": [],
   "source": [
    "df.shape"
   ]
  },
  {
   "cell_type": "code",
   "execution_count": null,
   "metadata": {},
   "outputs": [],
   "source": [
    "# As you remember we checked it at the begining of the analysis and \"relationship\" feature had more than one types of data\n",
    "\n",
    "def check_obj_columns(df):\n",
    "    '''\n",
    "    Returns nothing or column/s which has/have mixed object types.\n",
    "    '''    \n",
    "    \n",
    "    tdf = df.select_dtypes(include=['object']).applymap(type)\n",
    "    for col in tdf:\n",
    "        if len(set(tdf[col].values)) > 1:\n",
    "            print(\"Column {} has mixed object types.\".format(col))\n",
    "\n",
    "check_obj_columns(df)"
   ]
  },
  {
   "cell_type": "markdown",
   "metadata": {
    "id": "gQmPPblQjwPI"
   },
   "source": [
    "**1. It seems that there is no missing values. But we know that \"workclass\", and \"occupation\" features have missing (inappropriate) values named  \"Unknown\" as string type. Let's Examine these features in more detail.**\n",
    "\n",
    "**2. Decide if it's necessary to drop the \"Unknown\" string values or not?**"
   ]
  },
  {
   "cell_type": "code",
   "execution_count": null,
   "metadata": {
    "id": "dJkpaqbOjwPI",
    "outputId": "5dd40daf-ad8f-4c72-9c90-5671f1934899"
   },
   "outputs": [],
   "source": [
    "df.workclass.value_counts()"
   ]
  },
  {
   "cell_type": "code",
   "execution_count": null,
   "metadata": {
    "id": "7_Qxh7WVjwPI",
    "outputId": "498beb6c-888f-49dd-edb0-7a2921200724"
   },
   "outputs": [],
   "source": [
    "df.occupation.value_counts()"
   ]
  },
  {
   "cell_type": "code",
   "execution_count": null,
   "metadata": {
    "id": "P53M7yfVjwPI",
    "outputId": "0a2d373c-a026-49c7-ccaf-197fc074537c"
   },
   "outputs": [],
   "source": [
    "# Let's examine what kind sub-categories of \"workclass\" there have been regarding \"occupation\" \n",
    "\n",
    "df[df.occupation == \"Unknown\"].workclass.value_counts()"
   ]
  },
  {
   "cell_type": "code",
   "execution_count": null,
   "metadata": {},
   "outputs": [],
   "source": [
    "# As seen, it is almost imposibble to extract some insights from the output\n",
    "\n",
    "df[df.occupation == \"Unknown\"]"
   ]
  },
  {
   "cell_type": "code",
   "execution_count": null,
   "metadata": {},
   "outputs": [],
   "source": [
    "df[df.occupation == \"Unknown\"].groupby([\"occupation\", \"workclass\"])[\"salary\"].agg(pd.Series.mode)"
   ]
  },
  {
   "cell_type": "code",
   "execution_count": null,
   "metadata": {},
   "outputs": [],
   "source": [
    "df[df.occupation == \"Unknown\"].groupby([\"occupation\", \"workclass\"])\\\n",
    ".agg({\"marital_status_summary\": pd.Series.mode, \"salary\": pd.Series.mode, \"native_country_summary\": pd.Series.mode, \"education_summary\": pd.Series.mode, \"race\": pd.Series.mode, \"gender\": pd.Series.mode})\n",
    "\n",
    "# df[df.occupation == \"Unknown\"].groupby([\"occupation\", \"workclass\"])[\"marital_status_summary\", \"salary\", \"native_country_summary\", \"education_summary\", \"race\", \"gender\"]\\\n",
    "#                               .apply(lambda x : x.agg(pd.Series.mode))"
   ]
  },
  {
   "cell_type": "markdown",
   "metadata": {},
   "source": [
    "**Even if you may prefer to fill them with the findings above; however, we will NOT pick up this approach since we assume that we have enough observation to continue for analysis.** "
   ]
  },
  {
   "cell_type": "code",
   "execution_count": null,
   "metadata": {
    "id": "vxiKQqYRjwPI"
   },
   "outputs": [],
   "source": [
    "# So, let's assign these \"Unknown\" values to \"NaN\"\n",
    "\n",
    "df.replace(\"Unknown\", np.nan, inplace=True)"
   ]
  },
  {
   "cell_type": "code",
   "execution_count": null,
   "metadata": {
    "id": "33lgueMojwPI",
    "outputId": "fe2d2a12-0c6e-49a9-e02a-c130ab8814af"
   },
   "outputs": [],
   "source": [
    "df.isnull().sum()"
   ]
  },
  {
   "cell_type": "code",
   "execution_count": null,
   "metadata": {
    "id": "er7M7CYSjwPJ"
   },
   "outputs": [],
   "source": [
    "# Then, we can exclude them from our DataFrame \n",
    "\n",
    "df.dropna(inplace=True)"
   ]
  },
  {
   "cell_type": "code",
   "execution_count": null,
   "metadata": {
    "id": "I66cdIqrjwPJ",
    "outputId": "424afb41-f7ec-4165-c230-8681ed068c97"
   },
   "outputs": [],
   "source": [
    "df.isnull().sum()"
   ]
  },
  {
   "cell_type": "code",
   "execution_count": null,
   "metadata": {
    "id": "MBe8W4MdjwPJ",
    "outputId": "b1766d9b-6812-41ad-d058-39f32e279c27"
   },
   "outputs": [],
   "source": [
    "df.info()"
   ]
  },
  {
   "cell_type": "markdown",
   "metadata": {
    "id": "OqhEXvvtjwPJ"
   },
   "source": [
    "## <p style=\"background-color:#9d4f8c; font-family:newtimeroman; color:#FFF9ED; font-size:175%; text-align:center; border-radius:10px 10px;\">Handling with Outliers</p>\n",
    "\n",
    "<a id=\"8\"></a>\n",
    "<a href=\"#toc\" class=\"btn btn-primary btn-sm\" role=\"button\" aria-pressed=\"true\" \n",
    "style=\"color:blue; background-color:#dfa8e4\" data-toggle=\"popover\">Content</a>"
   ]
  },
  {
   "cell_type": "markdown",
   "metadata": {
    "id": "A96k9zQ-jwPJ"
   },
   "source": [
    "### Boxplot and Histplot for all numeric features\n",
    "\n",
    "**Plot boxplots for each numeric features at the same figure as subplots**"
   ]
  },
  {
   "cell_type": "code",
   "execution_count": null,
   "metadata": {
    "id": "_sWpVXRujwPJ",
    "outputId": "0392519d-73f8-408c-af87-b09dd94e4e8c"
   },
   "outputs": [],
   "source": [
    "plt.boxplot((df[df.select_dtypes('number').columns]), \n",
    "            labels=df.select_dtypes('number').columns,\n",
    "            showmeans=True,\n",
    "            meanprops={\"marker\":\"o\",\n",
    "                       \"markerfacecolor\":\"white\", \n",
    "                       \"markeredgecolor\":\"black\",\n",
    "                       \"markersize\":\"10\"})\n",
    "plt.ticklabel_format(style='plain', axis='y')\n",
    "plt.show()"
   ]
  },
  {
   "cell_type": "code",
   "execution_count": null,
   "metadata": {
    "id": "19LXURbdjwPJ",
    "outputId": "8cb50127-be45-433c-f887-fa8e2876213c"
   },
   "outputs": [],
   "source": [
    "index = 0\n",
    "plt.figure(figsize=(20, 10))\n",
    "\n",
    "for feature in df.select_dtypes('number').columns:\n",
    "    index += 1\n",
    "    plt.subplot(2, 3, index)\n",
    "    sns.boxplot(x=feature, \n",
    "                data=df, \n",
    "                whis=1.5,\n",
    "                showmeans=True,\n",
    "                meanprops={\"marker\":\"o\",\n",
    "                           \"markerfacecolor\":\"white\", \n",
    "                           \"markeredgecolor\":\"black\",\n",
    "                           \"markersize\":\"10\"})\n",
    "    plt.ticklabel_format(style='plain', axis='x')"
   ]
  },
  {
   "cell_type": "code",
   "execution_count": null,
   "metadata": {},
   "outputs": [],
   "source": [
    "numerical_features_df = df.select_dtypes('number')\n",
    "numerical_features_df\n",
    "\n",
    "inputs = numerical_features_df.columns\n",
    "num_inputs = len(inputs)\n",
    "\n",
    "fig, ax = plt.subplots(1, num_inputs, figsize=(20, 10))\n",
    "\n",
    "for i, (ax, curve) in enumerate(zip(ax.flat, inputs)):\n",
    "    sns.boxplot(y=numerical_features_df[curve], \n",
    "                ax=ax, \n",
    "                color='cornflowerblue', \n",
    "                showmeans=True,\n",
    "                meanprops={\"marker\":\"o\",\n",
    "                           \"markerfacecolor\":\"white\",\n",
    "                           \"markeredgecolor\":\"black\",\n",
    "                           \"markersize\":\"10\"},\n",
    "                flierprops={'marker':'o',\n",
    "                            'markerfacecolor':'darkgreen',\n",
    "                            'markeredgecolor':'darkgreen'})\n",
    "    \n",
    "    ax.set_title(inputs[i])\n",
    "    ax.set_ylabel('')\n",
    "    \n",
    "plt.subplots_adjust(hspace=0.15, wspace=1.25)\n",
    "plt.show()"
   ]
  },
  {
   "cell_type": "markdown",
   "metadata": {
    "id": "RhL1GSZWjwPK"
   },
   "source": [
    "**Plot both boxplots and histograms for each numeric features at the same figure as subplots**"
   ]
  },
  {
   "cell_type": "code",
   "execution_count": null,
   "metadata": {},
   "outputs": [],
   "source": [
    "list(zip(df.select_dtypes('number').columns, [(1, 2),(3, 4),(5, 6),(7, 8),(9, 10)]))"
   ]
  },
  {
   "cell_type": "code",
   "execution_count": null,
   "metadata": {
    "scrolled": false
   },
   "outputs": [],
   "source": [
    "plt.figure(figsize=(20, 40))\n",
    "\n",
    "sns.set(style=\"whitegrid\", font_scale=1)\n",
    "\n",
    "for i, j in list(zip(df.select_dtypes('number').columns, [(1, 2),(3, 4),(5, 6),(7, 8),(9, 10)])):\n",
    "    plt.subplot(5, 2, j[0])\n",
    "    sns.boxplot(x=df.select_dtypes('number')[i])\n",
    "    plt.subplot(5, 2, j[1])\n",
    "    sns.histplot(x=df.select_dtypes('number')[i])"
   ]
  },
  {
   "cell_type": "code",
   "execution_count": null,
   "metadata": {
    "id": "4mP6wGFpjwPK",
    "outputId": "969f39a1-d121-4b5a-cff0-45c77e6aedd9",
    "scrolled": false
   },
   "outputs": [],
   "source": [
    "# Alternative Code Block Plotting Both \"boxplots\" and \"histograms\" for Each Numeric Features at the Same Figure\n",
    "\n",
    "# index = 0\n",
    "# plt.figure(figsize=(20, 40))\n",
    "\n",
    "# for feature in df.select_dtypes('number').columns:\n",
    "#     index += 1\n",
    "#     plt.subplot(6, 2, index)\n",
    "#     sns.boxplot(x=feature, data=df, whis=1.5)\n",
    "#     index += 1\n",
    "#     plt.subplot(6,2,index)\n",
    "#     sns.histplot(x=feature, data=df)\n",
    "#     plt.ticklabel_format(style='plain', axis='x')"
   ]
  },
  {
   "cell_type": "markdown",
   "metadata": {
    "id": "O6diQd9mjwPK"
   },
   "source": [
    "**Check the statistical values for all numeric features**"
   ]
  },
  {
   "cell_type": "code",
   "execution_count": null,
   "metadata": {
    "id": "TEMG8okPjwPK",
    "outputId": "e7e6d142-a684-43a1-b998-ab25a1a5d152"
   },
   "outputs": [],
   "source": [
    "df.describe().T"
   ]
  },
  {
   "cell_type": "code",
   "execution_count": null,
   "metadata": {},
   "outputs": [],
   "source": [
    "df[df[\"hours_per_week\"] > 70]"
   ]
  },
  {
   "cell_type": "markdown",
   "metadata": {
    "id": "7-GYNYVzjwPK"
   },
   "source": [
    "**1. After analyzing all numerical features, we have decided that we can't evaluate extreme values in \"fnlwgt, capital_gain, capital_loss\" features in the scope of outliers.**\n",
    "\n",
    "**2. So let's examine \"age and hours_per_week\" features and detect extreme values which could be outliers by using IQR Rule.**"
   ]
  },
  {
   "cell_type": "markdown",
   "metadata": {
    "id": "9s-OW2OwjwPR"
   },
   "source": [
    "### age"
   ]
  },
  {
   "cell_type": "code",
   "execution_count": null,
   "metadata": {
    "id": "GCRGhO72jwPR",
    "outputId": "8d330f66-b2a0-41b9-cbf4-278ddbc41d10"
   },
   "outputs": [],
   "source": [
    "plt.figure(figsize=(20, 7))\n",
    "\n",
    "plt.subplot(1, 2, 1)\n",
    "sns.boxplot(data=df.age,\n",
    "            orient=\"h\",\n",
    "            showmeans=True,\n",
    "            meanprops={\"marker\":\"o\",\n",
    "                       \"markerfacecolor\":\"white\", \n",
    "                       \"markeredgecolor\":\"black\",\n",
    "                       \"markersize\":\"10\"})\n",
    "\n",
    "plt.subplot(1, 2, 2)\n",
    "sns.histplot(data=df.age);"
   ]
  },
  {
   "cell_type": "code",
   "execution_count": null,
   "metadata": {
    "id": "-4ZPTeQPjwPR",
    "outputId": "6acd52c7-b4b9-456b-b84a-028c39290ce8"
   },
   "outputs": [],
   "source": [
    "low = df.age.quantile(0.25)\n",
    "high = df.age.quantile(0.75)\n",
    "IQR = high - low\n",
    "low, high, IQR"
   ]
  },
  {
   "cell_type": "code",
   "execution_count": null,
   "metadata": {
    "id": "3HNyNp-ZjwPS",
    "outputId": "b0aa7ed6-3005-4d68-dcb8-47dad83e3534"
   },
   "outputs": [],
   "source": [
    "lower_lim = low - (1.5 * IQR)\n",
    "upper_lim = high + (1.5 * IQR)\n",
    "lower_lim, upper_lim"
   ]
  },
  {
   "cell_type": "code",
   "execution_count": null,
   "metadata": {
    "id": "LPBrEifZjwPS",
    "outputId": "4bfb91c8-6c7d-4f18-a941-8074f5e506b3"
   },
   "outputs": [],
   "source": [
    "df[df.age > upper_lim].age.value_counts()"
   ]
  },
  {
   "cell_type": "code",
   "execution_count": null,
   "metadata": {
    "id": "gCIeTMScjwPS",
    "outputId": "85048126-266d-4fb0-b9f9-5adf674c5315"
   },
   "outputs": [],
   "source": [
    "df[df.age > upper_lim].sort_values(by=\"age\", ascending=False)"
   ]
  },
  {
   "cell_type": "markdown",
   "metadata": {
    "id": "vlBdLCMhjwPT"
   },
   "source": [
    "### hours_per_week"
   ]
  },
  {
   "cell_type": "code",
   "execution_count": null,
   "metadata": {
    "id": "0f14JR3ojwPT",
    "outputId": "0ac310c0-0bc8-485e-fd21-e78293efff0a"
   },
   "outputs": [],
   "source": [
    "plt.figure(figsize=(20, 7))\n",
    "\n",
    "plt.subplot(1, 2, 1)\n",
    "sns.boxplot(data=df.hours_per_week,\n",
    "            orient=\"h\",\n",
    "            showmeans=True,\n",
    "            meanprops={\"marker\":\"o\",\n",
    "                       \"markerfacecolor\":\"white\", \n",
    "                       \"markeredgecolor\":\"black\",\n",
    "                       \"markersize\":\"10\"})\n",
    "\n",
    "plt.subplot(1, 2, 2)\n",
    "sns.histplot(data=df.hours_per_week, bins=10);"
   ]
  },
  {
   "cell_type": "code",
   "execution_count": null,
   "metadata": {
    "id": "vQGoJw6DjwPT",
    "outputId": "072a01d0-e3ff-4dad-9ded-3dd8c6991fcf"
   },
   "outputs": [],
   "source": [
    "low = df.hours_per_week.quantile(0.25)\n",
    "high = df.hours_per_week.quantile(0.75)\n",
    "IQR = high - low\n",
    "low, high, IQR"
   ]
  },
  {
   "cell_type": "code",
   "execution_count": null,
   "metadata": {
    "id": "t_CzSS0EjwPU",
    "outputId": "933eb0e3-a5b9-4c4e-d5b0-26d8cc76e0eb"
   },
   "outputs": [],
   "source": [
    "lower_lim = low - (1.5 * IQR)\n",
    "upper_lim = high + (1.5 * IQR)\n",
    "lower_lim, upper_lim"
   ]
  },
  {
   "cell_type": "code",
   "execution_count": null,
   "metadata": {
    "id": "XLKSFZMljwPU",
    "outputId": "2e308cc6-041c-42b9-940d-8df8a36bc125"
   },
   "outputs": [],
   "source": [
    "df[df.hours_per_week > upper_lim].hours_per_week.value_counts().sort_index(ascending=False)"
   ]
  },
  {
   "cell_type": "code",
   "execution_count": null,
   "metadata": {
    "id": "RUA-Yk55jwPU",
    "outputId": "113eb950-d7c3-463e-fc8c-6d7222914f95",
    "scrolled": false
   },
   "outputs": [],
   "source": [
    "df[df.hours_per_week > upper_lim].sort_values(by=\"hours_per_week\", ascending=False)"
   ]
  },
  {
   "cell_type": "code",
   "execution_count": null,
   "metadata": {
    "id": "93eP8xszjwPU",
    "outputId": "997fc290-cca5-4061-9e55-158774e599ee"
   },
   "outputs": [],
   "source": [
    "df[df.hours_per_week < lower_lim].hours_per_week.value_counts().sort_index()"
   ]
  },
  {
   "cell_type": "code",
   "execution_count": null,
   "metadata": {
    "id": "ZId6b98cjwPV",
    "outputId": "f79c4c81-ec4c-4d62-e0c8-17f6eb3fe84c"
   },
   "outputs": [],
   "source": [
    "df[df.hours_per_week < lower_lim].groupby(\"salary\").hours_per_week.describe()"
   ]
  },
  {
   "cell_type": "code",
   "execution_count": null,
   "metadata": {
    "id": "Osd8iz8IjwPV",
    "outputId": "d91b2905-b5f8-4a5c-a425-ffe93b76f308"
   },
   "outputs": [],
   "source": [
    "df[df.hours_per_week < lower_lim].groupby(\"salary\").age.describe()"
   ]
  },
  {
   "cell_type": "markdown",
   "metadata": {
    "id": "0CJdRoYMjwPV"
   },
   "source": [
    "**Result :** As seen above, there are some number of extreme values in both \"age and hours_per_week\" features. But how can we know if these extreme values are outliers or not? At this point, **domain knowledge** comes to the fore.\n",
    "\n",
    "📝 **Domain Knowledge for this dataset:**\n",
    "1. In this dataset, all values are created according to the statements of individuals. So there can be some \"data entry errors\".\n",
    "2. In addition, we have aimed to create an ML model with some restrictions as getting better performance from the ML model.\n",
    "3. In this respect, our sample space ranges for some features are as follows.\n",
    "    - age : 17 to 80\n",
    "    - hours_per_week : 7 to 70\n",
    "    - if somebody's age is more than 60, he/she can't work more than 60 hours in a week"
   ]
  },
  {
   "cell_type": "markdown",
   "metadata": {
    "id": "HE-2lkvajwPV"
   },
   "source": [
    "### Dropping rows according to the domain knownledge "
   ]
  },
  {
   "cell_type": "code",
   "execution_count": null,
   "metadata": {
    "id": "cH--uBjnjwPW",
    "outputId": "24d1ba92-c243-4fce-8f78-4567fdb8dc2e"
   },
   "outputs": [],
   "source": [
    "df[(df.age < 17) |  (df.age > 80)].sort_values(by=\"age\", ascending=False)"
   ]
  },
  {
   "cell_type": "code",
   "execution_count": null,
   "metadata": {
    "id": "pef3mkEzjwPW",
    "outputId": "b653ac33-bd6d-4f65-99d8-28aa7ea2a478"
   },
   "outputs": [],
   "source": [
    "df[(df.age < 17) | (df.age > 80)].shape"
   ]
  },
  {
   "cell_type": "code",
   "execution_count": null,
   "metadata": {
    "id": "wsrX0YIrjwPW",
    "outputId": "39b4800c-5ad4-4470-a7cd-55ac5549a857"
   },
   "outputs": [],
   "source": [
    "drop_index = df[(df.age < 17) | (df.age > 80)].sort_values(by=\"age\", ascending=False).index\n",
    "drop_index"
   ]
  },
  {
   "cell_type": "code",
   "execution_count": null,
   "metadata": {
    "id": "hOXc2peRjwPW"
   },
   "outputs": [],
   "source": [
    "df.drop(drop_index, inplace=True)"
   ]
  },
  {
   "cell_type": "code",
   "execution_count": null,
   "metadata": {
    "id": "M-Z2itRjjwPX",
    "outputId": "c25071f8-650d-4262-b839-824bcd0be9e9",
    "scrolled": false
   },
   "outputs": [],
   "source": [
    "df[(df.hours_per_week < 7) | (df.hours_per_week > 70)].sort_values(by=\"hours_per_week\", ascending=False)"
   ]
  },
  {
   "cell_type": "code",
   "execution_count": null,
   "metadata": {
    "id": "4twb64ORjwPX",
    "outputId": "c8fc2dd4-c2f5-4c95-fd0f-66491c91865a"
   },
   "outputs": [],
   "source": [
    "df[(df.hours_per_week < 7) | (df.hours_per_week > 70)].shape"
   ]
  },
  {
   "cell_type": "code",
   "execution_count": null,
   "metadata": {
    "id": "cW3FH3lnjwPX",
    "outputId": "340b81d1-88f8-4767-e809-9bf10bf545f7"
   },
   "outputs": [],
   "source": [
    "drop_index = df[(df.hours_per_week < 7) | (df.hours_per_week > 70)].sort_values(by=\"hours_per_week\", ascending=False).index\n",
    "drop_index"
   ]
  },
  {
   "cell_type": "code",
   "execution_count": null,
   "metadata": {
    "id": "KaWAXr4WjwPY"
   },
   "outputs": [],
   "source": [
    "df.drop(drop_index, inplace=True)"
   ]
  },
  {
   "cell_type": "code",
   "execution_count": null,
   "metadata": {
    "id": "tqNZsRyQjwPY",
    "outputId": "320e7782-c120-48a3-c851-b0db2a33378a",
    "scrolled": false
   },
   "outputs": [],
   "source": [
    "df[(df.age > 60) & (df.hours_per_week > 60)]"
   ]
  },
  {
   "cell_type": "code",
   "execution_count": null,
   "metadata": {
    "id": "Q7WZc01UjwPY",
    "outputId": "31d08a32-cbc8-41dc-a619-1c7ba2ac7a31"
   },
   "outputs": [],
   "source": [
    "df[(df.age > 60) & (df.hours_per_week > 60)].shape"
   ]
  },
  {
   "cell_type": "code",
   "execution_count": null,
   "metadata": {
    "id": "iqRkrP6qjwPZ",
    "outputId": "044e9ae1-a0b5-49e6-b817-594f1ed67720"
   },
   "outputs": [],
   "source": [
    "drop_index = df[(df.age > 60) & (df.hours_per_week > 60)].index\n",
    "drop_index"
   ]
  },
  {
   "cell_type": "code",
   "execution_count": null,
   "metadata": {
    "id": "8MC7tjrxjwPZ"
   },
   "outputs": [],
   "source": [
    "df.drop(drop_index, inplace=True)"
   ]
  },
  {
   "cell_type": "code",
   "execution_count": null,
   "metadata": {
    "id": "MOE1yU2RjwPZ",
    "outputId": "9e349b3c-128a-4e9e-b6a2-2cd137657705"
   },
   "outputs": [],
   "source": [
    "df.shape"
   ]
  },
  {
   "cell_type": "code",
   "execution_count": null,
   "metadata": {},
   "outputs": [],
   "source": [
    "df.info()"
   ]
  },
  {
   "cell_type": "code",
   "execution_count": null,
   "metadata": {
    "id": "uKR0D3AijwPZ",
    "outputId": "4c09c993-143d-4ce5-b43e-56bb4013d8ca"
   },
   "outputs": [],
   "source": [
    "df.reset_index(drop=True, inplace=True)\n",
    "df"
   ]
  },
  {
   "cell_type": "code",
   "execution_count": null,
   "metadata": {},
   "outputs": [],
   "source": [
    "df.info()"
   ]
  },
  {
   "cell_type": "markdown",
   "metadata": {},
   "source": [
    "**Having dropped some of the extreme values using \"Tukey's Fence\", let us check the whisker plot again:**"
   ]
  },
  {
   "cell_type": "code",
   "execution_count": null,
   "metadata": {},
   "outputs": [],
   "source": [
    "index = 0\n",
    "plt.figure(figsize=(20, 10))\n",
    "\n",
    "for feature in df.select_dtypes('number').columns:\n",
    "    index += 1\n",
    "    plt.subplot(2, 3, index)\n",
    "    sns.boxplot(x=feature, data=df)\n",
    "    plt.ticklabel_format(style='plain', axis='x')"
   ]
  },
  {
   "cell_type": "markdown",
   "metadata": {},
   "source": [
    "**``Boxplots``** are a great way to summarize the distribution of a dataset. But they become increasingly inaccurate when the size of a dataset grows. Therefore, **``Letter-Value Plots``** (or boxenplots) have been developed to overcome the problem of an inaccurate representation of outliers in boxplots.\n",
    "\n",
    "📝 **[Letter Value Plot — The Easy to Understand Boxplot for Large Datasets](https://towardsdatascience.com/letter-value-plot-the-easy-to-understand-boxplot-for-large-datasets-12d6c1279c97)**"
   ]
  },
  {
   "cell_type": "code",
   "execution_count": null,
   "metadata": {},
   "outputs": [],
   "source": [
    "index = 0\n",
    "plt.figure(figsize=(20, 10))\n",
    "\n",
    "for feature in df.select_dtypes('number').columns:\n",
    "    index += 1\n",
    "    plt.subplot(2, 3, index)\n",
    "    sns.boxenplot(x=feature, data=df)\n",
    "    plt.ticklabel_format(style='plain', axis='x')"
   ]
  },
  {
   "cell_type": "code",
   "execution_count": null,
   "metadata": {},
   "outputs": [],
   "source": [
    "df.describe()"
   ]
  },
  {
   "cell_type": "markdown",
   "metadata": {},
   "source": [
    "We can see that the Boxenplot gives us much more information about the tails of our dataset’s distribution. In the boxplot above, we can’t tell what the data looks like beyond some points of numerical features:\n",
    "\n",
    "For example, are people older than around 75 year-old extreme values/outliers❓ 🤔 \n",
    "\n",
    "According to boxplot and within the whiskers, it’s quite hard to grasp what’s going on as well. There’s a pretty big gap between the 75th percentile at the age of 47 and the maximum value at the age of 50.\n",
    "\n",
    "For example, are people working more than around 52 hours per week extreme values/outliers❓ 🤔 \n",
    "\n",
    "According to boxplot and within the whiskers, it seems that they are extreme values and someof them are candidates for being outliers. However, it’s quite hard to grasp and decide what they are exactly. There’s a pretty big gap between the 75th percentile and the maximum value and similary between the 25th percentile and the minimum value.\n",
    "\n",
    "With respect to working hours, the boxenplot, on the other hand, provides more insights in how the data is distributed beyond the quantiles. Contrary to the output of box plot, it can be assumed that there have been no extreme values. Moreover, we can see that the next box ends shortly after the 50 mark and hence is relatively short as compared to the following one. At the same time, the following box beginning approximately at the 50 and ending 60 marks is quite stretched, indicating that there’s a higher variance.\n",
    "\n",
    "To wrap up, interpreting boxenplots can be more straightforward. The concept of thicker boxes representing a bigger part of the total population is easier to comprehend and facilitates discussions. Hence, letter-value plots can often be a better choice when presenting data to your audiances."
   ]
  },
  {
   "cell_type": "markdown",
   "metadata": {
    "id": "CQ9PuUCZjwPa"
   },
   "source": [
    "## <p style=\"background-color:#9d4f8c; font-family:newtimeroman; color:#FFF9ED; font-size:175%; text-align:center; border-radius:10px 10px;\">Final Step to Make the Dataset Ready for ML Models</p>\n",
    "\n",
    "<a id=\"9\"></a>\n",
    "<a href=\"#toc\" class=\"btn btn-primary btn-sm\" role=\"button\" aria-pressed=\"true\" \n",
    "style=\"color:blue; background-color:#dfa8e4\" data-toggle=\"popover\">Content</a>"
   ]
  },
  {
   "cell_type": "markdown",
   "metadata": {
    "id": "slzCtnsnjwPa"
   },
   "source": [
    "### 1. Convert all features to numeric"
   ]
  },
  {
   "cell_type": "markdown",
   "metadata": {
    "id": "MvUDThmpjwPa"
   },
   "source": [
    "**Convert target feature (salary) to numeric (0 and 1) by using map function**"
   ]
  },
  {
   "cell_type": "code",
   "execution_count": null,
   "metadata": {
    "id": "vUfxwSktjwPa"
   },
   "outputs": [],
   "source": [
    "df[\"salary\"] = df.salary.map({\"<=50K\": 0, \">50K\": 1})\n",
    "df[\"salary\"]"
   ]
  },
  {
   "cell_type": "code",
   "execution_count": null,
   "metadata": {
    "id": "z6LPsuD5jwPb",
    "outputId": "bcf51a10-0721-49f4-fa6e-693976a0b134"
   },
   "outputs": [],
   "source": [
    "df.salary.value_counts(dropna=False)"
   ]
  },
  {
   "cell_type": "markdown",
   "metadata": {
    "id": "PsG-ZJftjwPb"
   },
   "source": [
    "**Convert all features to numeric by using get_dummies function**"
   ]
  },
  {
   "cell_type": "code",
   "execution_count": null,
   "metadata": {
    "id": "dSFOEr6ljwPb",
    "outputId": "f49cc4ac-8f1f-4eb6-97ce-d62925a10cea"
   },
   "outputs": [],
   "source": [
    "df_dummy = pd.get_dummies(df, drop_first=True)\n",
    "df_dummy"
   ]
  },
  {
   "cell_type": "code",
   "execution_count": null,
   "metadata": {
    "id": "A3rc-35QjwPb",
    "outputId": "350abbb8-2ff5-4e76-c870-e643b706e467"
   },
   "outputs": [],
   "source": [
    "df.shape"
   ]
  },
  {
   "cell_type": "code",
   "execution_count": null,
   "metadata": {
    "id": "XhpyqEdqjwPc",
    "outputId": "942d1075-1a51-4f54-c4b3-27e77f293bf0"
   },
   "outputs": [],
   "source": [
    "df_dummy.shape"
   ]
  },
  {
   "cell_type": "markdown",
   "metadata": {
    "id": "YjCbYLcxjwPc"
   },
   "source": [
    "### 2. Take a look at correlation between features by utilizing power of visualizing"
   ]
  },
  {
   "cell_type": "code",
   "execution_count": null,
   "metadata": {},
   "outputs": [],
   "source": [
    "# function for set text color of correlation values in Dataframes\n",
    "\n",
    "def color_correlation(val):\n",
    "    \"\"\"\n",
    "    Takes a scalar and returns a string with the css property in a variety of color scales \n",
    "    for different correlations.\n",
    "    \"\"\"\n",
    "   \n",
    "    if val >= 0.6 and val < 0.99999 or val <= -0.6 and val > -0.99999:\n",
    "        color = 'red'\n",
    "    elif val < 0.6 and val >= 0.3 or val > -0.6 and val <= -0.3:\n",
    "        color = 'blue'\n",
    "    elif val < 0.3 and val > -0.3:\n",
    "        color = 'pink'        \n",
    "    elif val == 1:\n",
    "        color = 'cyan'    \n",
    "    else:\n",
    "        color = 'black'\n",
    "    return 'color: %s' % color\n",
    "        \n",
    "df_dummy.corr().style.applymap(color_correlation).set_precision(2)"
   ]
  },
  {
   "cell_type": "code",
   "execution_count": null,
   "metadata": {
    "id": "Vp4403w-jwPc",
    "outputId": "aa5092e1-f2ca-43ae-d65e-5533d30abad8",
    "scrolled": false
   },
   "outputs": [],
   "source": [
    "plt.figure(figsize=(20, 20))\n",
    "\n",
    "sns.heatmap(df_dummy.corr().round(2), annot=True, cmap=\"YlGnBu\");"
   ]
  },
  {
   "cell_type": "code",
   "execution_count": null,
   "metadata": {},
   "outputs": [],
   "source": [
    "# 'salary' column whose location will be changed to the last position\n",
    "target_column = df_dummy.pop('salary')\n",
    "  \n",
    "# insert column using insert(position,column_name, target_column) method\n",
    "df_dummy.insert(33, 'salary', target_column)"
   ]
  },
  {
   "cell_type": "code",
   "execution_count": null,
   "metadata": {},
   "outputs": [],
   "source": [
    "df_dummy.columns"
   ]
  },
  {
   "cell_type": "code",
   "execution_count": null,
   "metadata": {},
   "outputs": [],
   "source": [
    "plt.figure(figsize=(20, 20))\n",
    "\n",
    "sns.heatmap(df_dummy.corr().round(2), annot=True, cmap=\"YlGnBu\");"
   ]
  },
  {
   "cell_type": "code",
   "execution_count": null,
   "metadata": {
    "id": "iu_4kBKYjwPc",
    "outputId": "7dfd9924-be35-4581-d8ed-d2fda17ecf8d"
   },
   "outputs": [],
   "source": [
    "df_dummy_corr_salary = df_dummy.corr()[[\"salary\"]].drop(\"salary\").sort_values(by=\"salary\", ascending=False)\n",
    "df_dummy_corr_salary"
   ]
  },
  {
   "cell_type": "code",
   "execution_count": null,
   "metadata": {
    "id": "ds5JaIomjwPc",
    "outputId": "55c88575-af9b-4c4f-a54f-52165e7fc474"
   },
   "outputs": [],
   "source": [
    "plt.figure(figsize = (3, 9))\n",
    "sns.heatmap(df_dummy_corr_salary, \n",
    "            annot=True, \n",
    "            cmap=\"YlGnBu\", \n",
    "            vmin=-1, \n",
    "            vmax=1, \n",
    "            annot_kws={\"size\": 11}, \n",
    "            cbar_kws={'shrink': 1})\n",
    "plt.show()"
   ]
  },
  {
   "cell_type": "code",
   "execution_count": null,
   "metadata": {},
   "outputs": [],
   "source": [
    "plt.figure(figsize = (10, 14))\n",
    "\n",
    "ax = sns.barplot(x=df_dummy_corr_salary.values.flatten(), y=df_dummy_corr_salary.index, palette='plasma')\n",
    "\n",
    "for container in ax.containers:\n",
    "    ax.bar_label(container, fmt=\"%.2f\", fontsize=12);"
   ]
  },
  {
   "cell_type": "code",
   "execution_count": null,
   "metadata": {
    "id": "CrjMAwISjwPd",
    "outputId": "905cb7ea-1126-43d8-8bca-5f550264fcb0"
   },
   "outputs": [],
   "source": [
    "# Alternative Code Block for Plotting the Correlation of Dummied Variables with \"salary\" Feature\n",
    "\n",
    "# plt.figure(figsize = (10, 14))\n",
    "\n",
    "# ax = df_dummy.corr()[\"salary\"].drop(\"salary\").sort_values().plot(kind='barh', colormap='Paired')\n",
    "\n",
    "# for container in ax.containers:\n",
    "#     ax.bar_label(container, fmt=\"%.2f\", fontsize=12);"
   ]
  },
  {
   "cell_type": "code",
   "execution_count": null,
   "metadata": {},
   "outputs": [],
   "source": [
    "df_dummy.to_csv(\"adult_dummy.csv\", index=False)"
   ]
  },
  {
   "cell_type": "code",
   "execution_count": null,
   "metadata": {},
   "outputs": [],
   "source": [
    "pd.read_csv('adult_dummy.csv')"
   ]
  }
 ],
 "metadata": {
  "colab": {
   "collapsed_sections": [
    "3QuB60ZKjwOM",
    "tRENVPjsjwOO",
    "FWVwlGMnjwOO",
    "O-WjXfO7jwOQ",
    "UVjAplv8jwOQ",
    "HOIESqNjjwOT",
    "6MCscpw1jwOV",
    "9Xgur7CdjwOY",
    "x6Q6OxR6jwOa",
    "jWt2NRMNjwOd",
    "KoqL-m8HjwOd",
    "r2MBtjItjwOd",
    "vqWCeRBujwOr",
    "ZjfFoHZTjwOx",
    "KxHaqS4mjwO2",
    "eoAUdH20jwO6",
    "-atLCuBJjwO8",
    "Q1AO-wkrjwO_",
    "aQo2OjRBjwPE",
    "4Nzi2KokjwPE",
    "Atr3vfcKjwPF",
    "7CvSp9f7jwPF",
    "F7sK9___jwPG",
    "7qqMjUE9jwPG",
    "R5sVvHBYjwPH",
    "tct5KTULjwPH",
    "-_TS1bdWjwPH",
    "OqhEXvvtjwPJ",
    "A96k9zQ-jwPJ",
    "9s-OW2OwjwPR",
    "vlBdLCMhjwPT",
    "HE-2lkvajwPV",
    "CQ9PuUCZjwPa",
    "slzCtnsnjwPa",
    "YjCbYLcxjwPc",
    "II2iQLeCjwPd"
   ],
   "name": "DAwPy (EDA Project- (Analyze US Citizens))-Solution.ipynb",
   "provenance": []
  },
  "kernelspec": {
   "display_name": "Python 3 (ipykernel)",
   "language": "python",
   "name": "python3"
  },
  "language_info": {
   "codemirror_mode": {
    "name": "ipython",
    "version": 3
   },
   "file_extension": ".py",
   "mimetype": "text/x-python",
   "name": "python",
   "nbconvert_exporter": "python",
   "pygments_lexer": "ipython3",
   "version": "3.11.5"
  },
  "toc": {
   "base_numbering": 1,
   "nav_menu": {},
   "number_sections": false,
   "sideBar": true,
   "skip_h1_title": false,
   "title_cell": "Table of Contents",
   "title_sidebar": "Contents",
   "toc_cell": false,
   "toc_position": {
    "height": "calc(100% - 180px)",
    "left": "10px",
    "top": "150px",
    "width": "304.475px"
   },
   "toc_section_display": true,
   "toc_window_display": true
  }
 },
 "nbformat": 4,
 "nbformat_minor": 1
}
